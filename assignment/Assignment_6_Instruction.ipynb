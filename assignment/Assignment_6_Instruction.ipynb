{
  "cells": [
    {
      "cell_type": "markdown",
      "metadata": {
        "id": "view-in-github",
        "colab_type": "text"
      },
      "source": [
        "<a href=\"https://colab.research.google.com/github/Ziqi-Li/GEO4162C/blob/spring-24/assignment/Assignment_6_Instruction.ipynb\" target=\"_parent\"><img src=\"https://colab.research.google.com/assets/colab-badge.svg\" alt=\"Open In Colab\"/></a>"
      ]
    },
    {
      "cell_type": "markdown",
      "source": [
        "# Assignment 6\n",
        "\n",
        "**Due date/time:** April 17 Wed 23:59pm\n",
        "\n",
        "**Instruction**: Make a copy of this notebook and read through the questions and descriptions. Write down code/text to perform the analysis.\n",
        "\n",
        "**Submission**: After you finish working on this notebook, click File->Download->Download .ipynb\n",
        "\n",
        "Please submit a notebook named A6_your_name.ipynb on Canvas."
      ],
      "metadata": {
        "id": "VojlDKlW7NwS"
      }
    },
    {
      "cell_type": "markdown",
      "source": [
        "## Background\n",
        "\n",
        "In this assignment, we will practice how to build a linear regerssion model to predict/explian a dependent variable with multiple independent vairbales.\n",
        "\n",
        "\n",
        "Here are the steps you need to follow:\n",
        "1. Get the health data from `https://raw.githubusercontent.com/Ziqi-Li/GEO4162C/main/data/cdc_health_county.csv`, and create a DataFrame `health_df`. (5%)\n",
        "2. Get the socio-economic data from `https://raw.githubusercontent.com/Ziqi-Li/GEO4162C/main/data/acs_2019.csv` and create a DataFrame named `socio_df`. (5%)\n",
        "3. Join the two DataFrames together using a common key. The key in `health_df` is `LocationID` and the key in `socio_df` is `county_id`. Hint: Use the function `combined_df = pd.merge(df1,df2,left_on=\"key1\",right_on=\"key2\")`. (10%)\n",
        "4. Perform linear regression analysis on `combined_df`, using `statsmodels` by choosing **one** dependent variable in `health_df`, and **three** independent variables in `socio_df`. (20%)\n",
        "5. Report and interpret your linear regression results  regarding your model R2, regression coefficients, and statistical significance of the coefficients. (40%)\n",
        "6. Create 1) a residual vs. fit plot and 2) a Q-Q plot to check the model residual assumptions. Descibe why we need to make the two plots, and do your plots meet the assumptions and what are the assumptions? (20%)\n"
      ],
      "metadata": {
        "id": "IZ1rGZ_JG-aR"
      }
    },
    {
      "cell_type": "markdown",
      "source": [
        "Columns in `acs_2019.csv`:\n",
        "- county_id: unique county ID (FIPS/GEOID)\n",
        "- total_pop: total population  \n",
        "- sex_ratio: the ratio of males/females * 100\n",
        "- pct_black: Percentage of Black\n",
        "- pct_hisp: % of Hispanic\n",
        "- pct_bach: % of Bachelor’s degree or higher\n",
        "- median_income: Median household income\n",
        "- pct_65_over: % of people age 65 or older\n",
        "- pct_age_18_29: % of people age between 18-29\n",
        "- gini: GINI coefficient\n",
        "- pct_manuf: % of people work in the manufacturing sector\n",
        "- ln_pop_den: Log of the population density\n",
        "- pct_fb: % of people are foreign born\n",
        "- pct_uninsured: % of people without health insurance.\n",
        "\n",
        "\n",
        "This dataset was retrieved from American Community Survey 2015-2019 5-year estimate."
      ],
      "metadata": {
        "id": "_X5gKZi0PZcH"
      }
    },
    {
      "cell_type": "markdown",
      "source": [
        "Columns in `cdc_health_county.csv`, all displayed as rate (%):\n",
        "\n",
        "- ARTHRITIS: Arthritis among adults aged >=18 years\n",
        "- BINGE: Binge drinking among adults aged >=18 years\n",
        "- CANCER: Cancer (excluding skin cancer) among adults aged >=18 years\n",
        "- CASTHMA: Current asthma among adults aged >=18 years\n",
        "- CHD: Coronary heart disease among adults aged >=18 years\n",
        "- CHECKUP: Visits to doctor for routine checkup within the past year among adults aged >=18 years\n",
        "- COLON_SCREEN: Colorectal Cancer Screening\n",
        "- CSMOKING: Current smoking among adults aged >=18 years\n",
        "- DENTAL: Visits to dentist or dental clinic among adults aged >=18 years\n",
        "- DIABETES: Diagnosed diabetes among adults aged >=18 years\n",
        "- KIDNEY: Chronic kidney disease among adults aged >=18 years\n",
        "- MHLTH: Mental health not good for >=14 days among adults aged >=18 years\n",
        "- OBESITY: Obesity among adults aged >=18 years\n",
        "- PHLTH: Physical health not good for >=14 days among adults aged >=18 years\n",
        "- SLEEP: Sleeping less than 7 hours among adults aged >=18 years\n",
        "- STROKE: Stroke among adults aged >=18 years\n",
        "- TEETHLOST: All teeth lost among adults aged >=65 years"
      ],
      "metadata": {
        "id": "XeGv36-yQBuE"
      }
    },
    {
      "cell_type": "code",
      "source": [
        "import pandas as pd\n",
        "import statsmodels as sm\n",
        "import matplotlib.pyplot as plt"
      ],
      "metadata": {
        "id": "AxoFmJ-9G6dv"
      },
      "execution_count": null,
      "outputs": []
    },
    {
      "cell_type": "code",
      "source": [
        "health_df = pd.read_csv(\"\")"
      ],
      "metadata": {
        "id": "PNsHyyWaIwh0"
      },
      "execution_count": null,
      "outputs": []
    },
    {
      "cell_type": "code",
      "source": [
        "socio_df = pd.read_csv(\"\")"
      ],
      "metadata": {
        "id": "Ln4q3p-mIwkF"
      },
      "execution_count": null,
      "outputs": []
    },
    {
      "cell_type": "markdown",
      "source": [
        "Replace `df1`, `df2` and `key1` and `key2` in the below function to join the two dataframes above."
      ],
      "metadata": {
        "id": "90maelcQSZwP"
      }
    },
    {
      "cell_type": "code",
      "source": [
        "combined_df = pd.merge(df1,df2,left_on=\"key1\",right_on=\"key2\")"
      ],
      "metadata": {
        "id": "VFkjKn9IIwtH"
      },
      "execution_count": null,
      "outputs": []
    },
    {
      "cell_type": "code",
      "source": [],
      "metadata": {
        "id": "chRdRJH8SV0r"
      },
      "execution_count": null,
      "outputs": []
    },
    {
      "cell_type": "code",
      "source": [],
      "metadata": {
        "id": "60MVILozSV28"
      },
      "execution_count": null,
      "outputs": []
    },
    {
      "cell_type": "code",
      "source": [],
      "metadata": {
        "id": "EWnUpacoSV5O"
      },
      "execution_count": null,
      "outputs": []
    },
    {
      "cell_type": "code",
      "source": [],
      "metadata": {
        "id": "L1UF9ZvYSV7w"
      },
      "execution_count": null,
      "outputs": []
    },
    {
      "cell_type": "code",
      "source": [],
      "metadata": {
        "id": "08QDj5LAIwxp"
      },
      "execution_count": null,
      "outputs": []
    },
    {
      "cell_type": "code",
      "source": [],
      "metadata": {
        "id": "WOPcTT_PIwzz"
      },
      "execution_count": null,
      "outputs": []
    },
    {
      "cell_type": "code",
      "source": [],
      "metadata": {
        "id": "sJXEMrlB6kBI"
      },
      "execution_count": null,
      "outputs": []
    }
  ],
  "metadata": {
    "kernelspec": {
      "display_name": "Python 3",
      "language": "python",
      "name": "python3"
    },
    "language_info": {
      "codemirror_mode": {
        "name": "ipython",
        "version": 3
      },
      "file_extension": ".py",
      "mimetype": "text/x-python",
      "name": "python",
      "nbconvert_exporter": "python",
      "pygments_lexer": "ipython3",
      "version": "3.7.6"
    },
    "colab": {
      "provenance": [],
      "include_colab_link": true
    }
  },
  "nbformat": 4,
  "nbformat_minor": 0
}