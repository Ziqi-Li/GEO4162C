{
  "nbformat": 4,
  "nbformat_minor": 0,
  "metadata": {
    "colab": {
      "provenance": []
    },
    "kernelspec": {
      "name": "python3",
      "display_name": "Python 3"
    },
    "language_info": {
      "name": "python"
    }
  },
  "cells": [
    {
      "cell_type": "code",
      "source": [
        "import shapely"
      ],
      "metadata": {
        "id": "BFcdcqsKt6pF"
      },
      "execution_count": 1,
      "outputs": []
    },
    {
      "cell_type": "markdown",
      "source": [
        "## Define two points"
      ],
      "metadata": {
        "id": "6QaFmWO4v4XZ"
      }
    },
    {
      "cell_type": "code",
      "source": [
        "point1 = shapely.geometry.Point(2.2, 4.2)\n",
        "\n",
        "point2 = shapely.geometry.Point(7.2, -25.1)"
      ],
      "metadata": {
        "id": "33lTgUBiuJgm"
      },
      "execution_count": 2,
      "outputs": []
    },
    {
      "cell_type": "markdown",
      "source": [
        "The \"=\" sign means assigning the value (right) to the variable (right).\n",
        "\n",
        "You can give any name as your variable but it has to start with a letter and no space.\n",
        "\n",
        "More can be found here: https://www.w3schools.com/python/gloss_python_variable_names.asp"
      ],
      "metadata": {
        "id": "k4RwJ02NweM3"
      }
    },
    {
      "cell_type": "markdown",
      "source": [
        "## Calculate distance between point1 and point2"
      ],
      "metadata": {
        "id": "cvmxX9s3wHvz"
      }
    },
    {
      "cell_type": "code",
      "source": [
        "point1.distance(point2)"
      ],
      "metadata": {
        "colab": {
          "base_uri": "https://localhost:8080/"
        },
        "id": "2Syu4pqOwLOE",
        "outputId": "fe0b8ce5-8250-4455-8560-217292337f33"
      },
      "execution_count": 3,
      "outputs": [
        {
          "output_type": "execute_result",
          "data": {
            "text/plain": [
              "29.723559679150142"
            ]
          },
          "metadata": {},
          "execution_count": 3
        }
      ]
    },
    {
      "cell_type": "markdown",
      "source": [
        "## Define a line with three points"
      ],
      "metadata": {
        "id": "VnXxL6QHwpXw"
      }
    },
    {
      "cell_type": "code",
      "source": [
        "point3 = shapely.geometry.Point(10.23, -5.456)\n",
        "\n",
        "myLine = shapely.geometry.LineString([point1, point2, point3])"
      ],
      "metadata": {
        "id": "_b4I678YwLlR"
      },
      "execution_count": 4,
      "outputs": []
    },
    {
      "cell_type": "code",
      "source": [
        "myLine"
      ],
      "metadata": {
        "colab": {
          "base_uri": "https://localhost:8080/",
          "height": 121
        },
        "id": "Co_DkcPZwwRm",
        "outputId": "e5076579-1c4e-4db3-884d-bc17774b1470"
      },
      "execution_count": 5,
      "outputs": [
        {
          "output_type": "execute_result",
          "data": {
            "text/plain": [
              "<LINESTRING (2.2 4.2, 7.2 -25.1, 10.23 -5.456)>"
            ],
            "image/svg+xml": "<svg xmlns=\"http://www.w3.org/2000/svg\" xmlns:xlink=\"http://www.w3.org/1999/xlink\" width=\"100.0\" height=\"100.0\" viewBox=\"1.028 -26.272000000000002 10.374 31.644000000000002\" preserveAspectRatio=\"xMinYMin meet\"><g transform=\"matrix(1,0,0,-1,0,-20.900000000000002)\"><polyline fill=\"none\" stroke=\"#66cc99\" stroke-width=\"0.63288\" points=\"2.2,4.2 7.2,-25.1 10.23,-5.456\" opacity=\"0.8\" /></g></svg>"
          },
          "metadata": {},
          "execution_count": 5
        }
      ]
    },
    {
      "cell_type": "markdown",
      "source": [
        "A line has many properties such as its length."
      ],
      "metadata": {
        "id": "PnbOns08xaT-"
      }
    },
    {
      "cell_type": "code",
      "source": [
        "myLine.length"
      ],
      "metadata": {
        "colab": {
          "base_uri": "https://localhost:8080/"
        },
        "id": "0TI0PygexTBz",
        "outputId": "ed8c83fe-0c6e-4c95-a2cb-e6cefb767f7a"
      },
      "execution_count": 6,
      "outputs": [
        {
          "output_type": "execute_result",
          "data": {
            "text/plain": [
              "49.59986808891276"
            ]
          },
          "metadata": {},
          "execution_count": 6
        }
      ]
    },
    {
      "cell_type": "markdown",
      "source": [
        "## Define a polygon with four points (vertices)"
      ],
      "metadata": {
        "id": "TLXw8-h1xruk"
      }
    },
    {
      "cell_type": "code",
      "source": [
        "point4 = shapely.geometry.Point(5.0, 6.0)"
      ],
      "metadata": {
        "id": "mM4CpbOhxsDz"
      },
      "execution_count": 7,
      "outputs": []
    },
    {
      "cell_type": "code",
      "source": [
        "myPolygon = shapely.geometry.Polygon([point1, point2, point3, point4])"
      ],
      "metadata": {
        "id": "IlNR13tayQc9"
      },
      "execution_count": 8,
      "outputs": []
    },
    {
      "cell_type": "code",
      "source": [
        "myPolygon"
      ],
      "metadata": {
        "colab": {
          "base_uri": "https://localhost:8080/",
          "height": 121
        },
        "id": "raKGojcAybDu",
        "outputId": "a77ce43b-624a-4e4d-9229-d9f61772a4e0"
      },
      "execution_count": 9,
      "outputs": [
        {
          "output_type": "execute_result",
          "data": {
            "text/plain": [
              "<POLYGON ((2.2 4.2, 7.2 -25.1, 10.23 -5.456, 5 6, 2.2 4.2))>"
            ],
            "image/svg+xml": "<svg xmlns=\"http://www.w3.org/2000/svg\" xmlns:xlink=\"http://www.w3.org/1999/xlink\" width=\"100.0\" height=\"100.0\" viewBox=\"0.9560000000000002 -26.344 10.518 33.588\" preserveAspectRatio=\"xMinYMin meet\"><g transform=\"matrix(1,0,0,-1,0,-19.1)\"><path fill-rule=\"evenodd\" fill=\"#66cc99\" stroke=\"#555555\" stroke-width=\"0.67176\" opacity=\"0.6\" d=\"M 2.2,4.2 L 7.2,-25.1 L 10.23,-5.456 L 5.0,6.0 L 2.2,4.2 z\" /></g></svg>"
          },
          "metadata": {},
          "execution_count": 9
        }
      ]
    },
    {
      "cell_type": "markdown",
      "source": [
        "A polygon has properties such as its area."
      ],
      "metadata": {
        "id": "9r0fF5VSyqXA"
      }
    },
    {
      "cell_type": "code",
      "source": [
        "myPolygon.area"
      ],
      "metadata": {
        "colab": {
          "base_uri": "https://localhost:8080/"
        },
        "id": "2vpqo0YYyh_1",
        "outputId": "e5bca466-7778-48ef-b09f-0ece4bd0e9de"
      },
      "execution_count": 10,
      "outputs": [
        {
          "output_type": "execute_result",
          "data": {
            "text/plain": [
              "114.24490000000003"
            ]
          },
          "metadata": {},
          "execution_count": 10
        }
      ]
    },
    {
      "cell_type": "markdown",
      "source": [
        "How about its centroid?"
      ],
      "metadata": {
        "id": "d3p5vaBozZHP"
      }
    },
    {
      "cell_type": "code",
      "source": [
        "myPolygon.centroid"
      ],
      "metadata": {
        "colab": {
          "base_uri": "https://localhost:8080/",
          "height": 121
        },
        "id": "LTEyyM8By_QG",
        "outputId": "f645dd6f-daa0-4c27-b132-c24926a7e446"
      },
      "execution_count": 11,
      "outputs": [
        {
          "output_type": "execute_result",
          "data": {
            "text/plain": [
              "<POINT (6.41 -6.903)>"
            ],
            "image/svg+xml": "<svg xmlns=\"http://www.w3.org/2000/svg\" xmlns:xlink=\"http://www.w3.org/1999/xlink\" width=\"100.0\" height=\"100.0\" viewBox=\"5.4101694605185875 -7.902880403997612 2.0 2.0\" preserveAspectRatio=\"xMinYMin meet\"><g transform=\"matrix(1,0,0,-1,0,-13.805760807995224)\"><circle cx=\"6.4101694605185875\" cy=\"-6.902880403997612\" r=\"0.06\" stroke=\"#555555\" stroke-width=\"0.02\" fill=\"#66cc99\" opacity=\"0.6\" /></g></svg>"
          },
          "metadata": {},
          "execution_count": 11
        }
      ]
    },
    {
      "cell_type": "markdown",
      "source": [
        "If we need to know its coordiates"
      ],
      "metadata": {
        "id": "T2smn5hozfUG"
      }
    },
    {
      "cell_type": "code",
      "source": [
        "myPolygon.centroid.x"
      ],
      "metadata": {
        "colab": {
          "base_uri": "https://localhost:8080/"
        },
        "id": "xjKcZIq3zb_M",
        "outputId": "4dec5672-ab3f-4c46-cf45-2247f38b4fd9"
      },
      "execution_count": 12,
      "outputs": [
        {
          "output_type": "execute_result",
          "data": {
            "text/plain": [
              "6.4101694605185875"
            ]
          },
          "metadata": {},
          "execution_count": 12
        }
      ]
    },
    {
      "cell_type": "code",
      "source": [
        "myPolygon.centroid.y"
      ],
      "metadata": {
        "colab": {
          "base_uri": "https://localhost:8080/"
        },
        "id": "oP0XTAqFzeDv",
        "outputId": "0c14555f-9040-47d5-f25f-1df9771c5f11"
      },
      "execution_count": 13,
      "outputs": [
        {
          "output_type": "execute_result",
          "data": {
            "text/plain": [
              "-6.902880403997612"
            ]
          },
          "metadata": {},
          "execution_count": 13
        }
      ]
    },
    {
      "cell_type": "markdown",
      "source": [
        "How do we know what functions/properties are available and what are not?\n",
        "\n",
        "Check the documents: https://shapely.readthedocs.io/en/latest/geometry.html\n",
        "\n"
      ],
      "metadata": {
        "id": "_E3nMOsDBmpE"
      }
    },
    {
      "cell_type": "code",
      "source": [],
      "metadata": {
        "id": "vfOG4hDdBjBT"
      },
      "execution_count": 13,
      "outputs": []
    },
    {
      "cell_type": "code",
      "source": [],
      "metadata": {
        "id": "OE2sAdvmzdcJ"
      },
      "execution_count": 13,
      "outputs": []
    }
  ]
}