{
  "cells": [
    {
      "cell_type": "markdown",
      "metadata": {
        "id": "view-in-github",
        "colab_type": "text"
      },
      "source": [
        "<a href=\"https://colab.research.google.com/github/Ziqi-Li/GEO4162C/blob/spring-24/notebooks/set_covering.ipynb\" target=\"_parent\"><img src=\"https://colab.research.google.com/assets/colab-badge.svg\" alt=\"Open In Colab\"/></a>"
      ]
    },
    {
      "cell_type": "markdown",
      "metadata": {
        "id": "3C6ZZ2rkZzu9"
      },
      "source": [
        "### Spatial Optimization (2): Set Covering Problem"
      ]
    },
    {
      "cell_type": "markdown",
      "metadata": {
        "id": "bSPibJC7Zzu-"
      },
      "source": [
        "In this model, a facility can serve all demand nodes that are within a given coverage distance ***Dc*** from the facility. The problem is the place the **minimum** number of facilities so as to ensure that all demand nodes can be served. We assume there are no capacity constraints at the facilities.\n",
        "\n",
        "\n",
        "**Objective function:** Minimizing the number of placed facilities\n",
        "\n",
        "**Decision variables:** where to put the facilities and which demand nodes are serviced by which facility location\n",
        "\n",
        "**Constraints:**\n",
        "- Every demand node i needs to be served by at least 1 facility\n",
        "- A node can be serviced by a facility at a certain location if the facility is within ***Dc*** distance\n",
        "- Each node is either a facility or not\n",
        "\n",
        "Refer to pg. 28 in the lecture slide.\n",
        "\n",
        "In this example, we consider a more complicated scenario: when there are already exisiting facilities which cover some locations, where should we place **additional** facilities to meet the coverage requirement? This will involve two steps:\n",
        "1. Find locations that are not covered\n",
        "2. Locate new facilities only to cover uncovered locations using spatial optimization"
      ]
    },
    {
      "cell_type": "code",
      "source": [
        "pip install -q pulp"
      ],
      "metadata": {
        "id": "ld5F9Ni-Z1c4"
      },
      "execution_count": 1,
      "outputs": []
    },
    {
      "cell_type": "code",
      "execution_count": 2,
      "metadata": {
        "id": "5Bj9kcADZzu_"
      },
      "outputs": [],
      "source": [
        "from pulp import *\n",
        "import numpy as np\n",
        "import geopandas as gp\n",
        "import pandas as pd\n",
        "from scipy.spatial.distance import cdist\n",
        "\n",
        "import matplotlib.pyplot as plt"
      ]
    },
    {
      "cell_type": "code",
      "execution_count": 3,
      "metadata": {
        "id": "9u877fuxZzvA"
      },
      "outputs": [],
      "source": [
        "#read a sample shapefile\n",
        "georgia_shp = gp.read_file(\"https://raw.githubusercontent.com/Ziqi-Li/GEO4162C/main/data/georgia/G_utm.shp\")"
      ]
    },
    {
      "cell_type": "code",
      "source": [
        "georgia_shp.shape"
      ],
      "metadata": {
        "colab": {
          "base_uri": "https://localhost:8080/"
        },
        "id": "rGdTLFQIaBhn",
        "outputId": "cac496dd-3537-4f2c-978a-c42997897a54"
      },
      "execution_count": 4,
      "outputs": [
        {
          "output_type": "execute_result",
          "data": {
            "text/plain": [
              "(172, 18)"
            ]
          },
          "metadata": {},
          "execution_count": 4
        }
      ]
    },
    {
      "cell_type": "markdown",
      "source": [
        "Consider we have two exisiting facilities that are located at county 10 and county 100."
      ],
      "metadata": {
        "id": "GNNIt5kMpJcU"
      }
    },
    {
      "cell_type": "code",
      "source": [
        "exisiting_fac = [10,100] #county 10 and 100 have facilities"
      ],
      "metadata": {
        "id": "BNG553uFnAC9"
      },
      "execution_count": 5,
      "outputs": []
    },
    {
      "cell_type": "code",
      "source": [
        "#Plot the faclities (stars) on top of the demand map.\n",
        "fig, ax = plt.subplots(figsize=(5,5))\n",
        "\n",
        "georgia_shp.centroid.plot(ax=ax)\n",
        "georgia_shp.iloc[exisiting_fac,:].centroid.plot(ax=ax,color=\"black\",markersize=300,marker=\"*\")"
      ],
      "metadata": {
        "id": "TVey60msmwWF",
        "outputId": "85c2135d-363f-4edb-b710-88ec79f6cee9",
        "colab": {
          "base_uri": "https://localhost:8080/",
          "height": 496
        }
      },
      "execution_count": 6,
      "outputs": [
        {
          "output_type": "execute_result",
          "data": {
            "text/plain": [
              "<Axes: >"
            ]
          },
          "metadata": {},
          "execution_count": 6
        },
        {
          "output_type": "display_data",
          "data": {
            "text/plain": [
              "<Figure size 500x500 with 1 Axes>"
            ],
            "image/png": "[encoded data removed]"
          },
          "metadata": {}
        }
      ]
    },
    {
      "cell_type": "code",
      "execution_count": 7,
      "metadata": {
        "id": "MMTWqimWZzvA"
      },
      "outputs": [],
      "source": [
        "#Calculate a distance matrix d_ij (n by n)\n",
        "coords = list(zip(georgia_shp.centroid.x,georgia_shp.centroid.y))\n",
        "\n",
        "d = cdist(coords,coords)"
      ]
    },
    {
      "cell_type": "markdown",
      "source": [
        "If we are interested in having an 100km coverage, that is to ensure all locations travel to faclities no further than 100km."
      ],
      "metadata": {
        "id": "ETNavH4rpT7i"
      }
    },
    {
      "cell_type": "code",
      "source": [
        "# Threshold coverage distance\n",
        "Dc = 100000 #100km coverage, change this and re run the code."
      ],
      "metadata": {
        "id": "-Xr_zfIlnOR2"
      },
      "execution_count": 8,
      "outputs": []
    },
    {
      "cell_type": "markdown",
      "source": [
        "Examine the distance matrix to find out which locations are already been covered by facility 10 and 100?"
      ],
      "metadata": {
        "id": "p80JUuXbpidm"
      }
    },
    {
      "cell_type": "code",
      "source": [
        "d[10,:] <= Dc"
      ],
      "metadata": {
        "id": "odq1FKAKpue7",
        "outputId": "50f2537e-7bd4-413c-f28e-7fc52fa754d4",
        "colab": {
          "base_uri": "https://localhost:8080/"
        }
      },
      "execution_count": 9,
      "outputs": [
        {
          "output_type": "execute_result",
          "data": {
            "text/plain": [
              "array([ True,  True,  True,  True, False, False, False, False, False,\n",
              "        True,  True,  True,  True,  True, False,  True, False, False,\n",
              "        True,  True,  True,  True,  True,  True, False,  True,  True,\n",
              "        True,  True,  True, False,  True,  True, False,  True, False,\n",
              "       False,  True, False, False,  True, False,  True, False, False,\n",
              "       False, False, False, False, False, False, False, False, False,\n",
              "       False, False, False, False, False, False, False, False, False,\n",
              "       False, False, False, False, False, False, False, False, False,\n",
              "       False, False, False, False, False, False, False, False, False,\n",
              "       False, False, False, False, False, False, False, False, False,\n",
              "       False, False, False, False, False, False, False, False, False,\n",
              "       False, False, False, False, False, False, False, False, False,\n",
              "       False, False, False, False, False, False, False, False, False,\n",
              "       False, False, False, False, False, False, False, False, False,\n",
              "       False, False, False, False, False, False, False, False, False,\n",
              "       False, False, False, False, False, False, False, False, False,\n",
              "       False, False, False, False, False, False, False, False, False,\n",
              "       False, False, False, False, False, False, False, False, False,\n",
              "       False, False, False, False, False, False, False, False, False,\n",
              "       False])"
            ]
          },
          "metadata": {},
          "execution_count": 9
        }
      ]
    },
    {
      "cell_type": "code",
      "source": [
        "d[100,:] <= Dc"
      ],
      "metadata": {
        "id": "IePB6ssapfSZ",
        "outputId": "9e4a6c89-366d-41b0-88ec-a172cb0c80c4",
        "colab": {
          "base_uri": "https://localhost:8080/"
        }
      },
      "execution_count": 10,
      "outputs": [
        {
          "output_type": "execute_result",
          "data": {
            "text/plain": [
              "array([False, False, False, False, False, False, False, False, False,\n",
              "       False, False, False, False, False, False, False, False, False,\n",
              "       False, False, False, False, False, False, False, False, False,\n",
              "       False, False, False, False, False, False, False, False, False,\n",
              "       False, False, False, False, False, False, False, False, False,\n",
              "       False, False, False, False, False, False, False, False, False,\n",
              "       False, False, False, False, False, False, False, False, False,\n",
              "       False, False, False, False,  True,  True,  True, False,  True,\n",
              "       False, False,  True, False, False, False, False, False,  True,\n",
              "        True,  True, False, False,  True,  True, False,  True, False,\n",
              "       False,  True, False,  True, False, False, False,  True,  True,\n",
              "       False,  True, False, False, False, False, False,  True, False,\n",
              "        True,  True,  True,  True,  True,  True, False, False, False,\n",
              "       False, False, False, False,  True, False,  True,  True, False,\n",
              "       False,  True,  True, False,  True, False, False, False, False,\n",
              "        True, False, False,  True,  True,  True, False, False, False,\n",
              "        True, False, False, False, False, False, False, False, False,\n",
              "       False, False, False, False, False, False, False, False, False,\n",
              "       False, False, False, False, False, False, False, False, False,\n",
              "       False])"
            ]
          },
          "metadata": {},
          "execution_count": 10
        }
      ]
    },
    {
      "cell_type": "markdown",
      "source": [
        "Make a map showing exisiting covered locations in orange"
      ],
      "metadata": {
        "id": "W0TtzYlLpzBo"
      }
    },
    {
      "cell_type": "code",
      "source": [
        "fig, ax = plt.subplots(figsize=(5,5))\n",
        "\n",
        "georgia_shp.centroid.plot(ax=ax)\n",
        "\n",
        "georgia_shp.iloc[d[10,:] <=Dc,:].plot(ax=ax,color=\"orange\")\n",
        "georgia_shp.iloc[d[100,:] <=Dc,:].plot(ax=ax,color=\"orange\")\n",
        "\n",
        "georgia_shp.iloc[exisiting_fac,:].centroid.plot(ax=ax,color=\"red\",markersize=300,marker=\"*\")"
      ],
      "metadata": {
        "id": "MUE7skwFnLEw",
        "outputId": "860b3bdb-f210-4e15-a0ae-341f7a6d29c3",
        "colab": {
          "base_uri": "https://localhost:8080/",
          "height": 496
        }
      },
      "execution_count": 11,
      "outputs": [
        {
          "output_type": "execute_result",
          "data": {
            "text/plain": [
              "<Axes: >"
            ]
          },
          "metadata": {},
          "execution_count": 11
        },
        {
          "output_type": "display_data",
          "data": {
            "text/plain": [
              "<Figure size 500x500 with 1 Axes>"
            ],
            "image/png": "[encoded data removed]"
          },
          "metadata": {}
        }
      ]
    },
    {
      "cell_type": "markdown",
      "source": [
        "Now lets figure out locations that are not covered."
      ],
      "metadata": {
        "id": "zEMhbvgNp5c4"
      }
    },
    {
      "cell_type": "code",
      "source": [
        "df1 = georgia_shp.iloc[d[10,:] <= Dc,:]\n",
        "df2 = georgia_shp.iloc[d[100,:] <= Dc,:]\n",
        "\n",
        "covered = pd.concat([df1,df2]).drop_duplicates()"
      ],
      "metadata": {
        "id": "J1EzCV0SnocH"
      },
      "execution_count": 12,
      "outputs": []
    },
    {
      "cell_type": "markdown",
      "source": [
        "Here is a little trick to subset the un covered locations. Now all the further analysis will be performed based on this"
      ],
      "metadata": {
        "id": "c_rlbyykqmyq"
      }
    },
    {
      "cell_type": "code",
      "execution_count": 13,
      "metadata": {
        "id": "ivrhWF5DZzvB"
      },
      "outputs": [],
      "source": [
        "uncovered = georgia_shp[~georgia_shp.isin(covered)].dropna()"
      ]
    },
    {
      "cell_type": "code",
      "source": [
        "#create a demand and a facilities variable, indicating the indices of each demand and facility.\n",
        "#demand node: all counties\n",
        "#facility: we could build facilities in some counties\n",
        "\n",
        "demand = list(uncovered.index)\n",
        "facilities = list(uncovered.index)"
      ],
      "metadata": {
        "id": "A-kX6I2JoeN1"
      },
      "execution_count": 14,
      "outputs": []
    },
    {
      "cell_type": "code",
      "execution_count": 15,
      "metadata": {
        "id": "Q9t7oQBIZzvB"
      },
      "outputs": [],
      "source": [
        "#Creata a variable (alpha in the lecture slide pg.28), indicating  whether a node i can be covered by facility j.\n",
        "a = np.zeros(d.shape)\n",
        "a[d <= Dc] = 1\n",
        "a[d > Dc] = 0"
      ]
    },
    {
      "cell_type": "code",
      "execution_count": 15,
      "metadata": {
        "id": "OoqDdu26ZzvB"
      },
      "outputs": [],
      "source": []
    },
    {
      "cell_type": "code",
      "execution_count": 16,
      "metadata": {
        "id": "Q42C4u1jZzvB"
      },
      "outputs": [],
      "source": [
        "# declare facilities variables Xj\n",
        "X = LpVariable.dicts('X_%s',(facilities),cat='Binary')"
      ]
    },
    {
      "cell_type": "code",
      "execution_count": 17,
      "metadata": {
        "id": "X_8v1LgcZzvC"
      },
      "outputs": [],
      "source": [
        "#Create an minimization problem\n",
        "prob = LpProblem('Set_Covering', LpMinimize)"
      ]
    },
    {
      "cell_type": "code",
      "execution_count": 18,
      "metadata": {
        "id": "rm03-N5oZzvC"
      },
      "outputs": [],
      "source": [
        "# Objective function: we want to minimize the number of placed facilities\n",
        "prob += sum([X[j] for j in facilities])"
      ]
    },
    {
      "cell_type": "code",
      "execution_count": 19,
      "metadata": {
        "id": "JTG_rAMWZzvC"
      },
      "outputs": [],
      "source": [
        "# This constraint implies every demand node i needs to be served by at least 1 facility\n",
        "for i in demand:\n",
        "    prob += sum(a[i][j]*X[j] for j in facilities) >= 1\n"
      ]
    },
    {
      "cell_type": "code",
      "execution_count": 20,
      "metadata": {
        "colab": {
          "base_uri": "https://localhost:8080/"
        },
        "id": "Sm1J7C08ZzvD",
        "outputId": "f395cb78-83ca-4afb-8e22-9efdf8d75971"
      },
      "outputs": [
        {
          "output_type": "stream",
          "name": "stdout",
          "text": [
            "Status: Optimal\n",
            "CPU times: user 12.2 ms, sys: 4.7 ms, total: 16.9 ms\n",
            "Wall time: 34.7 ms\n"
          ]
        }
      ],
      "source": [
        "%%time\n",
        "# Solve the above problem\n",
        "prob.solve()\n",
        "\n",
        "print(\"Status:\", LpStatus[prob.status])"
      ]
    },
    {
      "cell_type": "code",
      "execution_count": 21,
      "metadata": {
        "colab": {
          "base_uri": "https://localhost:8080/"
        },
        "id": "6lu0zpT2ZzvD",
        "outputId": "fbe67198-65ca-4006-a57d-2536c1ae6b32"
      },
      "outputs": [
        {
          "output_type": "stream",
          "name": "stdout",
          "text": [
            "Objective:  6.0\n"
          ]
        }
      ],
      "source": [
        "# The minimal number of facilities with the defiened coverage.\n",
        "print(\"Objective: \",value(prob.objective))"
      ]
    },
    {
      "cell_type": "code",
      "execution_count": 22,
      "metadata": {
        "colab": {
          "base_uri": "https://localhost:8080/"
        },
        "id": "JpRe40ayZzvD",
        "outputId": "b37fe467-9ae0-42ba-af2c-837aa34bba57"
      },
      "outputs": [
        {
          "output_type": "stream",
          "name": "stdout",
          "text": [
            "Facility Node:  145\n",
            "Facility Node:  150\n",
            "Facility Node:  24\n",
            "Facility Node:  49\n",
            "Facility Node:  79\n",
            "Facility Node:  96\n"
          ]
        }
      ],
      "source": [
        "# Print the facility nodes.\n",
        "rslt = []\n",
        "for v in prob.variables():\n",
        "    subV = v.name.split('_')\n",
        "\n",
        "    if subV[0] == \"X\" and v.varValue == 1:\n",
        "        rslt.append(int(subV[1]))\n",
        "        print('Facility Node: ', subV[1])"
      ]
    },
    {
      "cell_type": "code",
      "execution_count": 22,
      "metadata": {
        "id": "CkQcq3AbZzvE"
      },
      "outputs": [],
      "source": []
    },
    {
      "cell_type": "code",
      "execution_count": 23,
      "metadata": {
        "id": "O6speKOFZzvE"
      },
      "outputs": [],
      "source": [
        "# Get the geomerty of the facility nodes.\n",
        "fac_loc = georgia_shp.iloc[rslt,:]"
      ]
    },
    {
      "cell_type": "code",
      "execution_count": 24,
      "metadata": {
        "colab": {
          "base_uri": "https://localhost:8080/",
          "height": 496
        },
        "id": "pRTiA6EVZzvE",
        "outputId": "30c300d2-80d9-464f-fd0b-a032300165d8"
      },
      "outputs": [
        {
          "output_type": "execute_result",
          "data": {
            "text/plain": [
              "<Axes: >"
            ]
          },
          "metadata": {},
          "execution_count": 24
        },
        {
          "output_type": "display_data",
          "data": {
            "text/plain": [
              "<Figure size 500x500 with 1 Axes>"
            ],
            "image/png": "[encoded data removed]"
          },
          "metadata": {}
        }
      ],
      "source": [
        "#Plot the faclities (stars) on top of the demand map.\n",
        "fig, ax = plt.subplots(figsize=(5,5))\n",
        "\n",
        "georgia_shp.centroid.plot(ax=ax)\n",
        "\n",
        "georgia_shp.iloc[d[10,:] <=Dc,:].plot(ax=ax,color=\"orange\")\n",
        "georgia_shp.iloc[d[100,:] <=Dc,:].plot(ax=ax,color=\"orange\")\n",
        "georgia_shp.iloc[exisiting_fac,:].centroid.plot(ax=ax,color=\"black\",markersize=300,marker=\"*\")\n",
        "\n",
        "\n",
        "fac_loc.centroid.plot(ax=ax,color=\"red\",markersize=300,marker=\"*\")"
      ]
    },
    {
      "cell_type": "markdown",
      "source": [
        "We find we still need 6 new facilities in order to fill the gap and to meet the coverage threshold criterion."
      ],
      "metadata": {
        "id": "pbaThSIgrdhg"
      }
    },
    {
      "cell_type": "code",
      "execution_count": 24,
      "metadata": {
        "id": "L-uxthrHZzvE"
      },
      "outputs": [],
      "source": []
    }
  ],
  "metadata": {
    "kernelspec": {
      "display_name": "Python 3",
      "language": "python",
      "name": "python3"
    },
    "language_info": {
      "codemirror_mode": {
        "name": "ipython",
        "version": 3
      },
      "file_extension": ".py",
      "mimetype": "text/x-python",
      "name": "python",
      "nbconvert_exporter": "python",
      "pygments_lexer": "ipython3",
      "version": "3.7.6"
    },
    "colab": {
      "provenance": [],
      "include_colab_link": true
    }
  },
  "nbformat": 4,
  "nbformat_minor": 0
}