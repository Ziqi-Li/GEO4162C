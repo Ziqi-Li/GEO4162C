{
  "cells": [
    {
      "cell_type": "markdown",
      "metadata": {
        "id": "view-in-github",
        "colab_type": "text"
      },
      "source": [
        "<a href=\"https://colab.research.google.com/github/Ziqi-Li/GEO4162C/blob/main/notebooks/set_covering.ipynb\" target=\"_parent\"><img src=\"https://colab.research.google.com/assets/colab-badge.svg\" alt=\"Open In Colab\"/></a>"
      ]
    },
    {
      "cell_type": "markdown",
      "metadata": {
        "id": "3C6ZZ2rkZzu9"
      },
      "source": [
        "### Spatial Optimization (2): Set Covering Problem"
      ]
    },
    {
      "cell_type": "markdown",
      "metadata": {
        "id": "bSPibJC7Zzu-"
      },
      "source": [
        "In this model, a facility can serve all demand nodes that are within a given coverage distance Dc from the facility. The problem is the place the **minimum** number of facilities so as to ensure that all demand nodes can be served. We assume there are no capacity constraints at the facilities.\n",
        "\n",
        "Refer to pg. 28 in the lecture slide."
      ]
    },
    {
      "cell_type": "code",
      "source": [
        "pip install -q pulp"
      ],
      "metadata": {
        "colab": {
          "base_uri": "https://localhost:8080/"
        },
        "id": "ld5F9Ni-Z1c4",
        "outputId": "cd5db064-1677-4db5-8c57-432b3fb0ace8"
      },
      "execution_count": 1,
      "outputs": [
        {
          "output_type": "stream",
          "name": "stdout",
          "text": [
            "\u001b[?25l     \u001b[90m━━━━━━━━━━━━━━━━━━━━━━━━━━━━━━━━━━━━━━━━\u001b[0m \u001b[32m0.0/14.3 MB\u001b[0m \u001b[31m?\u001b[0m eta \u001b[36m-:--:--\u001b[0m\r\u001b[2K     \u001b[90m━━━━━━━━━━━━━━━━━━━━━━━━━━━━━━━━━━━━━━━━\u001b[0m \u001b[32m0.1/14.3 MB\u001b[0m \u001b[31m3.2 MB/s\u001b[0m eta \u001b[36m0:00:05\u001b[0m\r\u001b[2K     \u001b[91m━━\u001b[0m\u001b[91m╸\u001b[0m\u001b[90m━━━━━━━━━━━━━━━━━━━━━━━━━━━━━━━━━━━━━\u001b[0m \u001b[32m1.0/14.3 MB\u001b[0m \u001b[31m14.2 MB/s\u001b[0m eta \u001b[36m0:00:01\u001b[0m\r\u001b[2K     \u001b[91m━━━━━━━━━━━━━━\u001b[0m\u001b[90m╺\u001b[0m\u001b[90m━━━━━━━━━━━━━━━━━━━━━━━━━\u001b[0m \u001b[32m5.1/14.3 MB\u001b[0m \u001b[31m47.9 MB/s\u001b[0m eta \u001b[36m0:00:01\u001b[0m\r\u001b[2K     \u001b[91m━━━━━━━━━━━━━━━━━━━━━━━━━━━━\u001b[0m\u001b[91m╸\u001b[0m\u001b[90m━━━━━━━━━━━\u001b[0m \u001b[32m10.2/14.3 MB\u001b[0m \u001b[31m72.0 MB/s\u001b[0m eta \u001b[36m0:00:01\u001b[0m\r\u001b[2K     \u001b[91m━━━━━━━━━━━━━━━━━━━━━━━━━━━━━━━━━━━━━━━\u001b[0m\u001b[91m╸\u001b[0m \u001b[32m14.2/14.3 MB\u001b[0m \u001b[31m163.5 MB/s\u001b[0m eta \u001b[36m0:00:01\u001b[0m\r\u001b[2K     \u001b[91m━━━━━━━━━━━━━━━━━━━━━━━━━━━━━━━━━━━━━━━\u001b[0m\u001b[91m╸\u001b[0m \u001b[32m14.2/14.3 MB\u001b[0m \u001b[31m163.5 MB/s\u001b[0m eta \u001b[36m0:00:01\u001b[0m\r\u001b[2K     \u001b[90m━━━━━━━━━━━━━━━━━━━━━━━━━━━━━━━━━━━━━━━━\u001b[0m \u001b[32m14.3/14.3 MB\u001b[0m \u001b[31m81.7 MB/s\u001b[0m eta \u001b[36m0:00:00\u001b[0m\n",
            "\u001b[?25h"
          ]
        }
      ]
    },
    {
      "cell_type": "code",
      "execution_count": 2,
      "metadata": {
        "id": "5Bj9kcADZzu_"
      },
      "outputs": [],
      "source": [
        "from pulp import *\n",
        "import numpy as np\n",
        "import geopandas as gp\n",
        "from scipy.spatial.distance import cdist\n",
        "\n",
        "import matplotlib.pyplot as plt"
      ]
    },
    {
      "cell_type": "code",
      "execution_count": 2,
      "metadata": {
        "id": "PY2x60oYZzvA"
      },
      "outputs": [],
      "source": []
    },
    {
      "cell_type": "code",
      "execution_count": 3,
      "metadata": {
        "id": "9u877fuxZzvA"
      },
      "outputs": [],
      "source": [
        "#read a sample shapefile\n",
        "georgia_shp = gp.read_file(\"https://raw.githubusercontent.com/Ziqi-Li/GEO4162C/main/data/georgia/G_utm.shp\")"
      ]
    },
    {
      "cell_type": "code",
      "source": [
        "georgia_shp.shape"
      ],
      "metadata": {
        "colab": {
          "base_uri": "https://localhost:8080/"
        },
        "id": "rGdTLFQIaBhn",
        "outputId": "d945f310-2257-407f-d710-7f2841ebf269"
      },
      "execution_count": 4,
      "outputs": [
        {
          "output_type": "execute_result",
          "data": {
            "text/plain": [
              "(172, 18)"
            ]
          },
          "metadata": {},
          "execution_count": 4
        }
      ]
    },
    {
      "cell_type": "code",
      "execution_count": 5,
      "metadata": {
        "id": "9ZyBe9UhZzvA"
      },
      "outputs": [],
      "source": [
        "#create a demand and a facilities variable, indicating the indices of each demand and facility.\n",
        "#demand node: all counties\n",
        "#facility: we could build facilities in some counties\n",
        "\n",
        "demand = np.arange(0,172,1)\n",
        "facilities = np.arange(0,172,1)"
      ]
    },
    {
      "cell_type": "code",
      "execution_count": 6,
      "metadata": {
        "id": "MMTWqimWZzvA"
      },
      "outputs": [],
      "source": [
        "#Calculate a distance matrix d_ij (n by n)\n",
        "coords = list(zip(georgia_shp.centroid.x,georgia_shp.centroid.y))\n",
        "d = cdist(coords,coords)"
      ]
    },
    {
      "cell_type": "code",
      "execution_count": 7,
      "metadata": {
        "id": "ivrhWF5DZzvB"
      },
      "outputs": [],
      "source": [
        "# Threshold coverage distance\n",
        "Dc = 100000 #100km coverage, change this and re run the code."
      ]
    },
    {
      "cell_type": "code",
      "execution_count": 8,
      "metadata": {
        "id": "Q9t7oQBIZzvB"
      },
      "outputs": [],
      "source": [
        "#Creata a variable (alpha in the lecture slide pg.28), indicating  whether a node i can be covered by facility j.\n",
        "a = np.zeros(d.shape)\n",
        "a[d <= Dc] = 1\n",
        "a[d > Dc] = 0"
      ]
    },
    {
      "cell_type": "code",
      "execution_count": null,
      "metadata": {
        "id": "OoqDdu26ZzvB"
      },
      "outputs": [],
      "source": []
    },
    {
      "cell_type": "code",
      "execution_count": 9,
      "metadata": {
        "id": "Q42C4u1jZzvB"
      },
      "outputs": [],
      "source": [
        "# declare facilities variables Xj\n",
        "X = LpVariable.dicts('X_%s',(facilities),cat='Binary')"
      ]
    },
    {
      "cell_type": "code",
      "execution_count": 10,
      "metadata": {
        "id": "X_8v1LgcZzvC"
      },
      "outputs": [],
      "source": [
        "#Create an minimization problem\n",
        "prob = LpProblem('Set_Covering', LpMinimize)"
      ]
    },
    {
      "cell_type": "code",
      "execution_count": 11,
      "metadata": {
        "id": "rm03-N5oZzvC"
      },
      "outputs": [],
      "source": [
        "# Objective function: we want to minimize the number of placed facilities\n",
        "prob += sum([X[j] for j in facilities])"
      ]
    },
    {
      "cell_type": "code",
      "execution_count": 12,
      "metadata": {
        "id": "JTG_rAMWZzvC"
      },
      "outputs": [],
      "source": [
        "# This constraint implies every demand node i needs to be served by at least facility\n",
        "for i in demand:\n",
        "    prob += sum(a[i][j]*X[j] for j in facilities) >= 1\n"
      ]
    },
    {
      "cell_type": "code",
      "execution_count": 13,
      "metadata": {
        "colab": {
          "base_uri": "https://localhost:8080/"
        },
        "id": "Sm1J7C08ZzvD",
        "outputId": "3ec44a40-6b61-432d-d52d-90d4b524059b"
      },
      "outputs": [
        {
          "output_type": "stream",
          "name": "stdout",
          "text": [
            "Status: Optimal\n",
            "CPU times: user 22.5 ms, sys: 1.05 ms, total: 23.6 ms\n",
            "Wall time: 66.4 ms\n"
          ]
        }
      ],
      "source": [
        "%%time\n",
        "# Solve the above problem\n",
        "prob.solve()\n",
        "\n",
        "print(\"Status:\", LpStatus[prob.status])"
      ]
    },
    {
      "cell_type": "code",
      "execution_count": 14,
      "metadata": {
        "colab": {
          "base_uri": "https://localhost:8080/"
        },
        "id": "6lu0zpT2ZzvD",
        "outputId": "1ba22504-196c-4cf4-dc53-cb00d34f2fe2"
      },
      "outputs": [
        {
          "output_type": "stream",
          "name": "stdout",
          "text": [
            "Objective:  8.0\n"
          ]
        }
      ],
      "source": [
        "# The minimal number of facilities with the defiened coverage.\n",
        "print(\"Objective: \",value(prob.objective))"
      ]
    },
    {
      "cell_type": "code",
      "execution_count": 15,
      "metadata": {
        "colab": {
          "base_uri": "https://localhost:8080/"
        },
        "id": "JpRe40ayZzvD",
        "outputId": "76c71983-3857-4dad-cb64-4f903449140d"
      },
      "outputs": [
        {
          "output_type": "stream",
          "name": "stdout",
          "text": [
            "Facility Node:  102\n",
            "Facility Node:  120\n",
            "Facility Node:  145\n",
            "Facility Node:  150\n",
            "Facility Node:  30\n",
            "Facility Node:  38\n",
            "Facility Node:  9\n",
            "Facility Node:  97\n"
          ]
        }
      ],
      "source": [
        "# Print the facility nodes.\n",
        "rslt = []\n",
        "for v in prob.variables():\n",
        "    subV = v.name.split('_')\n",
        "\n",
        "    if subV[0] == \"X\" and v.varValue == 1:\n",
        "        rslt.append(int(subV[1]))\n",
        "        print('Facility Node: ', subV[1])"
      ]
    },
    {
      "cell_type": "code",
      "execution_count": 15,
      "metadata": {
        "id": "CkQcq3AbZzvE"
      },
      "outputs": [],
      "source": []
    },
    {
      "cell_type": "code",
      "execution_count": 16,
      "metadata": {
        "id": "O6speKOFZzvE"
      },
      "outputs": [],
      "source": [
        "# Get the geomerty of the facility nodes.\n",
        "fac_loc = georgia_shp.iloc[rslt,:]"
      ]
    },
    {
      "cell_type": "code",
      "execution_count": 17,
      "metadata": {
        "colab": {
          "base_uri": "https://localhost:8080/",
          "height": 517
        },
        "id": "pRTiA6EVZzvE",
        "outputId": "17d7635e-442d-4a72-c93e-1f5c3bfba5db"
      },
      "outputs": [
        {
          "output_type": "execute_result",
          "data": {
            "text/plain": [
              "<Axes: >"
            ]
          },
          "metadata": {},
          "execution_count": 17
        },
        {
          "output_type": "display_data",
          "data": {
            "text/plain": [
              "<Figure size 500x500 with 1 Axes>"
            ],
            "image/png": "[encoded data removed]"
          },
          "metadata": {}
        }
      ],
      "source": [
        "#Plot the faclities (stars) on top of the demand map.\n",
        "fig, ax = plt.subplots(figsize=(5,5))\n",
        "\n",
        "georgia_shp.centroid.plot(ax=ax)\n",
        "fac_loc.centroid.plot(ax=ax,color=\"red\",markersize=300,marker=\"*\")"
      ]
    },
    {
      "cell_type": "code",
      "execution_count": null,
      "metadata": {
        "id": "L-uxthrHZzvE"
      },
      "outputs": [],
      "source": []
    }
  ],
  "metadata": {
    "kernelspec": {
      "display_name": "Python 3",
      "language": "python",
      "name": "python3"
    },
    "language_info": {
      "codemirror_mode": {
        "name": "ipython",
        "version": 3
      },
      "file_extension": ".py",
      "mimetype": "text/x-python",
      "name": "python",
      "nbconvert_exporter": "python",
      "pygments_lexer": "ipython3",
      "version": "3.7.6"
    },
    "colab": {
      "provenance": [],
      "include_colab_link": true
    }
  },
  "nbformat": 4,
  "nbformat_minor": 0
}