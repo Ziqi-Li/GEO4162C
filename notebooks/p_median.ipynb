{
  "cells": [
    {
      "cell_type": "markdown",
      "metadata": {
        "id": "view-in-github",
        "colab_type": "text"
      },
      "source": [
        "<a href=\"https://colab.research.google.com/github/Ziqi-Li/GEO4162C/blob/main/notebooks/p_median.ipynb\" target=\"_parent\"><img src=\"https://colab.research.google.com/assets/colab-badge.svg\" alt=\"Open In Colab\"/></a>"
      ]
    },
    {
      "cell_type": "markdown",
      "metadata": {
        "id": "rZFA2ZgyYJpB"
      },
      "source": [
        "### Spatial Optimization (1): p-Median  Problem"
      ]
    },
    {
      "cell_type": "markdown",
      "metadata": {
        "id": "WqWDNaDFYJpC"
      },
      "source": [
        "This problem entails the location of p-facilities while minimizing the total weighted distance of servicing all demands.\n",
        "Each node has an associated weight that represents the amount of demand at that node.\n",
        "\n",
        "\n",
        "**Objective function:** Minimizing demand-weighted  summed over all facilities and demand nodes.\n",
        "\n",
        "**Decision variables:** where to put the facilities and which demand nodes are serviced by which facility location\n",
        "\n",
        "**Constraints:**\n",
        "- Each node is serviced by 1 facility\n",
        "- A node can be serviced by a facility at a certain location only if there is a facility.\n",
        "- We must place p facilities\n",
        "- Each node is either a facility or not."
      ]
    },
    {
      "cell_type": "code",
      "execution_count": 22,
      "metadata": {
        "id": "A7ds9nlPYJpD"
      },
      "outputs": [],
      "source": [
        "pip install -q pulp"
      ]
    },
    {
      "cell_type": "code",
      "execution_count": 23,
      "metadata": {
        "id": "5ekfjP9_YJpD"
      },
      "outputs": [],
      "source": [
        "from pulp import *\n",
        "import numpy as np\n",
        "import geopandas as gp\n",
        "from scipy.spatial.distance import cdist\n",
        "import matplotlib.pyplot as plt"
      ]
    },
    {
      "cell_type": "code",
      "execution_count": 24,
      "metadata": {
        "id": "3mTfiyyPYJpD"
      },
      "outputs": [],
      "source": [
        "#read a sample shapefile\n",
        "georgia_shp = gp.read_file(\"https://raw.githubusercontent.com/Ziqi-Li/GEO4162C/main/data/georgia/G_utm.shp\")"
      ]
    },
    {
      "cell_type": "code",
      "source": [
        "georgia_shp.shape"
      ],
      "metadata": {
        "colab": {
          "base_uri": "https://localhost:8080/"
        },
        "id": "o-WkaaecYudQ",
        "outputId": "50ca031f-0551-44c5-ffc0-5d635d063365"
      },
      "execution_count": 25,
      "outputs": [
        {
          "output_type": "execute_result",
          "data": {
            "text/plain": [
              "(172, 18)"
            ]
          },
          "metadata": {},
          "execution_count": 25
        }
      ]
    },
    {
      "cell_type": "code",
      "execution_count": 26,
      "metadata": {
        "id": "gVxHcYAEYJpE"
      },
      "outputs": [],
      "source": [
        "#create a demand and a facilities variable, indicating the indices of each demand and facility.\n",
        "#demand node: all counties\n",
        "#facility: Facilities will be built on top of some chosen counties\n",
        "\n",
        "demand = np.arange(0,172,1)\n",
        "facilities = np.arange(0,172,1)"
      ]
    },
    {
      "cell_type": "code",
      "execution_count": 27,
      "metadata": {
        "id": "GvAKckjgYJpE"
      },
      "outputs": [],
      "source": [
        "#Calculate a distance matrix d_ij (n by n)\n",
        "coords = list(zip(georgia_shp.centroid.x,georgia_shp.centroid.y))\n",
        "\n",
        "d = cdist(coords,coords)"
      ]
    },
    {
      "cell_type": "code",
      "execution_count": 28,
      "metadata": {
        "id": "6kCt_GpvYJpF"
      },
      "outputs": [],
      "source": [
        "#the demand for each county (h_i) is the total populatoion\n",
        "h = georgia_shp.TotPop90.values"
      ]
    },
    {
      "cell_type": "code",
      "execution_count": 29,
      "metadata": {
        "id": "pyajnOYVYJpF"
      },
      "outputs": [],
      "source": [
        "# declare facilities variables;the resulting variable names are: X_1,X_2,...\n",
        "X = LpVariable.dicts('X_%s',(facilities),cat='Binary')\n",
        "\n",
        "# declare demand-facility pair variables; the resulting variable names are Y_0_1, Y_0_2,...\n",
        "Y = LpVariable.dicts('Y_%s_%s', (demand,facilities),cat='Binary')"
      ]
    },
    {
      "cell_type": "code",
      "execution_count": 30,
      "metadata": {
        "id": "o0UC8963YJpF"
      },
      "outputs": [],
      "source": [
        "#Number of facilities to place\n",
        "p = 3 #change this and re-run the code.\n",
        "\n",
        "#Create a new problem\n",
        "prob = LpProblem('P_Median', LpMinimize)"
      ]
    },
    {
      "cell_type": "code",
      "execution_count": 31,
      "metadata": {
        "id": "TTRng_mcYJpG"
      },
      "outputs": [],
      "source": [
        "# Objective function: Minimizing weighted demand-distance  summed over all facilities and demand nodes\n",
        "# (h_i: demand at i; d_ij: distance between i and j)\n",
        "# A \"for\" loop is used for iterating over a sequence\n",
        "\n",
        "prob += sum(sum(h[i] * d[i][j] * Y[i][j] for j in facilities) for i in demand)"
      ]
    },
    {
      "cell_type": "code",
      "execution_count": 32,
      "metadata": {
        "id": "zhANW_IvYJpG"
      },
      "outputs": [],
      "source": [
        "# This constraint indicates we must place exactly p facilities\n",
        "\n",
        "prob += sum([X[j] for j in facilities]) == p"
      ]
    },
    {
      "cell_type": "code",
      "execution_count": 33,
      "metadata": {
        "id": "JiarbZgKYJpG"
      },
      "outputs": [],
      "source": [
        "# This constraint implies that a demand node i can only be serviced by one facility\n",
        "\n",
        "for i in demand:\n",
        "    prob += sum(Y[i][j] for j in facilities) == 1"
      ]
    },
    {
      "cell_type": "code",
      "execution_count": 34,
      "metadata": {
        "id": "9uEy_6yDYJpG"
      },
      "outputs": [],
      "source": [
        "# This constraint implies that that demand node i\n",
        "# can be serviced by a facility at j only if there is a facility at j\n",
        "# It implicitly removes situation when X[j] = 0 but Y[i][j] = 1\n",
        "# (node i is served by j but there is no facility at j)\n",
        "\n",
        "for i in demand:\n",
        "    for j in facilities:\n",
        "        prob +=  Y[i][j] <= X[j]"
      ]
    },
    {
      "cell_type": "code",
      "execution_count": 35,
      "metadata": {
        "colab": {
          "base_uri": "https://localhost:8080/"
        },
        "id": "SXwm25nlYJpG",
        "outputId": "6af9ff03-1f28-4d6d-8193-2a5f7db12ec3"
      },
      "outputs": [
        {
          "output_type": "stream",
          "name": "stdout",
          "text": [
            "Status: Optimal\n",
            "CPU times: user 1.35 s, sys: 64 ms, total: 1.42 s\n",
            "Wall time: 11.5 s\n"
          ]
        }
      ],
      "source": [
        "%%time\n",
        "\n",
        "# Solve the above problem\n",
        "prob.solve()\n",
        "\n",
        "print(\"Status:\", LpStatus[prob.status])"
      ]
    },
    {
      "cell_type": "code",
      "execution_count": 36,
      "metadata": {
        "colab": {
          "base_uri": "https://localhost:8080/"
        },
        "id": "roUqMuHhYJpH",
        "outputId": "e9ec7d1d-9d91-4a19-bb1a-a10ee58832fd"
      },
      "outputs": [
        {
          "output_type": "stream",
          "name": "stdout",
          "text": [
            "Objective:  469538765110.4489\n"
          ]
        }
      ],
      "source": [
        "# The minimized total demand-distance. The unit is person * meter (total distance travelled)\n",
        "print(\"Objective: \",value(prob.objective))"
      ]
    },
    {
      "cell_type": "code",
      "execution_count": 37,
      "metadata": {
        "colab": {
          "base_uri": "https://localhost:8080/"
        },
        "id": "EjV7ODfNYJpH",
        "outputId": "16c9f8d4-b761-46e0-d28b-c4bff0a2025a"
      },
      "outputs": [
        {
          "output_type": "stream",
          "name": "stdout",
          "text": [
            "Facility Node:  126\n",
            "Facility Node:  30\n",
            "Facility Node:  82\n"
          ]
        }
      ],
      "source": [
        "# Print the facility node.\n",
        "rslt=[]\n",
        "for v in prob.variables():\n",
        "    subV = v.name.split('_')\n",
        "\n",
        "    if subV[0] == \"X\" and v.varValue == 1:\n",
        "        rslt.append(int(subV[1]))\n",
        "        print('Facility Node: ', subV[1])"
      ]
    },
    {
      "cell_type": "code",
      "execution_count": 38,
      "metadata": {
        "id": "mlGC5MMxYJpH"
      },
      "outputs": [],
      "source": [
        "# Get the geomerty of the facility nodes.\n",
        "fac_loc = georgia_shp.iloc[rslt,:]"
      ]
    },
    {
      "cell_type": "code",
      "source": [
        "fac_loc"
      ],
      "metadata": {
        "colab": {
          "base_uri": "https://localhost:8080/",
          "height": 372
        },
        "id": "BrsE5Cd6rA67",
        "outputId": "9737ddce-870d-4ebb-b4dc-38e1de5d28de"
      },
      "execution_count": 39,
      "outputs": [
        {
          "output_type": "execute_result",
          "data": {
            "text/plain": [
              "             AREA  PERIMETER  G_UTM_  G_UTM_ID            AREANAME  Latitude  \\\n",
              "126  7.315030e+08   117190.0     130       128    GA, Crisp County  31.92540   \n",
              "30   1.385270e+09   274218.0      32        31   GA, Fulton County  33.78940   \n",
              "82   9.179670e+08   121744.0      84        84  GA, Jenkins County  32.78866   \n",
              "\n",
              "     Longitud  TotPop90  PctRural  PctBach  PctEld  PctFB  PctPov  PctBlack  \\\n",
              "126 -83.77159     20011      48.4     10.0   12.47   0.30    29.0     40.66   \n",
              "30  -84.46716    648951       4.2     31.6    9.63   4.13    18.4     49.92   \n",
              "82  -81.96042      8247      53.8      7.7   13.10   0.21    27.8     41.51   \n",
              "\n",
              "            X        Y  AreaKey  \\\n",
              "126  805648.4  3537103    13081   \n",
              "30   733728.4  3733248    13121   \n",
              "82   970465.7  3640263    13165   \n",
              "\n",
              "                                              geometry  \n",
              "126  POLYGON ((787012.250 3547615.750, 820243.312 3...  \n",
              "30   POLYGON ((752606.688 3785970.500, 752835.062 3...  \n",
              "82   POLYGON ((989566.750 3653155.750, 981378.062 3...  "
            ],
            "text/html": [
              "\n",
              "  <div id=\"df-c29c13e8-3948-4cd0-90df-2834efc57c7c\" class=\"colab-df-container\">\n",
              "    <div>\n",
              "<style scoped>\n",
              "    .dataframe tbody tr th:only-of-type {\n",
              "        vertical-align: middle;\n",
              "    }\n",
              "\n",
              "    .dataframe tbody tr th {\n",
              "        vertical-align: top;\n",
              "    }\n",
              "\n",
              "    .dataframe thead th {\n",
              "        text-align: right;\n",
              "    }\n",
              "</style>\n",
              "<table border=\"1\" class=\"dataframe\">\n",
              "  <thead>\n",
              "    <tr style=\"text-align: right;\">\n",
              "      <th></th>\n",
              "      <th>AREA</th>\n",
              "      <th>PERIMETER</th>\n",
              "      <th>G_UTM_</th>\n",
              "      <th>G_UTM_ID</th>\n",
              "      <th>AREANAME</th>\n",
              "      <th>Latitude</th>\n",
              "      <th>Longitud</th>\n",
              "      <th>TotPop90</th>\n",
              "      <th>PctRural</th>\n",
              "      <th>PctBach</th>\n",
              "      <th>PctEld</th>\n",
              "      <th>PctFB</th>\n",
              "      <th>PctPov</th>\n",
              "      <th>PctBlack</th>\n",
              "      <th>X</th>\n",
              "      <th>Y</th>\n",
              "      <th>AreaKey</th>\n",
              "      <th>geometry</th>\n",
              "    </tr>\n",
              "  </thead>\n",
              "  <tbody>\n",
              "    <tr>\n",
              "      <th>126</th>\n",
              "      <td>7.315030e+08</td>\n",
              "      <td>117190.0</td>\n",
              "      <td>130</td>\n",
              "      <td>128</td>\n",
              "      <td>GA, Crisp County</td>\n",
              "      <td>31.92540</td>\n",
              "      <td>-83.77159</td>\n",
              "      <td>20011</td>\n",
              "      <td>48.4</td>\n",
              "      <td>10.0</td>\n",
              "      <td>12.47</td>\n",
              "      <td>0.30</td>\n",
              "      <td>29.0</td>\n",
              "      <td>40.66</td>\n",
              "      <td>805648.4</td>\n",
              "      <td>3537103</td>\n",
              "      <td>13081</td>\n",
              "      <td>POLYGON ((787012.250 3547615.750, 820243.312 3...</td>\n",
              "    </tr>\n",
              "    <tr>\n",
              "      <th>30</th>\n",
              "      <td>1.385270e+09</td>\n",
              "      <td>274218.0</td>\n",
              "      <td>32</td>\n",
              "      <td>31</td>\n",
              "      <td>GA, Fulton County</td>\n",
              "      <td>33.78940</td>\n",
              "      <td>-84.46716</td>\n",
              "      <td>648951</td>\n",
              "      <td>4.2</td>\n",
              "      <td>31.6</td>\n",
              "      <td>9.63</td>\n",
              "      <td>4.13</td>\n",
              "      <td>18.4</td>\n",
              "      <td>49.92</td>\n",
              "      <td>733728.4</td>\n",
              "      <td>3733248</td>\n",
              "      <td>13121</td>\n",
              "      <td>POLYGON ((752606.688 3785970.500, 752835.062 3...</td>\n",
              "    </tr>\n",
              "    <tr>\n",
              "      <th>82</th>\n",
              "      <td>9.179670e+08</td>\n",
              "      <td>121744.0</td>\n",
              "      <td>84</td>\n",
              "      <td>84</td>\n",
              "      <td>GA, Jenkins County</td>\n",
              "      <td>32.78866</td>\n",
              "      <td>-81.96042</td>\n",
              "      <td>8247</td>\n",
              "      <td>53.8</td>\n",
              "      <td>7.7</td>\n",
              "      <td>13.10</td>\n",
              "      <td>0.21</td>\n",
              "      <td>27.8</td>\n",
              "      <td>41.51</td>\n",
              "      <td>970465.7</td>\n",
              "      <td>3640263</td>\n",
              "      <td>13165</td>\n",
              "      <td>POLYGON ((989566.750 3653155.750, 981378.062 3...</td>\n",
              "    </tr>\n",
              "  </tbody>\n",
              "</table>\n",
              "</div>\n",
              "    <div class=\"colab-df-buttons\">\n",
              "\n",
              "  <div class=\"colab-df-container\">\n",
              "    <button class=\"colab-df-convert\" onclick=\"convertToInteractive('df-c29c13e8-3948-4cd0-90df-2834efc57c7c')\"\n",
              "            title=\"Convert this dataframe to an interactive table.\"\n",
              "            style=\"display:none;\">\n",
              "\n",
              "  <svg xmlns=\"http://www.w3.org/2000/svg\" height=\"24px\" viewBox=\"0 -960 960 960\">\n",
              "    <path d=\"M120-120v-720h720v720H120Zm60-500h600v-160H180v160Zm220 220h160v-160H400v160Zm0 220h160v-160H400v160ZM180-400h160v-160H180v160Zm440 0h160v-160H620v160ZM180-180h160v-160H180v160Zm440 0h160v-160H620v160Z\"/>\n",
              "  </svg>\n",
              "    </button>\n",
              "\n",
              "  <style>\n",
              "    .colab-df-container {\n",
              "      display:flex;\n",
              "      gap: 12px;\n",
              "    }\n",
              "\n",
              "    .colab-df-convert {\n",
              "      background-color: #E8F0FE;\n",
              "      border: none;\n",
              "      border-radius: 50%;\n",
              "      cursor: pointer;\n",
              "      display: none;\n",
              "      fill: #1967D2;\n",
              "      height: 32px;\n",
              "      padding: 0 0 0 0;\n",
              "      width: 32px;\n",
              "    }\n",
              "\n",
              "    .colab-df-convert:hover {\n",
              "      background-color: #E2EBFA;\n",
              "      box-shadow: 0px 1px 2px rgba(60, 64, 67, 0.3), 0px 1px 3px 1px rgba(60, 64, 67, 0.15);\n",
              "      fill: #174EA6;\n",
              "    }\n",
              "\n",
              "    .colab-df-buttons div {\n",
              "      margin-bottom: 4px;\n",
              "    }\n",
              "\n",
              "    [theme=dark] .colab-df-convert {\n",
              "      background-color: #3B4455;\n",
              "      fill: #D2E3FC;\n",
              "    }\n",
              "\n",
              "    [theme=dark] .colab-df-convert:hover {\n",
              "      background-color: #434B5C;\n",
              "      box-shadow: 0px 1px 3px 1px rgba(0, 0, 0, 0.15);\n",
              "      filter: drop-shadow(0px 1px 2px rgba(0, 0, 0, 0.3));\n",
              "      fill: #FFFFFF;\n",
              "    }\n",
              "  </style>\n",
              "\n",
              "    <script>\n",
              "      const buttonEl =\n",
              "        document.querySelector('#df-c29c13e8-3948-4cd0-90df-2834efc57c7c button.colab-df-convert');\n",
              "      buttonEl.style.display =\n",
              "        google.colab.kernel.accessAllowed ? 'block' : 'none';\n",
              "\n",
              "      async function convertToInteractive(key) {\n",
              "        const element = document.querySelector('#df-c29c13e8-3948-4cd0-90df-2834efc57c7c');\n",
              "        const dataTable =\n",
              "          await google.colab.kernel.invokeFunction('convertToInteractive',\n",
              "                                                    [key], {});\n",
              "        if (!dataTable) return;\n",
              "\n",
              "        const docLinkHtml = 'Like what you see? Visit the ' +\n",
              "          '<a target=\"_blank\" href=https://colab.research.google.com/notebooks/data_table.ipynb>data table notebook</a>'\n",
              "          + ' to learn more about interactive tables.';\n",
              "        element.innerHTML = '';\n",
              "        dataTable['output_type'] = 'display_data';\n",
              "        await google.colab.output.renderOutput(dataTable, element);\n",
              "        const docLink = document.createElement('div');\n",
              "        docLink.innerHTML = docLinkHtml;\n",
              "        element.appendChild(docLink);\n",
              "      }\n",
              "    </script>\n",
              "  </div>\n",
              "\n",
              "\n",
              "<div id=\"df-5c917aea-ea4f-4856-8450-3b69dd1894fd\">\n",
              "  <button class=\"colab-df-quickchart\" onclick=\"quickchart('df-5c917aea-ea4f-4856-8450-3b69dd1894fd')\"\n",
              "            title=\"Suggest charts.\"\n",
              "            style=\"display:none;\">\n",
              "\n",
              "<svg xmlns=\"http://www.w3.org/2000/svg\" height=\"24px\"viewBox=\"0 0 24 24\"\n",
              "     width=\"24px\">\n",
              "    <g>\n",
              "        <path d=\"M19 3H5c-1.1 0-2 .9-2 2v14c0 1.1.9 2 2 2h14c1.1 0 2-.9 2-2V5c0-1.1-.9-2-2-2zM9 17H7v-7h2v7zm4 0h-2V7h2v10zm4 0h-2v-4h2v4z\"/>\n",
              "    </g>\n",
              "</svg>\n",
              "  </button>\n",
              "\n",
              "<style>\n",
              "  .colab-df-quickchart {\n",
              "      --bg-color: #E8F0FE;\n",
              "      --fill-color: #1967D2;\n",
              "      --hover-bg-color: #E2EBFA;\n",
              "      --hover-fill-color: #174EA6;\n",
              "      --disabled-fill-color: #AAA;\n",
              "      --disabled-bg-color: #DDD;\n",
              "  }\n",
              "\n",
              "  [theme=dark] .colab-df-quickchart {\n",
              "      --bg-color: #3B4455;\n",
              "      --fill-color: #D2E3FC;\n",
              "      --hover-bg-color: #434B5C;\n",
              "      --hover-fill-color: #FFFFFF;\n",
              "      --disabled-bg-color: #3B4455;\n",
              "      --disabled-fill-color: #666;\n",
              "  }\n",
              "\n",
              "  .colab-df-quickchart {\n",
              "    background-color: var(--bg-color);\n",
              "    border: none;\n",
              "    border-radius: 50%;\n",
              "    cursor: pointer;\n",
              "    display: none;\n",
              "    fill: var(--fill-color);\n",
              "    height: 32px;\n",
              "    padding: 0;\n",
              "    width: 32px;\n",
              "  }\n",
              "\n",
              "  .colab-df-quickchart:hover {\n",
              "    background-color: var(--hover-bg-color);\n",
              "    box-shadow: 0 1px 2px rgba(60, 64, 67, 0.3), 0 1px 3px 1px rgba(60, 64, 67, 0.15);\n",
              "    fill: var(--button-hover-fill-color);\n",
              "  }\n",
              "\n",
              "  .colab-df-quickchart-complete:disabled,\n",
              "  .colab-df-quickchart-complete:disabled:hover {\n",
              "    background-color: var(--disabled-bg-color);\n",
              "    fill: var(--disabled-fill-color);\n",
              "    box-shadow: none;\n",
              "  }\n",
              "\n",
              "  .colab-df-spinner {\n",
              "    border: 2px solid var(--fill-color);\n",
              "    border-color: transparent;\n",
              "    border-bottom-color: var(--fill-color);\n",
              "    animation:\n",
              "      spin 1s steps(1) infinite;\n",
              "  }\n",
              "\n",
              "  @keyframes spin {\n",
              "    0% {\n",
              "      border-color: transparent;\n",
              "      border-bottom-color: var(--fill-color);\n",
              "      border-left-color: var(--fill-color);\n",
              "    }\n",
              "    20% {\n",
              "      border-color: transparent;\n",
              "      border-left-color: var(--fill-color);\n",
              "      border-top-color: var(--fill-color);\n",
              "    }\n",
              "    30% {\n",
              "      border-color: transparent;\n",
              "      border-left-color: var(--fill-color);\n",
              "      border-top-color: var(--fill-color);\n",
              "      border-right-color: var(--fill-color);\n",
              "    }\n",
              "    40% {\n",
              "      border-color: transparent;\n",
              "      border-right-color: var(--fill-color);\n",
              "      border-top-color: var(--fill-color);\n",
              "    }\n",
              "    60% {\n",
              "      border-color: transparent;\n",
              "      border-right-color: var(--fill-color);\n",
              "    }\n",
              "    80% {\n",
              "      border-color: transparent;\n",
              "      border-right-color: var(--fill-color);\n",
              "      border-bottom-color: var(--fill-color);\n",
              "    }\n",
              "    90% {\n",
              "      border-color: transparent;\n",
              "      border-bottom-color: var(--fill-color);\n",
              "    }\n",
              "  }\n",
              "</style>\n",
              "\n",
              "  <script>\n",
              "    async function quickchart(key) {\n",
              "      const quickchartButtonEl =\n",
              "        document.querySelector('#' + key + ' button');\n",
              "      quickchartButtonEl.disabled = true;  // To prevent multiple clicks.\n",
              "      quickchartButtonEl.classList.add('colab-df-spinner');\n",
              "      try {\n",
              "        const charts = await google.colab.kernel.invokeFunction(\n",
              "            'suggestCharts', [key], {});\n",
              "      } catch (error) {\n",
              "        console.error('Error during call to suggestCharts:', error);\n",
              "      }\n",
              "      quickchartButtonEl.classList.remove('colab-df-spinner');\n",
              "      quickchartButtonEl.classList.add('colab-df-quickchart-complete');\n",
              "    }\n",
              "    (() => {\n",
              "      let quickchartButtonEl =\n",
              "        document.querySelector('#df-5c917aea-ea4f-4856-8450-3b69dd1894fd button');\n",
              "      quickchartButtonEl.style.display =\n",
              "        google.colab.kernel.accessAllowed ? 'block' : 'none';\n",
              "    })();\n",
              "  </script>\n",
              "</div>\n",
              "    </div>\n",
              "  </div>\n"
            ]
          },
          "metadata": {},
          "execution_count": 39
        }
      ]
    },
    {
      "cell_type": "code",
      "execution_count": 40,
      "metadata": {
        "colab": {
          "base_uri": "https://localhost:8080/",
          "height": 517
        },
        "id": "_LlEenO6YJpH",
        "outputId": "4c1ce0cb-19b1-439f-bc9c-dd6b2afa4244"
      },
      "outputs": [
        {
          "output_type": "execute_result",
          "data": {
            "text/plain": [
              "<Axes: >"
            ]
          },
          "metadata": {},
          "execution_count": 40
        },
        {
          "output_type": "display_data",
          "data": {
            "text/plain": [
              "<Figure size 500x500 with 1 Axes>"
            ],
            "image/png": "[encoded data removed]"
          },
          "metadata": {}
        }
      ],
      "source": [
        "#Plot the faclities (stars) on top of the demand map.\n",
        "fig, ax = plt.subplots(figsize=(5,5))\n",
        "\n",
        "georgia_shp.centroid.plot(ax=ax,markersize=georgia_shp.TotPop90/1000)#markersize is proportional to the population\n",
        "fac_loc.centroid.plot(ax=ax,color=\"red\",markersize=300,marker=\"*\")"
      ]
    },
    {
      "cell_type": "code",
      "execution_count": 40,
      "metadata": {
        "id": "afo4-UAtYJpH"
      },
      "outputs": [],
      "source": []
    },
    {
      "cell_type": "code",
      "execution_count": 40,
      "metadata": {
        "id": "S7GdUcsTYJpH"
      },
      "outputs": [],
      "source": []
    },
    {
      "cell_type": "code",
      "execution_count": 40,
      "metadata": {
        "id": "xGBIuQfdYJpH"
      },
      "outputs": [],
      "source": []
    }
  ],
  "metadata": {
    "kernelspec": {
      "display_name": "Python 3",
      "language": "python",
      "name": "python3"
    },
    "language_info": {
      "codemirror_mode": {
        "name": "ipython",
        "version": 3
      },
      "file_extension": ".py",
      "mimetype": "text/x-python",
      "name": "python",
      "nbconvert_exporter": "python",
      "pygments_lexer": "ipython3",
      "version": "3.7.6"
    },
    "colab": {
      "provenance": [],
      "include_colab_link": true
    }
  },
  "nbformat": 4,
  "nbformat_minor": 0
}