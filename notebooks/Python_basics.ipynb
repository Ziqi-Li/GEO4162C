{
  "cells": [
    {
      "cell_type": "markdown",
      "metadata": {
        "id": "view-in-github",
        "colab_type": "text"
      },
      "source": [
        "<a href=\"https://colab.research.google.com/github/Ziqi-Li/GEO4162C/blob/spring-24/notebooks/Python_basics.ipynb\" target=\"_parent\"><img src=\"https://colab.research.google.com/assets/colab-badge.svg\" alt=\"Open In Colab\"/></a>"
      ]
    },
    {
      "cell_type": "markdown",
      "metadata": {
        "id": "lNNN-LzDJsoX"
      },
      "source": [
        "# Introduction to Python"
      ]
    },
    {
      "cell_type": "markdown",
      "metadata": {
        "id": "zJbuufh3Jsob"
      },
      "source": [
        "## Section 1: Variables and Data Types\n",
        "### 1.1 Variables"
      ]
    },
    {
      "cell_type": "markdown",
      "source": [
        "Variable assignment: '=' the equal sign here refers to assigning a value (right hand side) to a variable (left hand side). You can name anything for your variable, but there are some restrictions:\n",
        "1. Variable names can only contain letters (a-z, A-Z), numbers (0-9), and underscores (_).They cannot start with a number.\n",
        "2. Variable names are case sensitive\n",
        "3. Avoid using Python reserved words (keywords) as variable names. Examples include if, else, while, for, in, and, or, True, False, etc."
      ],
      "metadata": {
        "id": "hRZjaldlLmwK"
      }
    },
    {
      "cell_type": "code",
      "source": [
        "x = 5\n",
        "y = \"Hello, Python!\""
      ],
      "metadata": {
        "id": "xoPg6ryMK_a1"
      },
      "execution_count": 1,
      "outputs": []
    },
    {
      "cell_type": "markdown",
      "source": [
        "A `print()` function can print the value held by the varaible."
      ],
      "metadata": {
        "id": "PS2tifDDMc0O"
      }
    },
    {
      "cell_type": "code",
      "source": [
        "print(x)\n",
        "print(y)"
      ],
      "metadata": {
        "colab": {
          "base_uri": "https://localhost:8080/"
        },
        "id": "fjVn_xrcMZHq",
        "outputId": "ed161ab2-1754-44b8-8667-377f911d1c93"
      },
      "execution_count": 2,
      "outputs": [
        {
          "output_type": "stream",
          "name": "stdout",
          "text": [
            "5\n",
            "Hello, Python!\n"
          ]
        }
      ]
    },
    {
      "cell_type": "markdown",
      "source": [
        "### 1.2 Data Types"
      ],
      "metadata": {
        "id": "4lcDx7uQMVJR"
      }
    },
    {
      "cell_type": "code",
      "source": [
        "integer_variable = 10\n",
        "float_variable = 3.14 #float is decimals\n",
        "string_variable = \"Python\" #string is text\n",
        "boolean_variable = True #boolean is binary True False.\n",
        "\n",
        "# Print data types\n",
        "print(type(integer_variable))\n",
        "print(type(float_variable))\n",
        "print(type(string_variable))\n",
        "print(type(boolean_variable))"
      ],
      "metadata": {
        "colab": {
          "base_uri": "https://localhost:8080/"
        },
        "id": "AUcqOG9wK_gT",
        "outputId": "1ff7ee6a-9bb1-4e93-fce8-f3a17dc5dd84"
      },
      "execution_count": 3,
      "outputs": [
        {
          "output_type": "stream",
          "name": "stdout",
          "text": [
            "<class 'int'>\n",
            "<class 'float'>\n",
            "<class 'str'>\n",
            "<class 'bool'>\n"
          ]
        }
      ]
    },
    {
      "cell_type": "markdown",
      "source": [
        "Remeber, `'12'` will be a string rather than a number"
      ],
      "metadata": {
        "id": "dv5nUNenMuHd"
      }
    },
    {
      "cell_type": "markdown",
      "source": [
        "## Section 2: Control Structures"
      ],
      "metadata": {
        "id": "SgUdMTMdM9id"
      }
    },
    {
      "cell_type": "markdown",
      "source": [
        "### 2.1 Conditional Statements"
      ],
      "metadata": {
        "id": "9ZRQsEJ2NTG1"
      }
    },
    {
      "cell_type": "markdown",
      "source": [
        "Conditions are usually done by the `if` statement. Comparisons, such as `x>0` will return you with either `True` or `False`. The indented code below the comparison will only run if the comparison returns you a `True`. Note that in python, to compare if the two things are equal, we need to put `==` two `=` symbol. This is to diffentiate with variable assignment."
      ],
      "metadata": {
        "id": "YYIlMdWENbKk"
      }
    },
    {
      "cell_type": "code",
      "source": [
        "x = 5\n",
        "\n",
        "# If statement\n",
        "if x > 0:\n",
        "    print(\"x is positive\")\n",
        "\n",
        "elif x == 0:\n",
        "    print(\"x is zero\")\n",
        "\n",
        "else:\n",
        "    print(\"x is negative\")"
      ],
      "metadata": {
        "colab": {
          "base_uri": "https://localhost:8080/"
        },
        "id": "9cJTgkfDLILW",
        "outputId": "9f7d14f3-c88e-4625-8de1-42dc2b8bd161"
      },
      "execution_count": 4,
      "outputs": [
        {
          "output_type": "stream",
          "name": "stdout",
          "text": [
            "x is positive\n"
          ]
        }
      ]
    },
    {
      "cell_type": "markdown",
      "source": [
        "### 2.2 Loop\n",
        "\n",
        "In Python, a loop is a control structure that allows you to repeatedly execute a block of code. It helps in automating repetitive tasks and iterating over a sequence (such as a list, tuple, string, or range) to perform a set of operations.\n",
        "\n",
        "The most common loop is what is called a `for` loop. In the below example, we iterate from 0 to n using the `range(n)` function where n=5 in our case. For each iteration, we print out the value of the iterator `i`.\n",
        "\n",
        "One important caveat here is that in python everything starts with `0` instead of `1`."
      ],
      "metadata": {
        "id": "1ZQEEtXbOU1b"
      }
    },
    {
      "cell_type": "code",
      "source": [
        "# For loop\n",
        "\n",
        "n=5\n",
        "for i in range(n):\n",
        "    print(i)\n"
      ],
      "metadata": {
        "colab": {
          "base_uri": "https://localhost:8080/"
        },
        "id": "-e-UB8QSLIRA",
        "outputId": "d4422a25-85ac-4fde-e07a-db197f862909"
      },
      "execution_count": 5,
      "outputs": [
        {
          "output_type": "stream",
          "name": "stdout",
          "text": [
            "0\n",
            "1\n",
            "2\n",
            "3\n",
            "4\n"
          ]
        }
      ]
    },
    {
      "cell_type": "markdown",
      "source": [
        "Below is another example that we can re-write the above loop, to add numbers from 0 to 4 (i.e. 1 + 2 + 3 + 4) and output the final result."
      ],
      "metadata": {
        "id": "Uu5BAacZPA3i"
      }
    },
    {
      "cell_type": "code",
      "source": [
        "sum = 0\n",
        "for i in range(5):\n",
        "    sum = sum + i\n",
        "\n",
        "print(sum)\n"
      ],
      "metadata": {
        "colab": {
          "base_uri": "https://localhost:8080/"
        },
        "id": "pn1r2LKSO6TT",
        "outputId": "3453532f-c5ee-4ba0-eadf-121a455ce32f"
      },
      "execution_count": 6,
      "outputs": [
        {
          "output_type": "stream",
          "name": "stdout",
          "text": [
            "10\n"
          ]
        }
      ]
    },
    {
      "cell_type": "markdown",
      "source": [
        "# Section 3: List and Array"
      ],
      "metadata": {
        "id": "duGjHSpxPeu_"
      }
    },
    {
      "cell_type": "markdown",
      "source": [
        "### 3.1 List\n",
        "\n",
        "A list is a data srtcuture to host a sequence of elements. A list can host not only numbers but also all data types"
      ],
      "metadata": {
        "id": "J6ZeMu5aPnnn"
      }
    },
    {
      "cell_type": "code",
      "source": [
        "num_list = [1,2,3,4]"
      ],
      "metadata": {
        "id": "T-4QZDJ5P3pI"
      },
      "execution_count": 7,
      "outputs": []
    },
    {
      "cell_type": "code",
      "source": [
        "animal_list = ['cat','dog','lion','panda']"
      ],
      "metadata": {
        "id": "5ed704XmP6aA"
      },
      "execution_count": 8,
      "outputs": []
    },
    {
      "cell_type": "markdown",
      "source": [
        "We can also iterate over a list using `for` loop"
      ],
      "metadata": {
        "id": "1H3DI3V-QEVb"
      }
    },
    {
      "cell_type": "code",
      "source": [
        "for num in num_list:\n",
        "  print (num)"
      ],
      "metadata": {
        "colab": {
          "base_uri": "https://localhost:8080/"
        },
        "id": "DXHFGKPJQJzX",
        "outputId": "336f1d0c-0fb0-42c2-ab8b-1fa7f571e502"
      },
      "execution_count": 9,
      "outputs": [
        {
          "output_type": "stream",
          "name": "stdout",
          "text": [
            "1\n",
            "2\n",
            "3\n",
            "4\n"
          ]
        }
      ]
    },
    {
      "cell_type": "code",
      "source": [
        "for animal in animal_list:\n",
        "  print(animal)"
      ],
      "metadata": {
        "colab": {
          "base_uri": "https://localhost:8080/"
        },
        "id": "B5PmYhuvQMwW",
        "outputId": "718e8eb1-27d7-43a8-8251-127a135b08f6"
      },
      "execution_count": 10,
      "outputs": [
        {
          "output_type": "stream",
          "name": "stdout",
          "text": [
            "cat\n",
            "dog\n",
            "lion\n",
            "panda\n"
          ]
        }
      ]
    },
    {
      "cell_type": "markdown",
      "source": [
        "We can add or remove an element from the list."
      ],
      "metadata": {
        "id": "12TLuHQFQSw-"
      }
    },
    {
      "cell_type": "code",
      "source": [
        "animal_list.append('frog')\n",
        "animal_list"
      ],
      "metadata": {
        "colab": {
          "base_uri": "https://localhost:8080/"
        },
        "id": "4nv09wcrQST_",
        "outputId": "27d83945-dd63-49e4-e666-cfb9686f079b"
      },
      "execution_count": 11,
      "outputs": [
        {
          "output_type": "execute_result",
          "data": {
            "text/plain": [
              "['cat', 'dog', 'lion', 'panda', 'frog']"
            ]
          },
          "metadata": {},
          "execution_count": 11
        }
      ]
    },
    {
      "cell_type": "code",
      "source": [
        "animal_list.remove('frog')\n",
        "animal_list"
      ],
      "metadata": {
        "colab": {
          "base_uri": "https://localhost:8080/"
        },
        "id": "n2SmVeLXQojk",
        "outputId": "9c7a37f1-c5c6-4385-bc27-68159f9ee5c3"
      },
      "execution_count": 12,
      "outputs": [
        {
          "output_type": "execute_result",
          "data": {
            "text/plain": [
              "['cat', 'dog', 'lion', 'panda']"
            ]
          },
          "metadata": {},
          "execution_count": 12
        }
      ]
    },
    {
      "cell_type": "markdown",
      "source": [
        "### 3.2 Array"
      ],
      "metadata": {
        "id": "dK_gEYOxTf2-"
      }
    },
    {
      "cell_type": "markdown",
      "source": [
        "An array is often used to host numbers and perform maths and linear algebra calculations. Arrays are defined by the `numpy` package. We can convert a list to an array shown as follows:"
      ],
      "metadata": {
        "id": "N4xH-8lfQswR"
      }
    },
    {
      "cell_type": "code",
      "source": [
        "import numpy\n",
        "numpy.array(num_list)"
      ],
      "metadata": {
        "colab": {
          "base_uri": "https://localhost:8080/"
        },
        "id": "K9e81NfoQ8Uy",
        "outputId": "8e7399f0-cd70-4bfa-e563-f9ea83e76241"
      },
      "execution_count": 13,
      "outputs": [
        {
          "output_type": "execute_result",
          "data": {
            "text/plain": [
              "array([1, 2, 3, 4])"
            ]
          },
          "metadata": {},
          "execution_count": 13
        }
      ]
    },
    {
      "cell_type": "markdown",
      "source": [
        "Numpy arrays have many convenient methods to calculate various statistics"
      ],
      "metadata": {
        "id": "X9CGSTqORM_Z"
      }
    },
    {
      "cell_type": "code",
      "source": [
        "np_array = numpy.array(num_list)\n",
        "np_array.mean()"
      ],
      "metadata": {
        "colab": {
          "base_uri": "https://localhost:8080/"
        },
        "id": "XjJoeA6NRBty",
        "outputId": "ce44fcbd-36f7-4b48-b589-f413846c4418"
      },
      "execution_count": 14,
      "outputs": [
        {
          "output_type": "execute_result",
          "data": {
            "text/plain": [
              "2.5"
            ]
          },
          "metadata": {},
          "execution_count": 14
        }
      ]
    },
    {
      "cell_type": "code",
      "source": [
        "np_array.max()"
      ],
      "metadata": {
        "colab": {
          "base_uri": "https://localhost:8080/"
        },
        "id": "FzLCoG5URF44",
        "outputId": "6479a412-8c64-4241-f3e5-bb23008157e1"
      },
      "execution_count": 15,
      "outputs": [
        {
          "output_type": "execute_result",
          "data": {
            "text/plain": [
              "4"
            ]
          },
          "metadata": {},
          "execution_count": 15
        }
      ]
    },
    {
      "cell_type": "code",
      "source": [],
      "metadata": {
        "id": "47uY9CANRdkp"
      },
      "execution_count": 15,
      "outputs": []
    },
    {
      "cell_type": "markdown",
      "source": [
        "# Section 4: Functions\n",
        "\n",
        "In Python, a function is a block of reusable code that performs a specific task or set of tasks. Functions are used to organize code into logical units, make it more readable, and facilitate code reuse. Functions in Python follow a modular and organized approach to programming."
      ],
      "metadata": {
        "id": "vLsmDiJrRd4k"
      }
    },
    {
      "cell_type": "markdown",
      "source": [
        "We can define a function by:"
      ],
      "metadata": {
        "id": "5o57w6XURxL4"
      }
    },
    {
      "cell_type": "code",
      "source": [
        "def function_name(parameters):\n",
        "    # Code block or suite\n",
        "    # Perform tasks using parameters\n",
        "    return result  # Optional: return a value"
      ],
      "metadata": {
        "id": "lvfSXhghRuZM"
      },
      "execution_count": 16,
      "outputs": []
    },
    {
      "cell_type": "markdown",
      "source": [
        "`def`: Keyword used to define a function.\n",
        "\n",
        "`function_name`: Name of the function.\n",
        "\n",
        "`parameters`: Input values that the function can accept (optional).\n",
        "\n",
        "`return`: Keyword used to return a value from the function (optional)."
      ],
      "metadata": {
        "id": "EV-An4NvRzfh"
      }
    },
    {
      "cell_type": "code",
      "source": [
        "def sum_two_numbers(a, b):\n",
        "\n",
        "  result = a + b\n",
        "\n",
        "  return result"
      ],
      "metadata": {
        "id": "WyfRLo1tR6C5"
      },
      "execution_count": 17,
      "outputs": []
    },
    {
      "cell_type": "markdown",
      "source": [
        "Once you define the function, you can call the function by inputing any required parameters and re-use it. The `sum_two_numbers` function we define will return the result which you can assign it to a variable."
      ],
      "metadata": {
        "id": "2l5DW0R9SZzD"
      }
    },
    {
      "cell_type": "code",
      "source": [
        "result1 = sum_two_numbers(2, 4)\n",
        "print(result1)"
      ],
      "metadata": {
        "colab": {
          "base_uri": "https://localhost:8080/"
        },
        "id": "yBIN3ochR-_o",
        "outputId": "4904492f-0486-4d58-c55a-5ae8d1ef2d7b"
      },
      "execution_count": 18,
      "outputs": [
        {
          "output_type": "stream",
          "name": "stdout",
          "text": [
            "6\n"
          ]
        }
      ]
    },
    {
      "cell_type": "code",
      "source": [
        "result2 = sum_two_numbers(-1, 5)\n",
        "print(result2)"
      ],
      "metadata": {
        "colab": {
          "base_uri": "https://localhost:8080/"
        },
        "id": "RALKJ2mfSAYG",
        "outputId": "90b13c53-8f08-4799-dc6e-a02a289d71fd"
      },
      "execution_count": 19,
      "outputs": [
        {
          "output_type": "stream",
          "name": "stdout",
          "text": [
            "4\n"
          ]
        }
      ]
    },
    {
      "cell_type": "markdown",
      "source": [
        "Default Parameters:\n",
        "You can provide default values for parameters in a function, making them optional when calling the function.\n",
        "\n",
        "Here, we set a default name to be guest. If we don't input any parameter in our `greet` function, then it will use the default value."
      ],
      "metadata": {
        "id": "hsN_jOh7S3dy"
      }
    },
    {
      "cell_type": "code",
      "source": [
        "def greet(name=\"Guest\"):\n",
        "    return \"Hello, \" + name\n"
      ],
      "metadata": {
        "id": "R5jCmasjSSjN"
      },
      "execution_count": 20,
      "outputs": []
    },
    {
      "cell_type": "code",
      "source": [
        "greeting = greet()\n",
        "print(greeting)"
      ],
      "metadata": {
        "colab": {
          "base_uri": "https://localhost:8080/"
        },
        "id": "T78noLktS9pQ",
        "outputId": "7cdf3d5b-1ce2-422e-dc3a-e253a464c9f9"
      },
      "execution_count": 21,
      "outputs": [
        {
          "output_type": "stream",
          "name": "stdout",
          "text": [
            "Hello, Guest\n"
          ]
        }
      ]
    },
    {
      "cell_type": "markdown",
      "source": [
        "If you do input a variable, it will override the default."
      ],
      "metadata": {
        "id": "Woaj9ssjTMN9"
      }
    },
    {
      "cell_type": "code",
      "source": [
        "greet(\"Tom\")"
      ],
      "metadata": {
        "colab": {
          "base_uri": "https://localhost:8080/",
          "height": 56
        },
        "id": "LnAXHTOKS--B",
        "outputId": "3f496c19-89e7-48d9-ad4a-e8bca2d00bf6"
      },
      "execution_count": 22,
      "outputs": [
        {
          "output_type": "execute_result",
          "data": {
            "text/plain": [
              "'Hello, Tom'"
            ],
            "application/vnd.google.colaboratory.intrinsic+json": {
              "type": "string"
            }
          },
          "metadata": {},
          "execution_count": 22
        }
      ]
    },
    {
      "cell_type": "code",
      "source": [],
      "metadata": {
        "id": "jxZ6rFcgTK_s"
      },
      "execution_count": 22,
      "outputs": []
    }
  ],
  "metadata": {
    "kernelspec": {
      "display_name": "Python 3",
      "language": "python",
      "name": "python3"
    },
    "language_info": {
      "codemirror_mode": {
        "name": "ipython",
        "version": 3
      },
      "file_extension": ".py",
      "mimetype": "text/x-python",
      "name": "python",
      "nbconvert_exporter": "python",
      "pygments_lexer": "ipython3",
      "version": "3.5.2"
    },
    "colab": {
      "provenance": [],
      "include_colab_link": true
    }
  },
  "nbformat": 4,
  "nbformat_minor": 0
}