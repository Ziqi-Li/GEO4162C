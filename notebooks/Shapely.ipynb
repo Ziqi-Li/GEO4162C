{
  "nbformat": 4,
  "nbformat_minor": 0,
  "metadata": {
    "colab": {
      "provenance": [],
      "mount_file_id": "1_MhQoSDqLz8Hs8--FrR8cJVsaBdfSeo8",
      "authorship_tag": "ABX9TyMQJOfWbzWm3CoKhUMLRLCo",
      "include_colab_link": true
    },
    "kernelspec": {
      "name": "python3",
      "display_name": "Python 3"
    },
    "language_info": {
      "name": "python"
    }
  },
  "cells": [
    {
      "cell_type": "markdown",
      "metadata": {
        "id": "view-in-github",
        "colab_type": "text"
      },
      "source": [
        "<a href=\"https://colab.research.google.com/github/Ziqi-Li/GEO4162C/blob/spring-24/notebooks/Shapely.ipynb\" target=\"_parent\"><img src=\"https://colab.research.google.com/assets/colab-badge.svg\" alt=\"Open In Colab\"/></a>"
      ]
    },
    {
      "cell_type": "code",
      "source": [
        "import shapely"
      ],
      "metadata": {
        "id": "BFcdcqsKt6pF"
      },
      "execution_count": 1,
      "outputs": []
    },
    {
      "cell_type": "markdown",
      "source": [
        "## Define two points"
      ],
      "metadata": {
        "id": "6QaFmWO4v4XZ"
      }
    },
    {
      "cell_type": "code",
      "source": [
        "point1 = shapely.geometry.Point(2.2, 4.2)\n",
        "\n",
        "point2 = shapely.geometry.Point(7.2, -25.1)"
      ],
      "metadata": {
        "id": "33lTgUBiuJgm"
      },
      "execution_count": 2,
      "outputs": []
    },
    {
      "cell_type": "markdown",
      "source": [
        "Recall: The \"=\" sign means assigning the value (right) to the variable (right)."
      ],
      "metadata": {
        "id": "k4RwJ02NweM3"
      }
    },
    {
      "cell_type": "markdown",
      "source": [
        "## Calculate distance between point1 and point2"
      ],
      "metadata": {
        "id": "cvmxX9s3wHvz"
      }
    },
    {
      "cell_type": "code",
      "source": [
        "point1.distance(point2)"
      ],
      "metadata": {
        "colab": {
          "base_uri": "https://localhost:8080/"
        },
        "id": "2Syu4pqOwLOE",
        "outputId": "72329bbe-d9f9-4a92-d32f-cbfce291308d"
      },
      "execution_count": 3,
      "outputs": [
        {
          "output_type": "execute_result",
          "data": {
            "text/plain": [
              "29.723559679150142"
            ]
          },
          "metadata": {},
          "execution_count": 3
        }
      ]
    },
    {
      "cell_type": "markdown",
      "source": [
        "## Define a line with three points"
      ],
      "metadata": {
        "id": "VnXxL6QHwpXw"
      }
    },
    {
      "cell_type": "code",
      "source": [
        "point3 = shapely.geometry.Point(10.23, -5.456)\n",
        "\n",
        "myLine = shapely.geometry.LineString([point1, point2, point3])"
      ],
      "metadata": {
        "id": "_b4I678YwLlR"
      },
      "execution_count": 4,
      "outputs": []
    },
    {
      "cell_type": "code",
      "source": [
        "myLine"
      ],
      "metadata": {
        "colab": {
          "base_uri": "https://localhost:8080/",
          "height": 141
        },
        "id": "Co_DkcPZwwRm",
        "outputId": "a099ad81-5f06-4828-ceaa-fe29f10f1108"
      },
      "execution_count": 5,
      "outputs": [
        {
          "output_type": "execute_result",
          "data": {
            "text/plain": [
              "<LINESTRING (2.2 4.2, 7.2 -25.1, 10.23 -5.456)>"
            ],
            "image/svg+xml": "<svg xmlns=\"http://www.w3.org/2000/svg\" xmlns:xlink=\"http://www.w3.org/1999/xlink\" width=\"100.0\" height=\"100.0\" viewBox=\"1.028 -26.272000000000002 10.374 31.644000000000002\" preserveAspectRatio=\"xMinYMin meet\"><g transform=\"matrix(1,0,0,-1,0,-20.900000000000002)\"><polyline fill=\"none\" stroke=\"#66cc99\" stroke-width=\"0.63288\" points=\"2.2,4.2 7.2,-25.1 10.23,-5.456\" opacity=\"0.8\" /></g></svg>"
          },
          "metadata": {},
          "execution_count": 5
        }
      ]
    },
    {
      "cell_type": "markdown",
      "source": [
        "A line has many properties such as its length."
      ],
      "metadata": {
        "id": "PnbOns08xaT-"
      }
    },
    {
      "cell_type": "code",
      "source": [
        "myLine.length"
      ],
      "metadata": {
        "colab": {
          "base_uri": "https://localhost:8080/"
        },
        "id": "0TI0PygexTBz",
        "outputId": "35812e97-8856-4b82-b140-33e7f1a743dc"
      },
      "execution_count": 6,
      "outputs": [
        {
          "output_type": "execute_result",
          "data": {
            "text/plain": [
              "49.59986808891276"
            ]
          },
          "metadata": {},
          "execution_count": 6
        }
      ]
    },
    {
      "cell_type": "markdown",
      "source": [
        "## Define a polygon with four points (vertices)"
      ],
      "metadata": {
        "id": "TLXw8-h1xruk"
      }
    },
    {
      "cell_type": "code",
      "source": [
        "point4 = shapely.geometry.Point(5.0, 6.0)"
      ],
      "metadata": {
        "id": "mM4CpbOhxsDz"
      },
      "execution_count": 7,
      "outputs": []
    },
    {
      "cell_type": "code",
      "source": [
        "myPolygon = shapely.geometry.Polygon([point1, point2, point3, point4])"
      ],
      "metadata": {
        "id": "IlNR13tayQc9"
      },
      "execution_count": 8,
      "outputs": []
    },
    {
      "cell_type": "code",
      "source": [
        "myPolygon"
      ],
      "metadata": {
        "colab": {
          "base_uri": "https://localhost:8080/",
          "height": 141
        },
        "id": "raKGojcAybDu",
        "outputId": "9871534b-4cdd-424c-ffa0-4d504ff75ff2"
      },
      "execution_count": 9,
      "outputs": [
        {
          "output_type": "execute_result",
          "data": {
            "text/plain": [
              "<POLYGON ((2.2 4.2, 7.2 -25.1, 10.23 -5.456, 5 6, 2.2 4.2))>"
            ],
            "image/svg+xml": "<svg xmlns=\"http://www.w3.org/2000/svg\" xmlns:xlink=\"http://www.w3.org/1999/xlink\" width=\"100.0\" height=\"100.0\" viewBox=\"0.9560000000000002 -26.344 10.518 33.588\" preserveAspectRatio=\"xMinYMin meet\"><g transform=\"matrix(1,0,0,-1,0,-19.1)\"><path fill-rule=\"evenodd\" fill=\"#66cc99\" stroke=\"#555555\" stroke-width=\"0.67176\" opacity=\"0.6\" d=\"M 2.2,4.2 L 7.2,-25.1 L 10.23,-5.456 L 5.0,6.0 L 2.2,4.2 z\" /></g></svg>"
          },
          "metadata": {},
          "execution_count": 9
        }
      ]
    },
    {
      "cell_type": "markdown",
      "source": [
        "A polygon has properties such as its area."
      ],
      "metadata": {
        "id": "9r0fF5VSyqXA"
      }
    },
    {
      "cell_type": "code",
      "source": [
        "myPolygon.area"
      ],
      "metadata": {
        "colab": {
          "base_uri": "https://localhost:8080/"
        },
        "id": "2vpqo0YYyh_1",
        "outputId": "d8bcc70d-7e8b-4ba3-bdbf-736815b2583f"
      },
      "execution_count": 10,
      "outputs": [
        {
          "output_type": "execute_result",
          "data": {
            "text/plain": [
              "114.24490000000003"
            ]
          },
          "metadata": {},
          "execution_count": 10
        }
      ]
    },
    {
      "cell_type": "markdown",
      "source": [
        "How about its centroid?"
      ],
      "metadata": {
        "id": "d3p5vaBozZHP"
      }
    },
    {
      "cell_type": "code",
      "source": [
        "myPolygon.centroid"
      ],
      "metadata": {
        "colab": {
          "base_uri": "https://localhost:8080/",
          "height": 141
        },
        "id": "LTEyyM8By_QG",
        "outputId": "9216105b-9f5e-4021-b1dc-49f1473ef5a5"
      },
      "execution_count": 11,
      "outputs": [
        {
          "output_type": "execute_result",
          "data": {
            "text/plain": [
              "<POINT (6.41 -6.903)>"
            ],
            "image/svg+xml": "<svg xmlns=\"http://www.w3.org/2000/svg\" xmlns:xlink=\"http://www.w3.org/1999/xlink\" width=\"100.0\" height=\"100.0\" viewBox=\"5.4101694605185875 -7.902880403997612 2.0 2.0\" preserveAspectRatio=\"xMinYMin meet\"><g transform=\"matrix(1,0,0,-1,0,-13.805760807995224)\"><circle cx=\"6.4101694605185875\" cy=\"-6.902880403997612\" r=\"0.06\" stroke=\"#555555\" stroke-width=\"0.02\" fill=\"#66cc99\" opacity=\"0.6\" /></g></svg>"
          },
          "metadata": {},
          "execution_count": 11
        }
      ]
    },
    {
      "cell_type": "markdown",
      "source": [
        "If we need to know its coordiates"
      ],
      "metadata": {
        "id": "T2smn5hozfUG"
      }
    },
    {
      "cell_type": "code",
      "source": [
        "myPolygon.centroid.x"
      ],
      "metadata": {
        "colab": {
          "base_uri": "https://localhost:8080/"
        },
        "id": "xjKcZIq3zb_M",
        "outputId": "463bbfef-6246-41f3-ba39-191d5135e7f0"
      },
      "execution_count": 12,
      "outputs": [
        {
          "output_type": "execute_result",
          "data": {
            "text/plain": [
              "6.4101694605185875"
            ]
          },
          "metadata": {},
          "execution_count": 12
        }
      ]
    },
    {
      "cell_type": "code",
      "source": [
        "myPolygon.centroid.y"
      ],
      "metadata": {
        "colab": {
          "base_uri": "https://localhost:8080/"
        },
        "id": "oP0XTAqFzeDv",
        "outputId": "cda81241-86b8-4a78-c04d-809b6dc51b6f"
      },
      "execution_count": 13,
      "outputs": [
        {
          "output_type": "execute_result",
          "data": {
            "text/plain": [
              "-6.902880403997612"
            ]
          },
          "metadata": {},
          "execution_count": 13
        }
      ]
    },
    {
      "cell_type": "markdown",
      "source": [],
      "metadata": {
        "id": "tKLsu6BCUlt-"
      }
    },
    {
      "cell_type": "markdown",
      "source": [
        "## Geometric relationship"
      ],
      "metadata": {
        "id": "NaBaW_nzUcm3"
      }
    },
    {
      "cell_type": "code",
      "source": [
        "is_inside = point1.within(myPolygon)\n",
        "\n",
        "# Print the result\n",
        "print(\"Is the point inside the polygon?\", is_inside)"
      ],
      "metadata": {
        "colab": {
          "base_uri": "https://localhost:8080/"
        },
        "id": "WBnUA-D7UN6J",
        "outputId": "279f84eb-713c-459d-c087-7edc96f7bee6"
      },
      "execution_count": 14,
      "outputs": [
        {
          "output_type": "stream",
          "name": "stdout",
          "text": [
            "Is the point inside the polygon? False\n"
          ]
        }
      ]
    },
    {
      "cell_type": "markdown",
      "source": [
        "Are two line intersecting?"
      ],
      "metadata": {
        "id": "H2eYkhVZUsn2"
      }
    },
    {
      "cell_type": "code",
      "source": [
        "myLine1 = shapely.geometry.LineString([(1,2), (2,5), (5,3)])\n",
        "myLine1"
      ],
      "metadata": {
        "colab": {
          "base_uri": "https://localhost:8080/",
          "height": 141
        },
        "id": "4SjXdvBNUsIv",
        "outputId": "5ed18796-8fd0-4cb4-f1c2-b572b3f3e591"
      },
      "execution_count": 15,
      "outputs": [
        {
          "output_type": "execute_result",
          "data": {
            "text/plain": [
              "<LINESTRING (1 2, 2 5, 5 3)>"
            ],
            "image/svg+xml": "<svg xmlns=\"http://www.w3.org/2000/svg\" xmlns:xlink=\"http://www.w3.org/1999/xlink\" width=\"100.0\" height=\"100.0\" viewBox=\"0.84 1.84 4.32 3.3200000000000003\" preserveAspectRatio=\"xMinYMin meet\"><g transform=\"matrix(1,0,0,-1,0,7.0)\"><polyline fill=\"none\" stroke=\"#66cc99\" stroke-width=\"0.0864\" points=\"1.0,2.0 2.0,5.0 5.0,3.0\" opacity=\"0.8\" /></g></svg>"
          },
          "metadata": {},
          "execution_count": 15
        }
      ]
    },
    {
      "cell_type": "code",
      "source": [
        "myLine2 = shapely.geometry.LineString([(2,0), (0,4), (4,1)])"
      ],
      "metadata": {
        "id": "YP4HqI-0U4Ow"
      },
      "execution_count": 16,
      "outputs": []
    },
    {
      "cell_type": "code",
      "source": [
        "myLine2"
      ],
      "metadata": {
        "colab": {
          "base_uri": "https://localhost:8080/",
          "height": 141
        },
        "id": "WA6_PWPqVCQG",
        "outputId": "605994ad-4735-4bd8-96ab-133f5aa0b93a"
      },
      "execution_count": 17,
      "outputs": [
        {
          "output_type": "execute_result",
          "data": {
            "text/plain": [
              "<LINESTRING (2 0, 0 4, 4 1)>"
            ],
            "image/svg+xml": "<svg xmlns=\"http://www.w3.org/2000/svg\" xmlns:xlink=\"http://www.w3.org/1999/xlink\" width=\"100.0\" height=\"100.0\" viewBox=\"-0.16 -0.16 4.32 4.32\" preserveAspectRatio=\"xMinYMin meet\"><g transform=\"matrix(1,0,0,-1,0,4.0)\"><polyline fill=\"none\" stroke=\"#66cc99\" stroke-width=\"0.0864\" points=\"2.0,0.0 0.0,4.0 4.0,1.0\" opacity=\"0.8\" /></g></svg>"
          },
          "metadata": {},
          "execution_count": 17
        }
      ]
    },
    {
      "cell_type": "code",
      "source": [
        "myLine1.intersects(myLine2)"
      ],
      "metadata": {
        "colab": {
          "base_uri": "https://localhost:8080/"
        },
        "id": "QjFNEsb3UsPT",
        "outputId": "2e3fb05b-fbfe-47b0-98a4-6f9505c67d55"
      },
      "execution_count": 18,
      "outputs": [
        {
          "output_type": "execute_result",
          "data": {
            "text/plain": [
              "True"
            ]
          },
          "metadata": {},
          "execution_count": 18
        }
      ]
    },
    {
      "cell_type": "code",
      "source": [
        "intersections = myLine1.intersection(myLine2)"
      ],
      "metadata": {
        "id": "YqhIIj38VHI9"
      },
      "execution_count": 19,
      "outputs": []
    },
    {
      "cell_type": "code",
      "source": [
        "print(\"First intersection:\", intersections.geoms[0].coords[0])\n",
        "print(\"First intersection:\", intersections.geoms[1].coords[0])"
      ],
      "metadata": {
        "colab": {
          "base_uri": "https://localhost:8080/"
        },
        "id": "vTxsqlTxVQGw",
        "outputId": "390d4779-d4a0-4ea0-9dd1-8d31989f9107"
      },
      "execution_count": 20,
      "outputs": [
        {
          "output_type": "stream",
          "name": "stdout",
          "text": [
            "First intersection: (1.3333333333333333, 3.0)\n",
            "First intersection: (1.0, 2.0)\n"
          ]
        }
      ]
    },
    {
      "cell_type": "code",
      "source": [
        "import matplotlib.pyplot as plt\n",
        "plt.plot(myLine1.xy[0], myLine1.xy[1])\n",
        "plt.plot(myLine2.xy[0], myLine2.xy[1])"
      ],
      "metadata": {
        "colab": {
          "base_uri": "https://localhost:8080/",
          "height": 468
        },
        "id": "NBR10RQ4W4-U",
        "outputId": "41242de0-ea50-4758-eb4a-6dd1232899eb"
      },
      "execution_count": 21,
      "outputs": [
        {
          "output_type": "execute_result",
          "data": {
            "text/plain": [
              "[<matplotlib.lines.Line2D at 0x7c9d76f94070>]"
            ]
          },
          "metadata": {},
          "execution_count": 21
        },
        {
          "output_type": "display_data",
          "data": {
            "text/plain": [
              "<Figure size 640x480 with 1 Axes>"
            ],
            "image/png": "[encoded data removed]"
          },
          "metadata": {}
        }
      ]
    },
    {
      "cell_type": "markdown",
      "source": [
        "How do we know what functions/properties are available and what are not?\n",
        "\n",
        "Check the documents: https://shapely.readthedocs.io/en/latest/geometry.html\n",
        "\n"
      ],
      "metadata": {
        "id": "_E3nMOsDBmpE"
      }
    }
  ]
}