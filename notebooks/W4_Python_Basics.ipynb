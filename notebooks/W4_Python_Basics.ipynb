{
  "cells": [
    {
      "cell_type": "markdown",
      "metadata": {
        "id": "view-in-github",
        "colab_type": "text"
      },
      "source": [
        "<a href=\"https://colab.research.google.com/github/Ziqi-Li/GEO4162C/blob/fall-24/notebooks/W4_Python_Basics.ipynb\" target=\"_parent\"><img src=\"https://colab.research.google.com/assets/colab-badge.svg\" alt=\"Open In Colab\"/></a>"
      ]
    },
    {
      "cell_type": "markdown",
      "metadata": {
        "id": "lNNN-LzDJsoX"
      },
      "source": [
        "# Introduction to Python"
      ]
    },
    {
      "cell_type": "markdown",
      "metadata": {
        "id": "zJbuufh3Jsob"
      },
      "source": [
        "## Section 1: Variables and Data Types\n",
        "### 1.1 Variables"
      ]
    },
    {
      "cell_type": "markdown",
      "source": [
        "Variable assignment: '=' the equal sign here refers to assigning a value (right hand side) to a variable (left hand side). You can name anything for your variable, but there are some restrictions:\n",
        "1. Variable names can only contain letters (a-z, A-Z), numbers (0-9), and underscores (_).They cannot start with a number.\n",
        "2. Variable names are case sensitive\n",
        "3. Avoid using Python reserved words (keywords) as variable names. Examples include if, else, while, for, in, and, or, True, False, etc."
      ],
      "metadata": {
        "id": "hRZjaldlLmwK"
      }
    },
    {
      "cell_type": "code",
      "source": [
        "x = 5\n",
        "y = \"Hello, Python!\""
      ],
      "metadata": {
        "id": "xoPg6ryMK_a1"
      },
      "execution_count": 49,
      "outputs": []
    },
    {
      "cell_type": "markdown",
      "source": [
        "A `print()` function can print the value held by the varaible."
      ],
      "metadata": {
        "id": "PS2tifDDMc0O"
      }
    },
    {
      "cell_type": "code",
      "source": [
        "print(x)\n",
        "print(y)"
      ],
      "metadata": {
        "colab": {
          "base_uri": "https://localhost:8080/"
        },
        "id": "fjVn_xrcMZHq",
        "outputId": "d64e79a2-5fed-426c-d580-20cca2750f45"
      },
      "execution_count": 50,
      "outputs": [
        {
          "output_type": "stream",
          "name": "stdout",
          "text": [
            "5\n",
            "Hello, Python!\n"
          ]
        }
      ]
    },
    {
      "cell_type": "markdown",
      "source": [
        "### 1.2 Data Types"
      ],
      "metadata": {
        "id": "4lcDx7uQMVJR"
      }
    },
    {
      "cell_type": "code",
      "source": [
        "integer_variable = 10\n",
        "float_variable = 3.14 #float is decimals\n",
        "string_variable = \"Python\" #string is text\n",
        "boolean_variable = True #boolean is binary True False.\n"
      ],
      "metadata": {
        "id": "AUcqOG9wK_gT"
      },
      "execution_count": 51,
      "outputs": []
    },
    {
      "cell_type": "markdown",
      "source": [
        "Remeber, `'12'` will be a string rather than a number"
      ],
      "metadata": {
        "id": "dv5nUNenMuHd"
      }
    },
    {
      "cell_type": "markdown",
      "source": [
        "## Section 2: Control Structures"
      ],
      "metadata": {
        "id": "SgUdMTMdM9id"
      }
    },
    {
      "cell_type": "markdown",
      "source": [
        "### 2.1 Conditional Statements"
      ],
      "metadata": {
        "id": "9ZRQsEJ2NTG1"
      }
    },
    {
      "cell_type": "markdown",
      "source": [
        "Conditions are usually done by the `if` statement. Comparisons, such as `x>0` will return you with either `True` or `False`. The indented code below the comparison will only run if the comparison returns you a `True`. Note that in python, to compare if the two things are equal, we need to put `==` two `=` symbol. This is to diffentiate with variable assignment."
      ],
      "metadata": {
        "id": "YYIlMdWENbKk"
      }
    },
    {
      "cell_type": "code",
      "source": [
        "x = 5\n",
        "\n",
        "# If statement\n",
        "if x > 0:\n",
        "    print(\"x is positive\")\n",
        "\n",
        "elif x == 0:\n",
        "    print(\"x is zero\")\n",
        "\n",
        "else:\n",
        "    print(\"x is negative\")"
      ],
      "metadata": {
        "colab": {
          "base_uri": "https://localhost:8080/"
        },
        "id": "9cJTgkfDLILW",
        "outputId": "46bb4382-33bd-45a8-ee6b-924595bf7d5e"
      },
      "execution_count": 52,
      "outputs": [
        {
          "output_type": "stream",
          "name": "stdout",
          "text": [
            "x is positive\n"
          ]
        }
      ]
    },
    {
      "cell_type": "markdown",
      "source": [
        "### 2.2 Loop\n",
        "\n",
        "In Python, a loop is a control structure that allows you to repeatedly execute a block of code. It helps in automating repetitive tasks and iterating over a sequence (such as a list, tuple, string, or range) to perform a set of operations.\n",
        "\n",
        "The most common loop is what is called a `for` loop. In the below example, we iterate from 0 to n using the `range(n)` function where n=5 in our case. For each iteration, we print out the value of the iterator `i`.\n",
        "\n",
        "One important caveat here is that in python everything starts with `0` instead of `1`."
      ],
      "metadata": {
        "id": "1ZQEEtXbOU1b"
      }
    },
    {
      "cell_type": "code",
      "source": [
        "# For loop\n",
        "\n",
        "n=5\n",
        "for i in range(n):\n",
        "    print(i)\n"
      ],
      "metadata": {
        "colab": {
          "base_uri": "https://localhost:8080/"
        },
        "id": "-e-UB8QSLIRA",
        "outputId": "475082e2-41c7-4d56-b382-d6f063c64312"
      },
      "execution_count": 53,
      "outputs": [
        {
          "output_type": "stream",
          "name": "stdout",
          "text": [
            "0\n",
            "1\n",
            "2\n",
            "3\n",
            "4\n"
          ]
        }
      ]
    },
    {
      "cell_type": "markdown",
      "source": [
        "Below is another example that we can re-write the above loop, to add numbers from 0 to 4 (i.e. 1 + 2 + 3 + 4) and output the final result."
      ],
      "metadata": {
        "id": "Uu5BAacZPA3i"
      }
    },
    {
      "cell_type": "code",
      "source": [
        "sum = 0\n",
        "for i in range(5):\n",
        "    sum = sum + i\n",
        "\n",
        "print(sum)\n"
      ],
      "metadata": {
        "colab": {
          "base_uri": "https://localhost:8080/"
        },
        "id": "pn1r2LKSO6TT",
        "outputId": "2fb44f78-5cbe-44e5-a1ac-1739ed239475"
      },
      "execution_count": 54,
      "outputs": [
        {
          "output_type": "stream",
          "name": "stdout",
          "text": [
            "10\n"
          ]
        }
      ]
    },
    {
      "cell_type": "markdown",
      "source": [
        "# Section 3: List and Array"
      ],
      "metadata": {
        "id": "duGjHSpxPeu_"
      }
    },
    {
      "cell_type": "markdown",
      "source": [
        "### 3.1 List\n",
        "\n",
        "A list is a data srtcuture to host a sequence of elements. A list can host not only numbers but also all data types"
      ],
      "metadata": {
        "id": "J6ZeMu5aPnnn"
      }
    },
    {
      "cell_type": "code",
      "source": [
        "num_list = [1,2,3,4]"
      ],
      "metadata": {
        "id": "T-4QZDJ5P3pI"
      },
      "execution_count": 55,
      "outputs": []
    },
    {
      "cell_type": "code",
      "source": [
        "animal_list = ['cat','dog','lion','panda']"
      ],
      "metadata": {
        "id": "5ed704XmP6aA"
      },
      "execution_count": 56,
      "outputs": []
    },
    {
      "cell_type": "markdown",
      "source": [
        "We can also iterate over a list using `for` loop"
      ],
      "metadata": {
        "id": "1H3DI3V-QEVb"
      }
    },
    {
      "cell_type": "code",
      "source": [
        "for num in num_list:\n",
        "  print (num)"
      ],
      "metadata": {
        "colab": {
          "base_uri": "https://localhost:8080/"
        },
        "id": "DXHFGKPJQJzX",
        "outputId": "b7e32a14-f86b-4b50-edea-f123b5847567"
      },
      "execution_count": 57,
      "outputs": [
        {
          "output_type": "stream",
          "name": "stdout",
          "text": [
            "1\n",
            "2\n",
            "3\n",
            "4\n"
          ]
        }
      ]
    },
    {
      "cell_type": "code",
      "source": [
        "for animal in animal_list:\n",
        "  print(animal)"
      ],
      "metadata": {
        "colab": {
          "base_uri": "https://localhost:8080/"
        },
        "id": "B5PmYhuvQMwW",
        "outputId": "399f331b-e60c-4fe8-b380-165132900ef7"
      },
      "execution_count": 58,
      "outputs": [
        {
          "output_type": "stream",
          "name": "stdout",
          "text": [
            "cat\n",
            "dog\n",
            "lion\n",
            "panda\n"
          ]
        }
      ]
    },
    {
      "cell_type": "markdown",
      "source": [
        "We can add or remove an element from the list."
      ],
      "metadata": {
        "id": "12TLuHQFQSw-"
      }
    },
    {
      "cell_type": "code",
      "source": [
        "animal_list.append('frog')\n",
        "animal_list"
      ],
      "metadata": {
        "colab": {
          "base_uri": "https://localhost:8080/"
        },
        "id": "4nv09wcrQST_",
        "outputId": "8633a91f-6149-403b-be83-23ef6d31961b"
      },
      "execution_count": 59,
      "outputs": [
        {
          "output_type": "execute_result",
          "data": {
            "text/plain": [
              "['cat', 'dog', 'lion', 'panda', 'frog']"
            ]
          },
          "metadata": {},
          "execution_count": 59
        }
      ]
    },
    {
      "cell_type": "code",
      "source": [
        "animal_list.remove('frog')\n",
        "animal_list"
      ],
      "metadata": {
        "colab": {
          "base_uri": "https://localhost:8080/"
        },
        "id": "n2SmVeLXQojk",
        "outputId": "77b25e98-3e94-4029-ff79-2acb1d81c51f"
      },
      "execution_count": 60,
      "outputs": [
        {
          "output_type": "execute_result",
          "data": {
            "text/plain": [
              "['cat', 'dog', 'lion', 'panda']"
            ]
          },
          "metadata": {},
          "execution_count": 60
        }
      ]
    },
    {
      "cell_type": "markdown",
      "source": [
        "### 3.2 Array"
      ],
      "metadata": {
        "id": "dK_gEYOxTf2-"
      }
    },
    {
      "cell_type": "markdown",
      "source": [
        "An array is often used to host numbers and perform maths and linear algebra calculations. Arrays are defined by the `numpy` package. We can convert a list to an array shown as follows:"
      ],
      "metadata": {
        "id": "N4xH-8lfQswR"
      }
    },
    {
      "cell_type": "code",
      "source": [
        "import numpy\n",
        "numpy.array(num_list)"
      ],
      "metadata": {
        "colab": {
          "base_uri": "https://localhost:8080/"
        },
        "id": "K9e81NfoQ8Uy",
        "outputId": "bb473f2c-1e63-482e-a3ec-0e62a1718370"
      },
      "execution_count": 61,
      "outputs": [
        {
          "output_type": "execute_result",
          "data": {
            "text/plain": [
              "array([1, 2, 3, 4])"
            ]
          },
          "metadata": {},
          "execution_count": 61
        }
      ]
    },
    {
      "cell_type": "markdown",
      "source": [
        "Numpy arrays have many convenient methods to calculate various statistics"
      ],
      "metadata": {
        "id": "X9CGSTqORM_Z"
      }
    },
    {
      "cell_type": "code",
      "source": [
        "np_array = numpy.array(num_list)\n",
        "np_array.mean()"
      ],
      "metadata": {
        "colab": {
          "base_uri": "https://localhost:8080/"
        },
        "id": "XjJoeA6NRBty",
        "outputId": "c72b806a-dff7-487b-d6fe-d4d76be285c5"
      },
      "execution_count": 62,
      "outputs": [
        {
          "output_type": "execute_result",
          "data": {
            "text/plain": [
              "2.5"
            ]
          },
          "metadata": {},
          "execution_count": 62
        }
      ]
    },
    {
      "cell_type": "code",
      "source": [
        "np_array.max()"
      ],
      "metadata": {
        "colab": {
          "base_uri": "https://localhost:8080/"
        },
        "id": "FzLCoG5URF44",
        "outputId": "b33d65e6-6345-4e8a-d653-4027df14c033"
      },
      "execution_count": 63,
      "outputs": [
        {
          "output_type": "execute_result",
          "data": {
            "text/plain": [
              "4"
            ]
          },
          "metadata": {},
          "execution_count": 63
        }
      ]
    },
    {
      "cell_type": "code",
      "source": [],
      "metadata": {
        "id": "47uY9CANRdkp"
      },
      "execution_count": 63,
      "outputs": []
    },
    {
      "cell_type": "markdown",
      "source": [
        "# Section 4: Functions\n",
        "\n",
        "In Python, a function is a block of reusable code that performs a specific task or set of tasks. Functions are used to organize code into logical units, make it more readable, and facilitate code reuse. Functions in Python follow a modular and organized approach to programming.\n",
        "\n",
        "In most the cases, for example, for tasks involved in our class, we don't write functions ourselves. Instead, we call functions written by other developers from a certain package. But it is useful to understand functions in a general sense."
      ],
      "metadata": {
        "id": "vLsmDiJrRd4k"
      }
    },
    {
      "cell_type": "markdown",
      "source": [
        "We can define a function by:"
      ],
      "metadata": {
        "id": "5o57w6XURxL4"
      }
    },
    {
      "cell_type": "markdown",
      "source": [
        "\n",
        "```\n",
        "def function_name(parameters_1, parameters_2,parameters_3):\n",
        "    # Code block or suite\n",
        "    # Perform tasks using parameters\n",
        "    return result  # Optional: return a value\n",
        "```\n",
        "\n"
      ],
      "metadata": {
        "id": "twygqDP5KBK0"
      }
    },
    {
      "cell_type": "markdown",
      "source": [
        "`def`: Keyword used to define a function.\n",
        "\n",
        "`function_name`: Name of the function.\n",
        "\n",
        "`parameters`: Input values that the function can accept (optional).\n",
        "\n",
        "`return`: Keyword used to return a value from the function (optional)."
      ],
      "metadata": {
        "id": "EV-An4NvRzfh"
      }
    },
    {
      "cell_type": "code",
      "source": [
        "def sum_two_numbers(a, b):\n",
        "\n",
        "  result = a + b\n",
        "\n",
        "  return result"
      ],
      "metadata": {
        "id": "WyfRLo1tR6C5"
      },
      "execution_count": 64,
      "outputs": []
    },
    {
      "cell_type": "markdown",
      "source": [
        "Once you define the function, you can call the function by inputing any required parameters and re-use it. The `sum_two_numbers` function we define will return the result which you can assign it to a variable."
      ],
      "metadata": {
        "id": "2l5DW0R9SZzD"
      }
    },
    {
      "cell_type": "code",
      "source": [
        "result1 = sum_two_numbers(2, 4)\n",
        "print(result1)"
      ],
      "metadata": {
        "colab": {
          "base_uri": "https://localhost:8080/"
        },
        "id": "yBIN3ochR-_o",
        "outputId": "a4535ee2-16ff-433b-9018-f41c082cc743"
      },
      "execution_count": 65,
      "outputs": [
        {
          "output_type": "stream",
          "name": "stdout",
          "text": [
            "6\n"
          ]
        }
      ]
    },
    {
      "cell_type": "code",
      "source": [
        "result2 = sum_two_numbers(-1, 5)\n",
        "print(result2)"
      ],
      "metadata": {
        "colab": {
          "base_uri": "https://localhost:8080/"
        },
        "id": "RALKJ2mfSAYG",
        "outputId": "079a0a25-429f-4872-a4b8-c795c10e23c6"
      },
      "execution_count": 66,
      "outputs": [
        {
          "output_type": "stream",
          "name": "stdout",
          "text": [
            "4\n"
          ]
        }
      ]
    },
    {
      "cell_type": "markdown",
      "source": [
        "Default Parameters:\n",
        "You can provide default values for parameters in a function, making them optional when calling the function.\n",
        "\n",
        "Here, we set a default name to be guest. If we don't input any parameter in our `greet` function, then it will use the default value."
      ],
      "metadata": {
        "id": "hsN_jOh7S3dy"
      }
    },
    {
      "cell_type": "code",
      "source": [
        "def greet(name=\"Guest\"):\n",
        "    return \"Hello, \" + name\n"
      ],
      "metadata": {
        "id": "R5jCmasjSSjN"
      },
      "execution_count": 67,
      "outputs": []
    },
    {
      "cell_type": "code",
      "source": [
        "greeting = greet() # No input, using default instead\n",
        "print(greeting)"
      ],
      "metadata": {
        "colab": {
          "base_uri": "https://localhost:8080/"
        },
        "id": "T78noLktS9pQ",
        "outputId": "7f91a3ac-a42e-4506-c6b7-d785781ca59d"
      },
      "execution_count": 68,
      "outputs": [
        {
          "output_type": "stream",
          "name": "stdout",
          "text": [
            "Hello, Guest\n"
          ]
        }
      ]
    },
    {
      "cell_type": "markdown",
      "source": [
        "If you do input a variable, it will override the default."
      ],
      "metadata": {
        "id": "Woaj9ssjTMN9"
      }
    },
    {
      "cell_type": "code",
      "source": [
        "greet(\"Tom\")"
      ],
      "metadata": {
        "colab": {
          "base_uri": "https://localhost:8080/",
          "height": 36
        },
        "id": "LnAXHTOKS--B",
        "outputId": "81bce45a-7831-49f3-80cf-1cdf0d3fc8c7"
      },
      "execution_count": 69,
      "outputs": [
        {
          "output_type": "execute_result",
          "data": {
            "text/plain": [
              "'Hello, Tom'"
            ],
            "application/vnd.google.colaboratory.intrinsic+json": {
              "type": "string"
            }
          },
          "metadata": {},
          "execution_count": 69
        }
      ]
    },
    {
      "cell_type": "code",
      "source": [],
      "metadata": {
        "id": "jxZ6rFcgTK_s"
      },
      "execution_count": 69,
      "outputs": []
    },
    {
      "cell_type": "code",
      "source": [
        "import geopandas"
      ],
      "metadata": {
        "id": "ssCkWLPEKYm3"
      },
      "execution_count": 70,
      "outputs": []
    },
    {
      "cell_type": "code",
      "source": [
        "ocean_url = \"https://raw.githubusercontent.com/Ziqi-Li/GEO4162C/spring-24/data/world_ocean.geojson\"\n"
      ],
      "metadata": {
        "id": "rmbM2y1zKaOm"
      },
      "execution_count": 71,
      "outputs": []
    },
    {
      "cell_type": "markdown",
      "source": [
        "If we re-examine the `read_file` function, here it requires an input which is the URL of a spatial data file, and it has a `return`ed output which will be the `GeoDataFrame`.\n",
        "\n",
        "And we store this `GeoDataFrame` using a variable name `ocean`. So further analysis on this data can be referred to as ocean."
      ],
      "metadata": {
        "id": "AQWHBi6VKj9O"
      }
    },
    {
      "cell_type": "code",
      "source": [
        "ocean = geopandas.read_file(ocean_url)"
      ],
      "metadata": {
        "id": "GfekDnT6KjKc"
      },
      "execution_count": 72,
      "outputs": []
    },
    {
      "cell_type": "markdown",
      "source": [
        "Here `.plot()` is another function. Again, nothing in the `()` means that this function does not require any input. In fact, it will use default style for the map."
      ],
      "metadata": {
        "id": "5qdBPigpK4G1"
      }
    },
    {
      "cell_type": "code",
      "source": [
        "ocean.plot()"
      ],
      "metadata": {
        "colab": {
          "base_uri": "https://localhost:8080/",
          "height": 320
        },
        "id": "Ca3WCIFBK25-",
        "outputId": "399b0174-578c-4423-a067-4da374fe1380"
      },
      "execution_count": 73,
      "outputs": [
        {
          "output_type": "execute_result",
          "data": {
            "text/plain": [
              "<Axes: >"
            ]
          },
          "metadata": {},
          "execution_count": 73
        },
        {
          "output_type": "display_data",
          "data": {
            "text/plain": [
              "<Figure size 640x480 with 1 Axes>"
            ],
            "image/png": "[encoded data removed]"
          },
          "metadata": {}
        }
      ]
    },
    {
      "cell_type": "markdown",
      "source": [
        "If you want to override the style, then, you need to specify your own parameter, here, we changed the blue to red color."
      ],
      "metadata": {
        "id": "ucsgqIqBLG7T"
      }
    },
    {
      "cell_type": "code",
      "source": [
        "ocean.plot(color=\"red\")"
      ],
      "metadata": {
        "colab": {
          "base_uri": "https://localhost:8080/",
          "height": 320
        },
        "id": "M--PEJ0JLGRg",
        "outputId": "73abca4e-6bc9-4866-a01d-6a9b17905b1f"
      },
      "execution_count": 74,
      "outputs": [
        {
          "output_type": "execute_result",
          "data": {
            "text/plain": [
              "<Axes: >"
            ]
          },
          "metadata": {},
          "execution_count": 74
        },
        {
          "output_type": "display_data",
          "data": {
            "text/plain": [
              "<Figure size 640x480 with 1 Axes>"
            ],
            "image/png": "[encoded data removed]"
          },
          "metadata": {}
        }
      ]
    },
    {
      "cell_type": "markdown",
      "source": [
        "The `help` function gives you a comprehensive documentation of possible parameters for this function."
      ],
      "metadata": {
        "id": "aKVlel3fLQaV"
      }
    },
    {
      "cell_type": "code",
      "source": [
        "help(ocean.plot)"
      ],
      "metadata": {
        "colab": {
          "base_uri": "https://localhost:8080/"
        },
        "id": "IYZHxHn1K3pq",
        "outputId": "6bb0fe2c-a4df-41fb-94ad-4db763f10c9b"
      },
      "execution_count": 75,
      "outputs": [
        {
          "output_type": "stream",
          "name": "stdout",
          "text": [
            "Help on GeoplotAccessor in module geopandas.plotting object:\n",
            "\n",
            "class GeoplotAccessor(pandas.plotting._core.PlotAccessor)\n",
            " |  GeoplotAccessor(data) -> 'None'\n",
            " |  \n",
            " |  Plot a GeoDataFrame.\n",
            " |  \n",
            " |  Generate a plot of a GeoDataFrame with matplotlib.  If a\n",
            " |  column is specified, the plot coloring will be based on values\n",
            " |  in that column.\n",
            " |  \n",
            " |  Parameters\n",
            " |  ----------\n",
            " |  column : str, np.array, pd.Series (default None)\n",
            " |      The name of the dataframe column, np.array, or pd.Series to be plotted.\n",
            " |      If np.array or pd.Series are used then it must have same length as\n",
            " |      dataframe. Values are used to color the plot. Ignored if `color` is\n",
            " |      also set.\n",
            " |  kind: str\n",
            " |      The kind of plots to produce. The default is to create a map (\"geo\").\n",
            " |      Other supported kinds of plots from pandas:\n",
            " |  \n",
            " |      - 'line' : line plot\n",
            " |      - 'bar' : vertical bar plot\n",
            " |      - 'barh' : horizontal bar plot\n",
            " |      - 'hist' : histogram\n",
            " |      - 'box' : BoxPlot\n",
            " |      - 'kde' : Kernel Density Estimation plot\n",
            " |      - 'density' : same as 'kde'\n",
            " |      - 'area' : area plot\n",
            " |      - 'pie' : pie plot\n",
            " |      - 'scatter' : scatter plot\n",
            " |      - 'hexbin' : hexbin plot.\n",
            " |  cmap : str (default None)\n",
            " |      The name of a colormap recognized by matplotlib.\n",
            " |  color : str, np.array, pd.Series (default None)\n",
            " |      If specified, all objects will be colored uniformly.\n",
            " |  ax : matplotlib.pyplot.Artist (default None)\n",
            " |      axes on which to draw the plot\n",
            " |  cax : matplotlib.pyplot Artist (default None)\n",
            " |      axes on which to draw the legend in case of color map.\n",
            " |  categorical : bool (default False)\n",
            " |      If False, cmap will reflect numerical values of the\n",
            " |      column being plotted.  For non-numerical columns, this\n",
            " |      will be set to True.\n",
            " |  legend : bool (default False)\n",
            " |      Plot a legend. Ignored if no `column` is given, or if `color` is given.\n",
            " |  scheme : str (default None)\n",
            " |      Name of a choropleth classification scheme (requires mapclassify).\n",
            " |      A mapclassify.MapClassifier object will be used\n",
            " |      under the hood. Supported are all schemes provided by mapclassify (e.g.\n",
            " |      'BoxPlot', 'EqualInterval', 'FisherJenks', 'FisherJenksSampled',\n",
            " |      'HeadTailBreaks', 'JenksCaspall', 'JenksCaspallForced',\n",
            " |      'JenksCaspallSampled', 'MaxP', 'MaximumBreaks',\n",
            " |      'NaturalBreaks', 'Quantiles', 'Percentiles', 'StdMean',\n",
            " |      'UserDefined'). Arguments can be passed in classification_kwds.\n",
            " |  k : int (default 5)\n",
            " |      Number of classes (ignored if scheme is None)\n",
            " |  vmin : None or float (default None)\n",
            " |      Minimum value of cmap. If None, the minimum data value\n",
            " |      in the column to be plotted is used.\n",
            " |  vmax : None or float (default None)\n",
            " |      Maximum value of cmap. If None, the maximum data value\n",
            " |      in the column to be plotted is used.\n",
            " |  markersize : str or float or sequence (default None)\n",
            " |      Only applies to point geometries within a frame.\n",
            " |      If a str, will use the values in the column of the frame specified\n",
            " |      by markersize to set the size of markers. Otherwise can be a value\n",
            " |      to apply to all points, or a sequence of the same length as the\n",
            " |      number of points.\n",
            " |  figsize : tuple of integers (default None)\n",
            " |      Size of the resulting matplotlib.figure.Figure. If the argument\n",
            " |      axes is given explicitly, figsize is ignored.\n",
            " |  legend_kwds : dict (default None)\n",
            " |      Keyword arguments to pass to :func:`matplotlib.pyplot.legend` or\n",
            " |      :func:`matplotlib.pyplot.colorbar`.\n",
            " |      Additional accepted keywords when `scheme` is specified:\n",
            " |  \n",
            " |      fmt : string\n",
            " |          A formatting specification for the bin edges of the classes in the\n",
            " |          legend. For example, to have no decimals: ``{\"fmt\": \"{:.0f}\"}``.\n",
            " |      labels : list-like\n",
            " |          A list of legend labels to override the auto-generated labels.\n",
            " |          Needs to have the same number of elements as the number of\n",
            " |          classes (`k`).\n",
            " |      interval : boolean (default False)\n",
            " |          An option to control brackets from mapclassify legend.\n",
            " |          If True, open/closed interval brackets are shown in the legend.\n",
            " |  categories : list-like\n",
            " |      Ordered list-like object of categories to be used for categorical plot.\n",
            " |  classification_kwds : dict (default None)\n",
            " |      Keyword arguments to pass to mapclassify\n",
            " |  missing_kwds : dict (default None)\n",
            " |      Keyword arguments specifying color options (as style_kwds)\n",
            " |      to be passed on to geometries with missing values in addition to\n",
            " |      or overwriting other style kwds. If None, geometries with missing\n",
            " |      values are not plotted.\n",
            " |  aspect : 'auto', 'equal', None or float (default 'auto')\n",
            " |      Set aspect of axis. If 'auto', the default aspect for map plots is 'equal'; if\n",
            " |      however data are not projected (coordinates are long/lat), the aspect is by\n",
            " |      default set to 1/cos(df_y * pi/180) with df_y the y coordinate of the middle of\n",
            " |      the GeoDataFrame (the mean of the y range of bounding box) so that a long/lat\n",
            " |      square appears square in the middle of the plot. This implies an\n",
            " |      Equirectangular projection. If None, the aspect of `ax` won't be changed. It can\n",
            " |      also be set manually (float) as the ratio of y-unit to x-unit.\n",
            " |  \n",
            " |  **style_kwds : dict\n",
            " |      Style options to be passed on to the actual plot function, such\n",
            " |      as ``edgecolor``, ``facecolor``, ``linewidth``, ``markersize``,\n",
            " |      ``alpha``.\n",
            " |  \n",
            " |  Returns\n",
            " |  -------\n",
            " |  ax : matplotlib axes instance\n",
            " |  \n",
            " |  Examples\n",
            " |  --------\n",
            " |  >>> import geodatasets\n",
            " |  >>> df = geopandas.read_file(geodatasets.get_path(\"nybb\"))\n",
            " |  >>> df.head()  # doctest: +SKIP\n",
            " |     BoroCode  ...                                           geometry\n",
            " |  0         5  ...  MULTIPOLYGON (((970217.022 145643.332, 970227....\n",
            " |  1         4  ...  MULTIPOLYGON (((1029606.077 156073.814, 102957...\n",
            " |  2         3  ...  MULTIPOLYGON (((1021176.479 151374.797, 102100...\n",
            " |  3         1  ...  MULTIPOLYGON (((981219.056 188655.316, 980940....\n",
            " |  4         2  ...  MULTIPOLYGON (((1012821.806 229228.265, 101278...\n",
            " |  \n",
            " |  >>> df.plot(\"BoroName\", cmap=\"Set1\")  # doctest: +SKIP\n",
            " |  \n",
            " |  See the User Guide page :doc:`../../user_guide/mapping` for details.\n",
            " |  \n",
            " |  Method resolution order:\n",
            " |      GeoplotAccessor\n",
            " |      pandas.plotting._core.PlotAccessor\n",
            " |      pandas.core.base.PandasObject\n",
            " |      pandas.core.accessor.DirNamesMixin\n",
            " |      builtins.object\n",
            " |  \n",
            " |  Methods defined here:\n",
            " |  \n",
            " |  __call__(self, *args, **kwargs)\n",
            " |      Make plots of Series or DataFrame.\n",
            " |      \n",
            " |      Uses the backend specified by the\n",
            " |      option ``plotting.backend``. By default, matplotlib is used.\n",
            " |      \n",
            " |      Parameters\n",
            " |      ----------\n",
            " |      data : Series or DataFrame\n",
            " |          The object for which the method is called.\n",
            " |      x : label or position, default None\n",
            " |          Only used if data is a DataFrame.\n",
            " |      y : label, position or list of label, positions, default None\n",
            " |          Allows plotting of one column versus another. Only used if data is a\n",
            " |          DataFrame.\n",
            " |      kind : str\n",
            " |          The kind of plot to produce:\n",
            " |      \n",
            " |          - 'line' : line plot (default)\n",
            " |          - 'bar' : vertical bar plot\n",
            " |          - 'barh' : horizontal bar plot\n",
            " |          - 'hist' : histogram\n",
            " |          - 'box' : boxplot\n",
            " |          - 'kde' : Kernel Density Estimation plot\n",
            " |          - 'density' : same as 'kde'\n",
            " |          - 'area' : area plot\n",
            " |          - 'pie' : pie plot\n",
            " |          - 'scatter' : scatter plot (DataFrame only)\n",
            " |          - 'hexbin' : hexbin plot (DataFrame only)\n",
            " |      ax : matplotlib axes object, default None\n",
            " |          An axes of the current figure.\n",
            " |      subplots : bool or sequence of iterables, default False\n",
            " |          Whether to group columns into subplots:\n",
            " |      \n",
            " |          - ``False`` : No subplots will be used\n",
            " |          - ``True`` : Make separate subplots for each column.\n",
            " |          - sequence of iterables of column labels: Create a subplot for each\n",
            " |            group of columns. For example `[('a', 'c'), ('b', 'd')]` will\n",
            " |            create 2 subplots: one with columns 'a' and 'c', and one\n",
            " |            with columns 'b' and 'd'. Remaining columns that aren't specified\n",
            " |            will be plotted in additional subplots (one per column).\n",
            " |      \n",
            " |            .. versionadded:: 1.5.0\n",
            " |      \n",
            " |      sharex : bool, default True if ax is None else False\n",
            " |          In case ``subplots=True``, share x axis and set some x axis labels\n",
            " |          to invisible; defaults to True if ax is None otherwise False if\n",
            " |          an ax is passed in; Be aware, that passing in both an ax and\n",
            " |          ``sharex=True`` will alter all x axis labels for all axis in a figure.\n",
            " |      sharey : bool, default False\n",
            " |          In case ``subplots=True``, share y axis and set some y axis labels to invisible.\n",
            " |      layout : tuple, optional\n",
            " |          (rows, columns) for the layout of subplots.\n",
            " |      figsize : a tuple (width, height) in inches\n",
            " |          Size of a figure object.\n",
            " |      use_index : bool, default True\n",
            " |          Use index as ticks for x axis.\n",
            " |      title : str or list\n",
            " |          Title to use for the plot. If a string is passed, print the string\n",
            " |          at the top of the figure. If a list is passed and `subplots` is\n",
            " |          True, print each item in the list above the corresponding subplot.\n",
            " |      grid : bool, default None (matlab style default)\n",
            " |          Axis grid lines.\n",
            " |      legend : bool or {'reverse'}\n",
            " |          Place legend on axis subplots.\n",
            " |      style : list or dict\n",
            " |          The matplotlib line style per column.\n",
            " |      logx : bool or 'sym', default False\n",
            " |          Use log scaling or symlog scaling on x axis.\n",
            " |      \n",
            " |      logy : bool or 'sym' default False\n",
            " |          Use log scaling or symlog scaling on y axis.\n",
            " |      \n",
            " |      loglog : bool or 'sym', default False\n",
            " |          Use log scaling or symlog scaling on both x and y axes.\n",
            " |      \n",
            " |      xticks : sequence\n",
            " |          Values to use for the xticks.\n",
            " |      yticks : sequence\n",
            " |          Values to use for the yticks.\n",
            " |      xlim : 2-tuple/list\n",
            " |          Set the x limits of the current axes.\n",
            " |      ylim : 2-tuple/list\n",
            " |          Set the y limits of the current axes.\n",
            " |      xlabel : label, optional\n",
            " |          Name to use for the xlabel on x-axis. Default uses index name as xlabel, or the\n",
            " |          x-column name for planar plots.\n",
            " |      \n",
            " |          .. versionchanged:: 1.2.0\n",
            " |      \n",
            " |             Now applicable to planar plots (`scatter`, `hexbin`).\n",
            " |      \n",
            " |          .. versionchanged:: 2.0.0\n",
            " |      \n",
            " |              Now applicable to histograms.\n",
            " |      \n",
            " |      ylabel : label, optional\n",
            " |          Name to use for the ylabel on y-axis. Default will show no ylabel, or the\n",
            " |          y-column name for planar plots.\n",
            " |      \n",
            " |          .. versionchanged:: 1.2.0\n",
            " |      \n",
            " |             Now applicable to planar plots (`scatter`, `hexbin`).\n",
            " |      \n",
            " |          .. versionchanged:: 2.0.0\n",
            " |      \n",
            " |              Now applicable to histograms.\n",
            " |      \n",
            " |      rot : float, default None\n",
            " |          Rotation for ticks (xticks for vertical, yticks for horizontal\n",
            " |          plots).\n",
            " |      fontsize : float, default None\n",
            " |          Font size for xticks and yticks.\n",
            " |      colormap : str or matplotlib colormap object, default None\n",
            " |          Colormap to select colors from. If string, load colormap with that\n",
            " |          name from matplotlib.\n",
            " |      colorbar : bool, optional\n",
            " |          If True, plot colorbar (only relevant for 'scatter' and 'hexbin'\n",
            " |          plots).\n",
            " |      position : float\n",
            " |          Specify relative alignments for bar plot layout.\n",
            " |          From 0 (left/bottom-end) to 1 (right/top-end). Default is 0.5\n",
            " |          (center).\n",
            " |      table : bool, Series or DataFrame, default False\n",
            " |          If True, draw a table using the data in the DataFrame and the data\n",
            " |          will be transposed to meet matplotlib's default layout.\n",
            " |          If a Series or DataFrame is passed, use passed data to draw a\n",
            " |          table.\n",
            " |      yerr : DataFrame, Series, array-like, dict and str\n",
            " |          See :ref:`Plotting with Error Bars <visualization.errorbars>` for\n",
            " |          detail.\n",
            " |      xerr : DataFrame, Series, array-like, dict and str\n",
            " |          Equivalent to yerr.\n",
            " |      stacked : bool, default False in line and bar plots, and True in area plot\n",
            " |          If True, create stacked plot.\n",
            " |      secondary_y : bool or sequence, default False\n",
            " |          Whether to plot on the secondary y-axis if a list/tuple, which\n",
            " |          columns to plot on secondary y-axis.\n",
            " |      mark_right : bool, default True\n",
            " |          When using a secondary_y axis, automatically mark the column\n",
            " |          labels with \"(right)\" in the legend.\n",
            " |      include_bool : bool, default is False\n",
            " |          If True, boolean values can be plotted.\n",
            " |      backend : str, default None\n",
            " |          Backend to use instead of the backend specified in the option\n",
            " |          ``plotting.backend``. For instance, 'matplotlib'. Alternatively, to\n",
            " |          specify the ``plotting.backend`` for the whole session, set\n",
            " |          ``pd.options.plotting.backend``.\n",
            " |      **kwargs\n",
            " |          Options to pass to matplotlib plotting method.\n",
            " |      \n",
            " |      Returns\n",
            " |      -------\n",
            " |      :class:`matplotlib.axes.Axes` or numpy.ndarray of them\n",
            " |          If the backend is not the default matplotlib one, the return value\n",
            " |          will be the object returned by the backend.\n",
            " |      \n",
            " |      Notes\n",
            " |      -----\n",
            " |      - See matplotlib documentation online for more on this subject\n",
            " |      - If `kind` = 'bar' or 'barh', you can specify relative alignments\n",
            " |        for bar plot layout by `position` keyword.\n",
            " |        From 0 (left/bottom-end) to 1 (right/top-end). Default is 0.5\n",
            " |        (center)\n",
            " |      \n",
            " |      Examples\n",
            " |      --------\n",
            " |      For Series:\n",
            " |      \n",
            " |      .. plot::\n",
            " |          :context: close-figs\n",
            " |      \n",
            " |          >>> ser = pd.Series([1, 2, 3, 3])\n",
            " |          >>> plot = ser.plot(kind='hist', title=\"My plot\")\n",
            " |      \n",
            " |      For DataFrame:\n",
            " |      \n",
            " |      .. plot::\n",
            " |          :context: close-figs\n",
            " |      \n",
            " |          >>> df = pd.DataFrame({'length': [1.5, 0.5, 1.2, 0.9, 3],\n",
            " |          ...                   'width': [0.7, 0.2, 0.15, 0.2, 1.1]},\n",
            " |          ...                   index=['pig', 'rabbit', 'duck', 'chicken', 'horse'])\n",
            " |          >>> plot = df.plot(title=\"DataFrame Plot\")\n",
            " |      \n",
            " |      For SeriesGroupBy:\n",
            " |      \n",
            " |      .. plot::\n",
            " |          :context: close-figs\n",
            " |      \n",
            " |          >>> lst = [-1, -2, -3, 1, 2, 3]\n",
            " |          >>> ser = pd.Series([1, 2, 2, 4, 6, 6], index=lst)\n",
            " |          >>> plot = ser.groupby(lambda x: x > 0).plot(title=\"SeriesGroupBy Plot\")\n",
            " |      \n",
            " |      For DataFrameGroupBy:\n",
            " |      \n",
            " |      .. plot::\n",
            " |          :context: close-figs\n",
            " |      \n",
            " |          >>> df = pd.DataFrame({\"col1\" : [1, 2, 3, 4],\n",
            " |          ...                   \"col2\" : [\"A\", \"B\", \"A\", \"B\"]})\n",
            " |          >>> plot = df.groupby(\"col2\").plot(kind=\"bar\", title=\"DataFrameGroupBy Plot\")\n",
            " |  \n",
            " |  geo(self, *args, **kwargs)\n",
            " |  \n",
            " |  ----------------------------------------------------------------------\n",
            " |  Data and other attributes defined here:\n",
            " |  \n",
            " |  __annotations__ = {}\n",
            " |  \n",
            " |  ----------------------------------------------------------------------\n",
            " |  Methods inherited from pandas.plotting._core.PlotAccessor:\n",
            " |  \n",
            " |  __init__(self, data) -> 'None'\n",
            " |      Initialize self.  See help(type(self)) for accurate signature.\n",
            " |  \n",
            " |  area(self, x: 'Hashable | None' = None, y: 'Hashable | None' = None, stacked: 'bool' = True, **kwargs) -> 'PlotAccessor'\n",
            " |      Draw a stacked area plot.\n",
            " |      \n",
            " |      An area plot displays quantitative data visually.\n",
            " |      This function wraps the matplotlib area function.\n",
            " |      \n",
            " |      Parameters\n",
            " |      ----------\n",
            " |      x : label or position, optional\n",
            " |          Coordinates for the X axis. By default uses the index.\n",
            " |      y : label or position, optional\n",
            " |          Column to plot. By default uses all columns.\n",
            " |      stacked : bool, default True\n",
            " |          Area plots are stacked by default. Set to False to create a\n",
            " |          unstacked plot.\n",
            " |      **kwargs\n",
            " |          Additional keyword arguments are documented in\n",
            " |          :meth:`DataFrame.plot`.\n",
            " |      \n",
            " |      Returns\n",
            " |      -------\n",
            " |      matplotlib.axes.Axes or numpy.ndarray\n",
            " |          Area plot, or array of area plots if subplots is True.\n",
            " |      \n",
            " |      See Also\n",
            " |      --------\n",
            " |      DataFrame.plot : Make plots of DataFrame using matplotlib / pylab.\n",
            " |      \n",
            " |      Examples\n",
            " |      --------\n",
            " |      Draw an area plot based on basic business metrics:\n",
            " |      \n",
            " |      .. plot::\n",
            " |          :context: close-figs\n",
            " |      \n",
            " |          >>> df = pd.DataFrame({\n",
            " |          ...     'sales': [3, 2, 3, 9, 10, 6],\n",
            " |          ...     'signups': [5, 5, 6, 12, 14, 13],\n",
            " |          ...     'visits': [20, 42, 28, 62, 81, 50],\n",
            " |          ... }, index=pd.date_range(start='2018/01/01', end='2018/07/01',\n",
            " |          ...                        freq='M'))\n",
            " |          >>> ax = df.plot.area()\n",
            " |      \n",
            " |      Area plots are stacked by default. To produce an unstacked plot,\n",
            " |      pass ``stacked=False``:\n",
            " |      \n",
            " |      .. plot::\n",
            " |          :context: close-figs\n",
            " |      \n",
            " |          >>> ax = df.plot.area(stacked=False)\n",
            " |      \n",
            " |      Draw an area plot for a single column:\n",
            " |      \n",
            " |      .. plot::\n",
            " |          :context: close-figs\n",
            " |      \n",
            " |          >>> ax = df.plot.area(y='sales')\n",
            " |      \n",
            " |      Draw with a different `x`:\n",
            " |      \n",
            " |      .. plot::\n",
            " |          :context: close-figs\n",
            " |      \n",
            " |          >>> df = pd.DataFrame({\n",
            " |          ...     'sales': [3, 2, 3],\n",
            " |          ...     'visits': [20, 42, 28],\n",
            " |          ...     'day': [1, 2, 3],\n",
            " |          ... })\n",
            " |          >>> ax = df.plot.area(x='day')\n",
            " |  \n",
            " |  bar(self, x: 'Hashable | None' = None, y: 'Hashable | None' = None, **kwargs) -> 'PlotAccessor'\n",
            " |      Vertical bar plot.\n",
            " |      \n",
            " |      A bar plot is a plot that presents categorical data with\n",
            " |      rectangular bars with lengths proportional to the values that they\n",
            " |      represent. A bar plot shows comparisons among discrete categories. One\n",
            " |      axis of the plot shows the specific categories being compared, and the\n",
            " |      other axis represents a measured value.\n",
            " |      \n",
            " |      Parameters\n",
            " |      ----------\n",
            " |      x : label or position, optional\n",
            " |          Allows plotting of one column versus another. If not specified,\n",
            " |          the index of the DataFrame is used.\n",
            " |      y : label or position, optional\n",
            " |          Allows plotting of one column versus another. If not specified,\n",
            " |          all numerical columns are used.\n",
            " |      color : str, array-like, or dict, optional\n",
            " |          The color for each of the DataFrame's columns. Possible values are:\n",
            " |      \n",
            " |          - A single color string referred to by name, RGB or RGBA code,\n",
            " |              for instance 'red' or '#a98d19'.\n",
            " |      \n",
            " |          - A sequence of color strings referred to by name, RGB or RGBA\n",
            " |              code, which will be used for each column recursively. For\n",
            " |              instance ['green','yellow'] each column's bar will be filled in\n",
            " |              green or yellow, alternatively. If there is only a single column to\n",
            " |              be plotted, then only the first color from the color list will be\n",
            " |              used.\n",
            " |      \n",
            " |          - A dict of the form {column name : color}, so that each column will be\n",
            " |              colored accordingly. For example, if your columns are called `a` and\n",
            " |              `b`, then passing {'a': 'green', 'b': 'red'} will color bars for\n",
            " |              column `a` in green and bars for column `b` in red.\n",
            " |      \n",
            " |      **kwargs\n",
            " |          Additional keyword arguments are documented in\n",
            " |          :meth:`DataFrame.plot`.\n",
            " |      \n",
            " |      Returns\n",
            " |      -------\n",
            " |      matplotlib.axes.Axes or np.ndarray of them\n",
            " |          An ndarray is returned with one :class:`matplotlib.axes.Axes`\n",
            " |          per column when ``subplots=True``.\n",
            " |      \n",
            " |              See Also\n",
            " |              --------\n",
            " |              DataFrame.plot.barh : Horizontal bar plot.\n",
            " |              DataFrame.plot : Make plots of a DataFrame.\n",
            " |              matplotlib.pyplot.bar : Make a bar plot with matplotlib.\n",
            " |      \n",
            " |              Examples\n",
            " |              --------\n",
            " |              Basic plot.\n",
            " |      \n",
            " |              .. plot::\n",
            " |                  :context: close-figs\n",
            " |      \n",
            " |                  >>> df = pd.DataFrame({'lab':['A', 'B', 'C'], 'val':[10, 30, 20]})\n",
            " |                  >>> ax = df.plot.bar(x='lab', y='val', rot=0)\n",
            " |      \n",
            " |              Plot a whole dataframe to a bar plot. Each column is assigned a\n",
            " |              distinct color, and each row is nested in a group along the\n",
            " |              horizontal axis.\n",
            " |      \n",
            " |              .. plot::\n",
            " |                  :context: close-figs\n",
            " |      \n",
            " |                  >>> speed = [0.1, 17.5, 40, 48, 52, 69, 88]\n",
            " |                  >>> lifespan = [2, 8, 70, 1.5, 25, 12, 28]\n",
            " |                  >>> index = ['snail', 'pig', 'elephant',\n",
            " |                  ...          'rabbit', 'giraffe', 'coyote', 'horse']\n",
            " |                  >>> df = pd.DataFrame({'speed': speed,\n",
            " |                  ...                    'lifespan': lifespan}, index=index)\n",
            " |                  >>> ax = df.plot.bar(rot=0)\n",
            " |      \n",
            " |              Plot stacked bar charts for the DataFrame\n",
            " |      \n",
            " |              .. plot::\n",
            " |                  :context: close-figs\n",
            " |      \n",
            " |                  >>> ax = df.plot.bar(stacked=True)\n",
            " |      \n",
            " |              Instead of nesting, the figure can be split by column with\n",
            " |              ``subplots=True``. In this case, a :class:`numpy.ndarray` of\n",
            " |              :class:`matplotlib.axes.Axes` are returned.\n",
            " |      \n",
            " |              .. plot::\n",
            " |                  :context: close-figs\n",
            " |      \n",
            " |                  >>> axes = df.plot.bar(rot=0, subplots=True)\n",
            " |                  >>> axes[1].legend(loc=2)  # doctest: +SKIP\n",
            " |      \n",
            " |              If you don't like the default colours, you can specify how you'd\n",
            " |              like each column to be colored.\n",
            " |      \n",
            " |              .. plot::\n",
            " |                  :context: close-figs\n",
            " |      \n",
            " |                  >>> axes = df.plot.bar(\n",
            " |                  ...     rot=0, subplots=True, color={\"speed\": \"red\", \"lifespan\": \"green\"}\n",
            " |                  ... )\n",
            " |                  >>> axes[1].legend(loc=2)  # doctest: +SKIP\n",
            " |      \n",
            " |              Plot a single column.\n",
            " |      \n",
            " |              .. plot::\n",
            " |                  :context: close-figs\n",
            " |      \n",
            " |                  >>> ax = df.plot.bar(y='speed', rot=0)\n",
            " |      \n",
            " |              Plot only selected categories for the DataFrame.\n",
            " |      \n",
            " |              .. plot::\n",
            " |                  :context: close-figs\n",
            " |      \n",
            " |                  >>> ax = df.plot.bar(x='lifespan', rot=0)\n",
            " |  \n",
            " |  barh(self, x: 'Hashable | None' = None, y: 'Hashable | None' = None, **kwargs) -> 'PlotAccessor'\n",
            " |      Make a horizontal bar plot.\n",
            " |      \n",
            " |      A horizontal bar plot is a plot that presents quantitative data with\n",
            " |      rectangular bars with lengths proportional to the values that they\n",
            " |      represent. A bar plot shows comparisons among discrete categories. One\n",
            " |      axis of the plot shows the specific categories being compared, and the\n",
            " |      other axis represents a measured value.\n",
            " |      \n",
            " |      Parameters\n",
            " |      ----------\n",
            " |      x : label or position, optional\n",
            " |          Allows plotting of one column versus another. If not specified,\n",
            " |          the index of the DataFrame is used.\n",
            " |      y : label or position, optional\n",
            " |          Allows plotting of one column versus another. If not specified,\n",
            " |          all numerical columns are used.\n",
            " |      color : str, array-like, or dict, optional\n",
            " |          The color for each of the DataFrame's columns. Possible values are:\n",
            " |      \n",
            " |          - A single color string referred to by name, RGB or RGBA code,\n",
            " |              for instance 'red' or '#a98d19'.\n",
            " |      \n",
            " |          - A sequence of color strings referred to by name, RGB or RGBA\n",
            " |              code, which will be used for each column recursively. For\n",
            " |              instance ['green','yellow'] each column's bar will be filled in\n",
            " |              green or yellow, alternatively. If there is only a single column to\n",
            " |              be plotted, then only the first color from the color list will be\n",
            " |              used.\n",
            " |      \n",
            " |          - A dict of the form {column name : color}, so that each column will be\n",
            " |              colored accordingly. For example, if your columns are called `a` and\n",
            " |              `b`, then passing {'a': 'green', 'b': 'red'} will color bars for\n",
            " |              column `a` in green and bars for column `b` in red.\n",
            " |      \n",
            " |      **kwargs\n",
            " |          Additional keyword arguments are documented in\n",
            " |          :meth:`DataFrame.plot`.\n",
            " |      \n",
            " |      Returns\n",
            " |      -------\n",
            " |      matplotlib.axes.Axes or np.ndarray of them\n",
            " |          An ndarray is returned with one :class:`matplotlib.axes.Axes`\n",
            " |          per column when ``subplots=True``.\n",
            " |      \n",
            " |              See Also\n",
            " |              --------\n",
            " |              DataFrame.plot.bar: Vertical bar plot.\n",
            " |              DataFrame.plot : Make plots of DataFrame using matplotlib.\n",
            " |              matplotlib.axes.Axes.bar : Plot a vertical bar plot using matplotlib.\n",
            " |      \n",
            " |              Examples\n",
            " |              --------\n",
            " |              Basic example\n",
            " |      \n",
            " |              .. plot::\n",
            " |                  :context: close-figs\n",
            " |      \n",
            " |                  >>> df = pd.DataFrame({'lab': ['A', 'B', 'C'], 'val': [10, 30, 20]})\n",
            " |                  >>> ax = df.plot.barh(x='lab', y='val')\n",
            " |      \n",
            " |              Plot a whole DataFrame to a horizontal bar plot\n",
            " |      \n",
            " |              .. plot::\n",
            " |                  :context: close-figs\n",
            " |      \n",
            " |                  >>> speed = [0.1, 17.5, 40, 48, 52, 69, 88]\n",
            " |                  >>> lifespan = [2, 8, 70, 1.5, 25, 12, 28]\n",
            " |                  >>> index = ['snail', 'pig', 'elephant',\n",
            " |                  ...          'rabbit', 'giraffe', 'coyote', 'horse']\n",
            " |                  >>> df = pd.DataFrame({'speed': speed,\n",
            " |                  ...                    'lifespan': lifespan}, index=index)\n",
            " |                  >>> ax = df.plot.barh()\n",
            " |      \n",
            " |              Plot stacked barh charts for the DataFrame\n",
            " |      \n",
            " |              .. plot::\n",
            " |                  :context: close-figs\n",
            " |      \n",
            " |                  >>> ax = df.plot.barh(stacked=True)\n",
            " |      \n",
            " |              We can specify colors for each column\n",
            " |      \n",
            " |              .. plot::\n",
            " |                  :context: close-figs\n",
            " |      \n",
            " |                  >>> ax = df.plot.barh(color={\"speed\": \"red\", \"lifespan\": \"green\"})\n",
            " |      \n",
            " |              Plot a column of the DataFrame to a horizontal bar plot\n",
            " |      \n",
            " |              .. plot::\n",
            " |                  :context: close-figs\n",
            " |      \n",
            " |                  >>> speed = [0.1, 17.5, 40, 48, 52, 69, 88]\n",
            " |                  >>> lifespan = [2, 8, 70, 1.5, 25, 12, 28]\n",
            " |                  >>> index = ['snail', 'pig', 'elephant',\n",
            " |                  ...          'rabbit', 'giraffe', 'coyote', 'horse']\n",
            " |                  >>> df = pd.DataFrame({'speed': speed,\n",
            " |                  ...                    'lifespan': lifespan}, index=index)\n",
            " |                  >>> ax = df.plot.barh(y='speed')\n",
            " |      \n",
            " |              Plot DataFrame versus the desired column\n",
            " |      \n",
            " |              .. plot::\n",
            " |                  :context: close-figs\n",
            " |      \n",
            " |                  >>> speed = [0.1, 17.5, 40, 48, 52, 69, 88]\n",
            " |                  >>> lifespan = [2, 8, 70, 1.5, 25, 12, 28]\n",
            " |                  >>> index = ['snail', 'pig', 'elephant',\n",
            " |                  ...          'rabbit', 'giraffe', 'coyote', 'horse']\n",
            " |                  >>> df = pd.DataFrame({'speed': speed,\n",
            " |                  ...                    'lifespan': lifespan}, index=index)\n",
            " |                  >>> ax = df.plot.barh(x='lifespan')\n",
            " |  \n",
            " |  box(self, by: 'IndexLabel | None' = None, **kwargs) -> 'PlotAccessor'\n",
            " |      Make a box plot of the DataFrame columns.\n",
            " |      \n",
            " |      A box plot is a method for graphically depicting groups of numerical\n",
            " |      data through their quartiles.\n",
            " |      The box extends from the Q1 to Q3 quartile values of the data,\n",
            " |      with a line at the median (Q2). The whiskers extend from the edges\n",
            " |      of box to show the range of the data. The position of the whiskers\n",
            " |      is set by default to 1.5*IQR (IQR = Q3 - Q1) from the edges of the\n",
            " |      box. Outlier points are those past the end of the whiskers.\n",
            " |      \n",
            " |      For further details see Wikipedia's\n",
            " |      entry for `boxplot <https://en.wikipedia.org/wiki/Box_plot>`__.\n",
            " |      \n",
            " |      A consideration when using this chart is that the box and the whiskers\n",
            " |      can overlap, which is very common when plotting small sets of data.\n",
            " |      \n",
            " |      Parameters\n",
            " |      ----------\n",
            " |      by : str or sequence\n",
            " |          Column in the DataFrame to group by.\n",
            " |      \n",
            " |          .. versionchanged:: 1.4.0\n",
            " |      \n",
            " |             Previously, `by` is silently ignore and makes no groupings\n",
            " |      \n",
            " |      **kwargs\n",
            " |          Additional keywords are documented in\n",
            " |          :meth:`DataFrame.plot`.\n",
            " |      \n",
            " |      Returns\n",
            " |      -------\n",
            " |      :class:`matplotlib.axes.Axes` or numpy.ndarray of them\n",
            " |      \n",
            " |      See Also\n",
            " |      --------\n",
            " |      DataFrame.boxplot: Another method to draw a box plot.\n",
            " |      Series.plot.box: Draw a box plot from a Series object.\n",
            " |      matplotlib.pyplot.boxplot: Draw a box plot in matplotlib.\n",
            " |      \n",
            " |      Examples\n",
            " |      --------\n",
            " |      Draw a box plot from a DataFrame with four columns of randomly\n",
            " |      generated data.\n",
            " |      \n",
            " |      .. plot::\n",
            " |          :context: close-figs\n",
            " |      \n",
            " |          >>> data = np.random.randn(25, 4)\n",
            " |          >>> df = pd.DataFrame(data, columns=list('ABCD'))\n",
            " |          >>> ax = df.plot.box()\n",
            " |      \n",
            " |      You can also generate groupings if you specify the `by` parameter (which\n",
            " |      can take a column name, or a list or tuple of column names):\n",
            " |      \n",
            " |      .. versionchanged:: 1.4.0\n",
            " |      \n",
            " |      .. plot::\n",
            " |          :context: close-figs\n",
            " |      \n",
            " |          >>> age_list = [8, 10, 12, 14, 72, 74, 76, 78, 20, 25, 30, 35, 60, 85]\n",
            " |          >>> df = pd.DataFrame({\"gender\": list(\"MMMMMMMMFFFFFF\"), \"age\": age_list})\n",
            " |          >>> ax = df.plot.box(column=\"age\", by=\"gender\", figsize=(10, 8))\n",
            " |  \n",
            " |  density = kde(self, bw_method: \"Literal['scott', 'silverman'] | float | Callable | None\" = None, ind: 'np.ndarray | int | None' = None, **kwargs) -> 'PlotAccessor'\n",
            " |  \n",
            " |  hexbin(self, x: 'Hashable', y: 'Hashable', C: 'Hashable | None' = None, reduce_C_function: 'Callable | None' = None, gridsize: 'int | tuple[int, int] | None' = None, **kwargs) -> 'PlotAccessor'\n",
            " |      Generate a hexagonal binning plot.\n",
            " |      \n",
            " |      Generate a hexagonal binning plot of `x` versus `y`. If `C` is `None`\n",
            " |      (the default), this is a histogram of the number of occurrences\n",
            " |      of the observations at ``(x[i], y[i])``.\n",
            " |      \n",
            " |      If `C` is specified, specifies values at given coordinates\n",
            " |      ``(x[i], y[i])``. These values are accumulated for each hexagonal\n",
            " |      bin and then reduced according to `reduce_C_function`,\n",
            " |      having as default the NumPy's mean function (:meth:`numpy.mean`).\n",
            " |      (If `C` is specified, it must also be a 1-D sequence\n",
            " |      of the same length as `x` and `y`, or a column label.)\n",
            " |      \n",
            " |      Parameters\n",
            " |      ----------\n",
            " |      x : int or str\n",
            " |          The column label or position for x points.\n",
            " |      y : int or str\n",
            " |          The column label or position for y points.\n",
            " |      C : int or str, optional\n",
            " |          The column label or position for the value of `(x, y)` point.\n",
            " |      reduce_C_function : callable, default `np.mean`\n",
            " |          Function of one argument that reduces all the values in a bin to\n",
            " |          a single number (e.g. `np.mean`, `np.max`, `np.sum`, `np.std`).\n",
            " |      gridsize : int or tuple of (int, int), default 100\n",
            " |          The number of hexagons in the x-direction.\n",
            " |          The corresponding number of hexagons in the y-direction is\n",
            " |          chosen in a way that the hexagons are approximately regular.\n",
            " |          Alternatively, gridsize can be a tuple with two elements\n",
            " |          specifying the number of hexagons in the x-direction and the\n",
            " |          y-direction.\n",
            " |      **kwargs\n",
            " |          Additional keyword arguments are documented in\n",
            " |          :meth:`DataFrame.plot`.\n",
            " |      \n",
            " |      Returns\n",
            " |      -------\n",
            " |      matplotlib.AxesSubplot\n",
            " |          The matplotlib ``Axes`` on which the hexbin is plotted.\n",
            " |      \n",
            " |      See Also\n",
            " |      --------\n",
            " |      DataFrame.plot : Make plots of a DataFrame.\n",
            " |      matplotlib.pyplot.hexbin : Hexagonal binning plot using matplotlib,\n",
            " |          the matplotlib function that is used under the hood.\n",
            " |      \n",
            " |      Examples\n",
            " |      --------\n",
            " |      The following examples are generated with random data from\n",
            " |      a normal distribution.\n",
            " |      \n",
            " |      .. plot::\n",
            " |          :context: close-figs\n",
            " |      \n",
            " |          >>> n = 10000\n",
            " |          >>> df = pd.DataFrame({'x': np.random.randn(n),\n",
            " |          ...                    'y': np.random.randn(n)})\n",
            " |          >>> ax = df.plot.hexbin(x='x', y='y', gridsize=20)\n",
            " |      \n",
            " |      The next example uses `C` and `np.sum` as `reduce_C_function`.\n",
            " |      Note that `'observations'` values ranges from 1 to 5 but the result\n",
            " |      plot shows values up to more than 25. This is because of the\n",
            " |      `reduce_C_function`.\n",
            " |      \n",
            " |      .. plot::\n",
            " |          :context: close-figs\n",
            " |      \n",
            " |          >>> n = 500\n",
            " |          >>> df = pd.DataFrame({\n",
            " |          ...     'coord_x': np.random.uniform(-3, 3, size=n),\n",
            " |          ...     'coord_y': np.random.uniform(30, 50, size=n),\n",
            " |          ...     'observations': np.random.randint(1,5, size=n)\n",
            " |          ...     })\n",
            " |          >>> ax = df.plot.hexbin(x='coord_x',\n",
            " |          ...                     y='coord_y',\n",
            " |          ...                     C='observations',\n",
            " |          ...                     reduce_C_function=np.sum,\n",
            " |          ...                     gridsize=10,\n",
            " |          ...                     cmap=\"viridis\")\n",
            " |  \n",
            " |  hist(self, by: 'IndexLabel | None' = None, bins: 'int' = 10, **kwargs) -> 'PlotAccessor'\n",
            " |      Draw one histogram of the DataFrame's columns.\n",
            " |      \n",
            " |      A histogram is a representation of the distribution of data.\n",
            " |      This function groups the values of all given Series in the DataFrame\n",
            " |      into bins and draws all bins in one :class:`matplotlib.axes.Axes`.\n",
            " |      This is useful when the DataFrame's Series are in a similar scale.\n",
            " |      \n",
            " |      Parameters\n",
            " |      ----------\n",
            " |      by : str or sequence, optional\n",
            " |          Column in the DataFrame to group by.\n",
            " |      \n",
            " |          .. versionchanged:: 1.4.0\n",
            " |      \n",
            " |             Previously, `by` is silently ignore and makes no groupings\n",
            " |      \n",
            " |      bins : int, default 10\n",
            " |          Number of histogram bins to be used.\n",
            " |      **kwargs\n",
            " |          Additional keyword arguments are documented in\n",
            " |          :meth:`DataFrame.plot`.\n",
            " |      \n",
            " |      Returns\n",
            " |      -------\n",
            " |      class:`matplotlib.AxesSubplot`\n",
            " |          Return a histogram plot.\n",
            " |      \n",
            " |      See Also\n",
            " |      --------\n",
            " |      DataFrame.hist : Draw histograms per DataFrame's Series.\n",
            " |      Series.hist : Draw a histogram with Series' data.\n",
            " |      \n",
            " |      Examples\n",
            " |      --------\n",
            " |      When we roll a die 6000 times, we expect to get each value around 1000\n",
            " |      times. But when we roll two dice and sum the result, the distribution\n",
            " |      is going to be quite different. A histogram illustrates those\n",
            " |      distributions.\n",
            " |      \n",
            " |      .. plot::\n",
            " |          :context: close-figs\n",
            " |      \n",
            " |          >>> df = pd.DataFrame(\n",
            " |          ...     np.random.randint(1, 7, 6000),\n",
            " |          ...     columns = ['one'])\n",
            " |          >>> df['two'] = df['one'] + np.random.randint(1, 7, 6000)\n",
            " |          >>> ax = df.plot.hist(bins=12, alpha=0.5)\n",
            " |      \n",
            " |      A grouped histogram can be generated by providing the parameter `by` (which\n",
            " |      can be a column name, or a list of column names):\n",
            " |      \n",
            " |      .. plot::\n",
            " |          :context: close-figs\n",
            " |      \n",
            " |          >>> age_list = [8, 10, 12, 14, 72, 74, 76, 78, 20, 25, 30, 35, 60, 85]\n",
            " |          >>> df = pd.DataFrame({\"gender\": list(\"MMMMMMMMFFFFFF\"), \"age\": age_list})\n",
            " |          >>> ax = df.plot.hist(column=[\"age\"], by=\"gender\", figsize=(10, 8))\n",
            " |  \n",
            " |  kde(self, bw_method: \"Literal['scott', 'silverman'] | float | Callable | None\" = None, ind: 'np.ndarray | int | None' = None, **kwargs) -> 'PlotAccessor'\n",
            " |      Generate Kernel Density Estimate plot using Gaussian kernels.\n",
            " |      \n",
            " |      In statistics, `kernel density estimation`_ (KDE) is a non-parametric\n",
            " |      way to estimate the probability density function (PDF) of a random\n",
            " |      variable. This function uses Gaussian kernels and includes automatic\n",
            " |      bandwidth determination.\n",
            " |      \n",
            " |      .. _kernel density estimation:\n",
            " |          https://en.wikipedia.org/wiki/Kernel_density_estimation\n",
            " |      \n",
            " |      Parameters\n",
            " |      ----------\n",
            " |      bw_method : str, scalar or callable, optional\n",
            " |          The method used to calculate the estimator bandwidth. This can be\n",
            " |          'scott', 'silverman', a scalar constant or a callable.\n",
            " |          If None (default), 'scott' is used.\n",
            " |          See :class:`scipy.stats.gaussian_kde` for more information.\n",
            " |      ind : NumPy array or int, optional\n",
            " |          Evaluation points for the estimated PDF. If None (default),\n",
            " |          1000 equally spaced points are used. If `ind` is a NumPy array, the\n",
            " |          KDE is evaluated at the points passed. If `ind` is an integer,\n",
            " |          `ind` number of equally spaced points are used.\n",
            " |      **kwargs\n",
            " |          Additional keyword arguments are documented in\n",
            " |          :meth:`DataFrame.plot`.\n",
            " |      \n",
            " |      Returns\n",
            " |      -------\n",
            " |      matplotlib.axes.Axes or numpy.ndarray of them\n",
            " |      \n",
            " |      See Also\n",
            " |      --------\n",
            " |      scipy.stats.gaussian_kde : Representation of a kernel-density\n",
            " |          estimate using Gaussian kernels. This is the function used\n",
            " |          internally to estimate the PDF.\n",
            " |      \n",
            " |      Examples\n",
            " |      --------\n",
            " |      Given a Series of points randomly sampled from an unknown\n",
            " |      distribution, estimate its PDF using KDE with automatic\n",
            " |      bandwidth determination and plot the results, evaluating them at\n",
            " |      1000 equally spaced points (default):\n",
            " |      \n",
            " |      .. plot::\n",
            " |          :context: close-figs\n",
            " |      \n",
            " |          >>> s = pd.Series([1, 2, 2.5, 3, 3.5, 4, 5])\n",
            " |          >>> ax = s.plot.kde()\n",
            " |      \n",
            " |      A scalar bandwidth can be specified. Using a small bandwidth value can\n",
            " |      lead to over-fitting, while using a large bandwidth value may result\n",
            " |      in under-fitting:\n",
            " |      \n",
            " |      .. plot::\n",
            " |          :context: close-figs\n",
            " |      \n",
            " |          >>> ax = s.plot.kde(bw_method=0.3)\n",
            " |      \n",
            " |      .. plot::\n",
            " |          :context: close-figs\n",
            " |      \n",
            " |          >>> ax = s.plot.kde(bw_method=3)\n",
            " |      \n",
            " |      Finally, the `ind` parameter determines the evaluation points for the\n",
            " |      plot of the estimated PDF:\n",
            " |      \n",
            " |      .. plot::\n",
            " |          :context: close-figs\n",
            " |      \n",
            " |          >>> ax = s.plot.kde(ind=[1, 2, 3, 4, 5])\n",
            " |      \n",
            " |      For DataFrame, it works in the same way:\n",
            " |      \n",
            " |      .. plot::\n",
            " |          :context: close-figs\n",
            " |      \n",
            " |          >>> df = pd.DataFrame({\n",
            " |          ...     'x': [1, 2, 2.5, 3, 3.5, 4, 5],\n",
            " |          ...     'y': [4, 4, 4.5, 5, 5.5, 6, 6],\n",
            " |          ... })\n",
            " |          >>> ax = df.plot.kde()\n",
            " |      \n",
            " |      A scalar bandwidth can be specified. Using a small bandwidth value can\n",
            " |      lead to over-fitting, while using a large bandwidth value may result\n",
            " |      in under-fitting:\n",
            " |      \n",
            " |      .. plot::\n",
            " |          :context: close-figs\n",
            " |      \n",
            " |          >>> ax = df.plot.kde(bw_method=0.3)\n",
            " |      \n",
            " |      .. plot::\n",
            " |          :context: close-figs\n",
            " |      \n",
            " |          >>> ax = df.plot.kde(bw_method=3)\n",
            " |      \n",
            " |      Finally, the `ind` parameter determines the evaluation points for the\n",
            " |      plot of the estimated PDF:\n",
            " |      \n",
            " |      .. plot::\n",
            " |          :context: close-figs\n",
            " |      \n",
            " |          >>> ax = df.plot.kde(ind=[1, 2, 3, 4, 5, 6])\n",
            " |  \n",
            " |  line(self, x: 'Hashable | None' = None, y: 'Hashable | None' = None, **kwargs) -> 'PlotAccessor'\n",
            " |      Plot Series or DataFrame as lines.\n",
            " |      \n",
            " |      This function is useful to plot lines using DataFrame's values\n",
            " |      as coordinates.\n",
            " |      \n",
            " |      Parameters\n",
            " |      ----------\n",
            " |      x : label or position, optional\n",
            " |          Allows plotting of one column versus another. If not specified,\n",
            " |          the index of the DataFrame is used.\n",
            " |      y : label or position, optional\n",
            " |          Allows plotting of one column versus another. If not specified,\n",
            " |          all numerical columns are used.\n",
            " |      color : str, array-like, or dict, optional\n",
            " |          The color for each of the DataFrame's columns. Possible values are:\n",
            " |      \n",
            " |          - A single color string referred to by name, RGB or RGBA code,\n",
            " |              for instance 'red' or '#a98d19'.\n",
            " |      \n",
            " |          - A sequence of color strings referred to by name, RGB or RGBA\n",
            " |              code, which will be used for each column recursively. For\n",
            " |              instance ['green','yellow'] each column's line will be filled in\n",
            " |              green or yellow, alternatively. If there is only a single column to\n",
            " |              be plotted, then only the first color from the color list will be\n",
            " |              used.\n",
            " |      \n",
            " |          - A dict of the form {column name : color}, so that each column will be\n",
            " |              colored accordingly. For example, if your columns are called `a` and\n",
            " |              `b`, then passing {'a': 'green', 'b': 'red'} will color lines for\n",
            " |              column `a` in green and lines for column `b` in red.\n",
            " |      \n",
            " |      **kwargs\n",
            " |          Additional keyword arguments are documented in\n",
            " |          :meth:`DataFrame.plot`.\n",
            " |      \n",
            " |      Returns\n",
            " |      -------\n",
            " |      matplotlib.axes.Axes or np.ndarray of them\n",
            " |          An ndarray is returned with one :class:`matplotlib.axes.Axes`\n",
            " |          per column when ``subplots=True``.\n",
            " |      \n",
            " |              See Also\n",
            " |              --------\n",
            " |              matplotlib.pyplot.plot : Plot y versus x as lines and/or markers.\n",
            " |      \n",
            " |              Examples\n",
            " |              --------\n",
            " |      \n",
            " |              .. plot::\n",
            " |                  :context: close-figs\n",
            " |      \n",
            " |                  >>> s = pd.Series([1, 3, 2])\n",
            " |                  >>> s.plot.line()  # doctest: +SKIP\n",
            " |      \n",
            " |              .. plot::\n",
            " |                  :context: close-figs\n",
            " |      \n",
            " |                  The following example shows the populations for some animals\n",
            " |                  over the years.\n",
            " |      \n",
            " |                  >>> df = pd.DataFrame({\n",
            " |                  ...    'pig': [20, 18, 489, 675, 1776],\n",
            " |                  ...    'horse': [4, 25, 281, 600, 1900]\n",
            " |                  ...    }, index=[1990, 1997, 2003, 2009, 2014])\n",
            " |                  >>> lines = df.plot.line()\n",
            " |      \n",
            " |              .. plot::\n",
            " |                 :context: close-figs\n",
            " |      \n",
            " |                 An example with subplots, so an array of axes is returned.\n",
            " |      \n",
            " |                 >>> axes = df.plot.line(subplots=True)\n",
            " |                 >>> type(axes)\n",
            " |                 <class 'numpy.ndarray'>\n",
            " |      \n",
            " |              .. plot::\n",
            " |                 :context: close-figs\n",
            " |      \n",
            " |                 Let's repeat the same example, but specifying colors for\n",
            " |                 each column (in this case, for each animal).\n",
            " |      \n",
            " |                 >>> axes = df.plot.line(\n",
            " |                 ...     subplots=True, color={\"pig\": \"pink\", \"horse\": \"#742802\"}\n",
            " |                 ... )\n",
            " |      \n",
            " |              .. plot::\n",
            " |                  :context: close-figs\n",
            " |      \n",
            " |                  The following example shows the relationship between both\n",
            " |                  populations.\n",
            " |      \n",
            " |                  >>> lines = df.plot.line(x='pig', y='horse')\n",
            " |  \n",
            " |  pie(self, **kwargs) -> 'PlotAccessor'\n",
            " |      Generate a pie plot.\n",
            " |      \n",
            " |      A pie plot is a proportional representation of the numerical data in a\n",
            " |      column. This function wraps :meth:`matplotlib.pyplot.pie` for the\n",
            " |      specified column. If no column reference is passed and\n",
            " |      ``subplots=True`` a pie plot is drawn for each numerical column\n",
            " |      independently.\n",
            " |      \n",
            " |      Parameters\n",
            " |      ----------\n",
            " |      y : int or label, optional\n",
            " |          Label or position of the column to plot.\n",
            " |          If not provided, ``subplots=True`` argument must be passed.\n",
            " |      **kwargs\n",
            " |          Keyword arguments to pass on to :meth:`DataFrame.plot`.\n",
            " |      \n",
            " |      Returns\n",
            " |      -------\n",
            " |      matplotlib.axes.Axes or np.ndarray of them\n",
            " |          A NumPy array is returned when `subplots` is True.\n",
            " |      \n",
            " |      See Also\n",
            " |      --------\n",
            " |      Series.plot.pie : Generate a pie plot for a Series.\n",
            " |      DataFrame.plot : Make plots of a DataFrame.\n",
            " |      \n",
            " |      Examples\n",
            " |      --------\n",
            " |      In the example below we have a DataFrame with the information about\n",
            " |      planet's mass and radius. We pass the 'mass' column to the\n",
            " |      pie function to get a pie plot.\n",
            " |      \n",
            " |      .. plot::\n",
            " |          :context: close-figs\n",
            " |      \n",
            " |          >>> df = pd.DataFrame({'mass': [0.330, 4.87 , 5.97],\n",
            " |          ...                    'radius': [2439.7, 6051.8, 6378.1]},\n",
            " |          ...                   index=['Mercury', 'Venus', 'Earth'])\n",
            " |          >>> plot = df.plot.pie(y='mass', figsize=(5, 5))\n",
            " |      \n",
            " |      .. plot::\n",
            " |          :context: close-figs\n",
            " |      \n",
            " |          >>> plot = df.plot.pie(subplots=True, figsize=(11, 6))\n",
            " |  \n",
            " |  scatter(self, x: 'Hashable', y: 'Hashable', s: 'Hashable | Sequence[Hashable] | None' = None, c: 'Hashable | Sequence[Hashable] | None' = None, **kwargs) -> 'PlotAccessor'\n",
            " |      Create a scatter plot with varying marker point size and color.\n",
            " |      \n",
            " |      The coordinates of each point are defined by two dataframe columns and\n",
            " |      filled circles are used to represent each point. This kind of plot is\n",
            " |      useful to see complex correlations between two variables. Points could\n",
            " |      be for instance natural 2D coordinates like longitude and latitude in\n",
            " |      a map or, in general, any pair of metrics that can be plotted against\n",
            " |      each other.\n",
            " |      \n",
            " |      Parameters\n",
            " |      ----------\n",
            " |      x : int or str\n",
            " |          The column name or column position to be used as horizontal\n",
            " |          coordinates for each point.\n",
            " |      y : int or str\n",
            " |          The column name or column position to be used as vertical\n",
            " |          coordinates for each point.\n",
            " |      s : str, scalar or array-like, optional\n",
            " |          The size of each point. Possible values are:\n",
            " |      \n",
            " |          - A string with the name of the column to be used for marker's size.\n",
            " |      \n",
            " |          - A single scalar so all points have the same size.\n",
            " |      \n",
            " |          - A sequence of scalars, which will be used for each point's size\n",
            " |            recursively. For instance, when passing [2,14] all points size\n",
            " |            will be either 2 or 14, alternatively.\n",
            " |      \n",
            " |      c : str, int or array-like, optional\n",
            " |          The color of each point. Possible values are:\n",
            " |      \n",
            " |          - A single color string referred to by name, RGB or RGBA code,\n",
            " |            for instance 'red' or '#a98d19'.\n",
            " |      \n",
            " |          - A sequence of color strings referred to by name, RGB or RGBA\n",
            " |            code, which will be used for each point's color recursively. For\n",
            " |            instance ['green','yellow'] all points will be filled in green or\n",
            " |            yellow, alternatively.\n",
            " |      \n",
            " |          - A column name or position whose values will be used to color the\n",
            " |            marker points according to a colormap.\n",
            " |      \n",
            " |      **kwargs\n",
            " |          Keyword arguments to pass on to :meth:`DataFrame.plot`.\n",
            " |      \n",
            " |      Returns\n",
            " |      -------\n",
            " |      :class:`matplotlib.axes.Axes` or numpy.ndarray of them\n",
            " |      \n",
            " |      See Also\n",
            " |      --------\n",
            " |      matplotlib.pyplot.scatter : Scatter plot using multiple input data\n",
            " |          formats.\n",
            " |      \n",
            " |      Examples\n",
            " |      --------\n",
            " |      Let's see how to draw a scatter plot using coordinates from the values\n",
            " |      in a DataFrame's columns.\n",
            " |      \n",
            " |      .. plot::\n",
            " |          :context: close-figs\n",
            " |      \n",
            " |          >>> df = pd.DataFrame([[5.1, 3.5, 0], [4.9, 3.0, 0], [7.0, 3.2, 1],\n",
            " |          ...                    [6.4, 3.2, 1], [5.9, 3.0, 2]],\n",
            " |          ...                   columns=['length', 'width', 'species'])\n",
            " |          >>> ax1 = df.plot.scatter(x='length',\n",
            " |          ...                       y='width',\n",
            " |          ...                       c='DarkBlue')\n",
            " |      \n",
            " |      And now with the color determined by a column as well.\n",
            " |      \n",
            " |      .. plot::\n",
            " |          :context: close-figs\n",
            " |      \n",
            " |          >>> ax2 = df.plot.scatter(x='length',\n",
            " |          ...                       y='width',\n",
            " |          ...                       c='species',\n",
            " |          ...                       colormap='viridis')\n",
            " |  \n",
            " |  ----------------------------------------------------------------------\n",
            " |  Methods inherited from pandas.core.base.PandasObject:\n",
            " |  \n",
            " |  __repr__(self) -> 'str'\n",
            " |      Return a string representation for a particular object.\n",
            " |  \n",
            " |  __sizeof__(self) -> 'int'\n",
            " |      Generates the total memory usage for an object that returns\n",
            " |      either a value or Series of values\n",
            " |  \n",
            " |  ----------------------------------------------------------------------\n",
            " |  Methods inherited from pandas.core.accessor.DirNamesMixin:\n",
            " |  \n",
            " |  __dir__(self) -> 'list[str]'\n",
            " |      Provide method name lookup and completion.\n",
            " |      \n",
            " |      Notes\n",
            " |      -----\n",
            " |      Only provide 'public' methods.\n",
            " |  \n",
            " |  ----------------------------------------------------------------------\n",
            " |  Data descriptors inherited from pandas.core.accessor.DirNamesMixin:\n",
            " |  \n",
            " |  __dict__\n",
            " |      dictionary for instance variables (if defined)\n",
            " |  \n",
            " |  __weakref__\n",
            " |      list of weak references to the object (if defined)\n",
            "\n"
          ]
        }
      ]
    },
    {
      "cell_type": "code",
      "source": [],
      "metadata": {
        "id": "_9Ey08SoLRk9"
      },
      "execution_count": 75,
      "outputs": []
    }
  ],
  "metadata": {
    "kernelspec": {
      "display_name": "Python 3",
      "language": "python",
      "name": "python3"
    },
    "language_info": {
      "codemirror_mode": {
        "name": "ipython",
        "version": 3
      },
      "file_extension": ".py",
      "mimetype": "text/x-python",
      "name": "python",
      "nbconvert_exporter": "python",
      "pygments_lexer": "ipython3",
      "version": "3.5.2"
    },
    "colab": {
      "provenance": [],
      "include_colab_link": true
    }
  },
  "nbformat": 4,
  "nbformat_minor": 0
}