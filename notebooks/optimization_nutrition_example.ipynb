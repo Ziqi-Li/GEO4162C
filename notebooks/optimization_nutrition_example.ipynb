{
  "cells": [
    {
      "cell_type": "markdown",
      "metadata": {
        "id": "view-in-github",
        "colab_type": "text"
      },
      "source": [
        "<a href=\"https://colab.research.google.com/github/Ziqi-Li/GEO4162C/blob/spring-24/notebooks/optimization_nutrition_example.ipynb\" target=\"_parent\"><img src=\"https://colab.research.google.com/assets/colab-badge.svg\" alt=\"Open In Colab\"/></a>"
      ]
    },
    {
      "cell_type": "markdown",
      "metadata": {
        "scrolled": true,
        "id": "rfNFtKmcXqkV"
      },
      "source": [
        "### Linear Programming Example\n",
        "\n",
        "**Problem Statement:**\n",
        "\n",
        "A fitness person needs to buy two kinds of foods A and B. It is known that the food contains nutritional ingredients 1, 2, and 3 and the daily necessary amount of the three ingredients is shown in Table 2. How much should he buy each day? Food A and food B, which minimizes the total cost while satisfying the requirements?\n",
        "\n",
        "\n",
        "  Nutrition Info\n",
        "\n",
        "|          | A     | B    | Minimum daily needed  |\n",
        "| -------- | ----- | ---- | -------------------- |\n",
        "| N1    | 10mg    | 4mg    | 20mg                 |\n",
        "| N2    | 5mg     | 5mg    | 20mg                 |\n",
        "| N3    | 2mg     | 6mg    | 12mg                 |\n",
        "| Price | 2 dollars  | 5 dollars  |                      |"
      ]
    },
    {
      "cell_type": "markdown",
      "metadata": {
        "id": "YHUYocfUXqkW"
      },
      "source": [
        "**Decision variables:**\n",
        "x1 and x2 are amount of A and B he needs to buy.\n",
        "\n",
        "**Objective function:**\n",
        "Minimizing the total cost: z = 2x1 + 5x2\n",
        "\n",
        "\n",
        "**Constraints:**\n",
        "\\begin{equation}\n",
        "\\begin{cases}\n",
        "10x_1+4x_2\\geq20&\\\\\\\n",
        "5x_1+5x_2\\geq20&\\\\\\\n",
        "2x_1+6x_2\\geq12&\\\\\\\n",
        "x_1\\geq0,x_2\\geq0\n",
        "\\end{cases}\n",
        "\\end{equation}"
      ]
    },
    {
      "cell_type": "code",
      "source": [
        "pip install -q pulp"
      ],
      "metadata": {
        "colab": {
          "base_uri": "https://localhost:8080/"
        },
        "id": "hvyHmMi4Xuuo",
        "outputId": "7d87b469-d5d9-464b-df30-eeb2697b1fe2"
      },
      "execution_count": null,
      "outputs": [
        {
          "output_type": "stream",
          "name": "stdout",
          "text": [
            "\u001b[2K     \u001b[90m━━━━━━━━━━━━━━━━━━━━━━━━━━━━━━━━━━━━━━━━\u001b[0m \u001b[32m14.3/14.3 MB\u001b[0m \u001b[31m85.0 MB/s\u001b[0m eta \u001b[36m0:00:00\u001b[0m\n",
            "\u001b[?25h"
          ]
        }
      ]
    },
    {
      "cell_type": "code",
      "execution_count": null,
      "metadata": {
        "id": "wWAEMI8AXqkW"
      },
      "outputs": [],
      "source": [
        "from pulp import *"
      ]
    },
    {
      "cell_type": "code",
      "execution_count": null,
      "metadata": {
        "id": "dpCamrvnXqkX"
      },
      "outputs": [],
      "source": [
        "#Declare decision variables\n",
        "x1 = LpVariable(\"x1\", lowBound=0,cat='Integer')\n",
        "x2 = LpVariable(\"x2\", lowBound=0,cat='Integer')"
      ]
    },
    {
      "cell_type": "code",
      "execution_count": null,
      "metadata": {
        "id": "L8zV_YCHXqkX"
      },
      "outputs": [],
      "source": [
        "#Declare a minimization problem\n",
        "prob = LpProblem(\"Nutrition\", LpMinimize)"
      ]
    },
    {
      "cell_type": "code",
      "execution_count": null,
      "metadata": {
        "id": "qEXR9Ts2XqkX"
      },
      "outputs": [],
      "source": [
        "#Objective function\n",
        "prob += 2*x1 + 5*x2"
      ]
    },
    {
      "cell_type": "code",
      "execution_count": null,
      "metadata": {
        "id": "6htL3yTcXqkX"
      },
      "outputs": [],
      "source": [
        "#Add constraints\n",
        "prob += 10*x1 + 4*x2 >= 20\n",
        "prob += 5*x1 + 5*x2 >= 20\n",
        "prob += 2*x1 + 6*x2 >= 12"
      ]
    },
    {
      "cell_type": "code",
      "execution_count": null,
      "metadata": {
        "colab": {
          "base_uri": "https://localhost:8080/"
        },
        "id": "mlydTX0RXqkY",
        "outputId": "8653de02-643e-4f6e-8276-455bfc5c4f91"
      },
      "outputs": [
        {
          "output_type": "stream",
          "name": "stdout",
          "text": [
            "Status: Optimal\n"
          ]
        }
      ],
      "source": [
        "#Solve the problem\n",
        "prob.solve()\n",
        "\n",
        "print(\"Status:\", LpStatus[prob.status])"
      ]
    },
    {
      "cell_type": "code",
      "execution_count": null,
      "metadata": {
        "colab": {
          "base_uri": "https://localhost:8080/"
        },
        "id": "R_5tocMdXqkY",
        "outputId": "dc6a00ee-4fda-49e0-f406-f75641741cb2"
      },
      "outputs": [
        {
          "output_type": "stream",
          "name": "stdout",
          "text": [
            "Objective:  11.0 dollars\n"
          ]
        }
      ],
      "source": [
        "# The minimized objective fuction\n",
        "print(\"Objective: \",value(prob.objective), \"dollars\")"
      ]
    },
    {
      "cell_type": "code",
      "execution_count": null,
      "metadata": {
        "colab": {
          "base_uri": "https://localhost:8080/"
        },
        "id": "0T8ebm2QXqkY",
        "outputId": "d5bcd08b-8a75-4ed4-c12e-afdf80c5f881"
      },
      "outputs": [
        {
          "output_type": "stream",
          "name": "stdout",
          "text": [
            "The optimal amount to buy A is: 3.0\n"
          ]
        }
      ],
      "source": [
        "print(\"The optimal amount to buy A is:\", value(x1))"
      ]
    },
    {
      "cell_type": "code",
      "execution_count": null,
      "metadata": {
        "colab": {
          "base_uri": "https://localhost:8080/"
        },
        "id": "5Op_49KZXqkY",
        "outputId": "2fcd0d79-6add-48f0-8a97-e3c2cdf0b1a5"
      },
      "outputs": [
        {
          "output_type": "stream",
          "name": "stdout",
          "text": [
            "The optimal amount to buy B is: 1.0\n"
          ]
        }
      ],
      "source": [
        "print(\"The optimal amount to buy B is:\", value(x2))"
      ]
    },
    {
      "cell_type": "code",
      "execution_count": null,
      "metadata": {
        "id": "aJh3WBShXqkZ"
      },
      "outputs": [],
      "source": []
    },
    {
      "cell_type": "code",
      "execution_count": null,
      "metadata": {
        "id": "ka_NXRNbXqkZ"
      },
      "outputs": [],
      "source": []
    }
  ],
  "metadata": {
    "kernelspec": {
      "display_name": "Python 3",
      "language": "python",
      "name": "python3"
    },
    "language_info": {
      "codemirror_mode": {
        "name": "ipython",
        "version": 3
      },
      "file_extension": ".py",
      "mimetype": "text/x-python",
      "name": "python",
      "nbconvert_exporter": "python",
      "pygments_lexer": "ipython3",
      "version": "3.7.6"
    },
    "colab": {
      "provenance": [],
      "include_colab_link": true
    }
  },
  "nbformat": 4,
  "nbformat_minor": 0
}