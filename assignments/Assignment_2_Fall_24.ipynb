{
  "nbformat": 4,
  "nbformat_minor": 0,
  "metadata": {
    "colab": {
      "provenance": [],
      "include_colab_link": true
    },
    "kernelspec": {
      "name": "python3",
      "display_name": "Python 3"
    },
    "language_info": {
      "name": "python"
    }
  },
  "cells": [
    {
      "cell_type": "markdown",
      "metadata": {
        "id": "view-in-github",
        "colab_type": "text"
      },
      "source": [
        "<a href=\"https://colab.research.google.com/github/Ziqi-Li/GEO4162C/blob/fall-24/assignments/Assignment_2_Fall_24.ipynb\" target=\"_parent\"><img src=\"https://colab.research.google.com/assets/colab-badge.svg\" alt=\"Open In Colab\"/></a>"
      ]
    },
    {
      "cell_type": "markdown",
      "source": [
        "# Assignment 2\n",
        "Due date/time: Sep 27 Friday 23:59pm\n",
        "\n",
        "**Instruction**: Make a copy of this notebook and read through the questions and descriptions. Write down code/text to perform the analysis.\n",
        "\n",
        "**Submission**: After you finish working on this notebook, on the top menu, click File->Download->Download .ipynb\n",
        "\n",
        "Please submit a notebook named A2_your_name.ipynb on Canvas."
      ],
      "metadata": {
        "id": "sqjesvPPEket"
      }
    },
    {
      "cell_type": "markdown",
      "source": [
        "## Question 1 (20%)\n",
        "\n",
        "\n",
        "Find the coordinates of your hometown city using Google by searching \"City Name coordinates\" (e.g., \"Tempa coordinates\").\n",
        "\n",
        "Find the coordinates of any location on FSU campus.\n",
        "\n",
        "Calculate the Sphrical distance between your home city and FSU campus.\n",
        "\n",
        "If your city is in the West/South, you need to put a minus sign to the coordinate: For example the decimal degree coordinates of London is (51.5072, -0.1276).\n",
        "\n",
        "Use the function `sp_dist(pt_1, pt_2)` given below. Replace `pt_1` and `pt_2` with the coordinates of your home city and London.\n",
        "\n",
        "To do this, Run the below cell without any changes."
      ],
      "metadata": {
        "id": "AjKTOd_qKolS"
      }
    },
    {
      "cell_type": "code",
      "source": [
        "from math import radians,asin,sin,cos,sqrt\n",
        "\n",
        "def sp_dist(pt_1, pt_2):\n",
        "    # pt_1 is the coordinates of location 1\n",
        "    # pt_2 is the coordinates of location 2\n",
        "    # the function will return the distance\n",
        "    lat_1 = radians(pt_1[0])\n",
        "    lat_2 = radians(pt_2[0])\n",
        "    lon_1 = radians(pt_1[1])\n",
        "    lon_2 = radians(pt_2[1])\n",
        "\n",
        "    a = (sin((lat_1 - lat_2)/2))**2 + \\\n",
        "        cos(lat_1) * cos(lat_2) * (sin((lon_1 - lon_2) / 2)) ** 2\n",
        "    c = 2 * asin(sqrt(a))\n",
        "    R = 6371.0 #earth radius in km\n",
        "    dist = R*c\n",
        "\n",
        "    return dist"
      ],
      "metadata": {
        "id": "neuYGd5vMRxI"
      },
      "execution_count": 1,
      "outputs": []
    },
    {
      "cell_type": "markdown",
      "source": [
        "Below is an example how to use this function to calculate distance between Sydney and London, adapt this example to your case."
      ],
      "metadata": {
        "id": "4CoKr9ZZMnWW"
      }
    },
    {
      "cell_type": "code",
      "source": [
        "pt_1 = (-33.33, 151.16) # Sydney\n",
        "pt_2 = (51.51, -0.13) # London\n",
        "\n",
        "\n",
        "sp_dist(pt_1, pt_2) #The unit will be in km"
      ],
      "metadata": {
        "colab": {
          "base_uri": "https://localhost:8080/"
        },
        "id": "U7Nv39wTMiNE",
        "outputId": "a5ce14c0-dd20-40e1-ad01-d733d63ba28d"
      },
      "execution_count": 2,
      "outputs": [
        {
          "output_type": "execute_result",
          "data": {
            "text/plain": [
              "16945.401834333687"
            ]
          },
          "metadata": {},
          "execution_count": 2
        }
      ]
    },
    {
      "cell_type": "markdown",
      "source": [
        "Write your code below:"
      ],
      "metadata": {
        "id": "SteYDT4bMzK9"
      }
    },
    {
      "cell_type": "code",
      "source": [],
      "metadata": {
        "id": "22KqjD9jMyiv"
      },
      "execution_count": 2,
      "outputs": []
    },
    {
      "cell_type": "code",
      "source": [],
      "metadata": {
        "id": "z6ueuoZeWIZ1"
      },
      "execution_count": null,
      "outputs": []
    },
    {
      "cell_type": "code",
      "source": [],
      "metadata": {
        "id": "jkks4unuWIcc"
      },
      "execution_count": null,
      "outputs": []
    },
    {
      "cell_type": "markdown",
      "source": [
        "## Question 2 (80%)\n",
        "\n",
        "\n",
        "For this question, we will perform some spatial analysis to count how many public libraries are in each county of Florida.\n",
        "\n",
        "### Step 1:\n",
        "Read in all locations of public libraries from here:\n",
        "https://github.com/Ziqi-Li/GEO4162C/blob/fall-24/data/Public_Library_Locations.geojson\n",
        "\n",
        "The dataset was originally downloaded fromfrom [**Florida Geospatial Open Data Portal**](https://geodata.floridagio.gov/) at:\n",
        "\n",
        "\n",
        "### Step 2:\n",
        "\n",
        "Similarly, read in the FL's county boundary file from here:\n",
        "https://github.com/Ziqi-Li/GEO4162C/blob/fall-24/data/Florida_Counties.geojson\n",
        "\n",
        "\n",
        "### Step 3:\n",
        "Copy the path to your files, load the data using `geopandas`, and create two GeoDataFrames.\n"
      ],
      "metadata": {
        "id": "_l2YoWF2E45c"
      }
    },
    {
      "cell_type": "markdown",
      "source": [
        "Write your code below:"
      ],
      "metadata": {
        "id": "4MaWfmG2M1sL"
      }
    },
    {
      "cell_type": "code",
      "source": [
        "import geopandas"
      ],
      "metadata": {
        "id": "voUkg4gKEm89"
      },
      "execution_count": null,
      "outputs": []
    },
    {
      "cell_type": "code",
      "source": [
        "url_to_county_file = \"copy your path and paste in here\"\n",
        "\n",
        "counties = geopandas.read_file(url_to_county_file)"
      ],
      "metadata": {
        "id": "zAGE3HW1mUWI"
      },
      "execution_count": null,
      "outputs": []
    },
    {
      "cell_type": "code",
      "source": [
        "url_to_library_file = \"copy your path and paste in here\"\n",
        "\n",
        "libraries = geopandas.read_file(url_to_library_file)"
      ],
      "metadata": {
        "id": "uIUdUOQ6msFI"
      },
      "execution_count": null,
      "outputs": []
    },
    {
      "cell_type": "code",
      "source": [],
      "metadata": {
        "id": "yPYRf06gnIX8"
      },
      "execution_count": null,
      "outputs": []
    },
    {
      "cell_type": "markdown",
      "source": [
        "\n",
        "### Step 4:\n",
        "Review the example in this [notebook](https://github.com/Ziqi-Li/GEO4162C/blob/fall-24/notebooks/Geopandas_for_geometric_operation.ipynb) (specifically the Geometric operation section), to calculate how many library locations are within each county using the given function `count_points_in_polygon()`.\n",
        "\n",
        "You need to change the input of the `count_points_in_polygon()` with the new data we have.\n",
        "\n",
        "The function takes three input:\n",
        "\n",
        "- `polygons`, replace this with our counties GeoDataFrame,\n",
        "- `points`, replace this with our libraries GeoDataFrame, and\n",
        "- `id`, a text ID name in the counties GeoDataFrame. You can use the county name. Check your which column has the county name, and use the string here."
      ],
      "metadata": {
        "id": "OKvtVHJnnHYy"
      }
    },
    {
      "cell_type": "markdown",
      "source": [
        "Run the below line with no changes"
      ],
      "metadata": {
        "id": "IptLTBzWW9uJ"
      }
    },
    {
      "cell_type": "code",
      "source": [
        "def count_points_in_polygon(polygons, points, id_column):\n",
        "    joined = geopandas.sjoin(polygons, points, predicate=\"contains\")\n",
        "    counts = joined.groupby(id_column).size().rename(\"n_points\")\n",
        "    counts = counts.reindex(polygons[id_column]).fillna(0).astype(int)\n",
        "    results = polygons.copy()\n",
        "    results[\"counts\"] = counts.values\n",
        "    return results"
      ],
      "metadata": {
        "id": "v1KGhaV1M4FG"
      },
      "execution_count": null,
      "outputs": []
    },
    {
      "cell_type": "markdown",
      "source": [
        "Input three parameters to `count_points_in_polygon()`\n",
        "\n",
        "Replace A, B, and C with proper parameter input."
      ],
      "metadata": {
        "id": "1qYIHMmHo6-L"
      }
    },
    {
      "cell_type": "code",
      "source": [
        "results = count_points_in_polygon(A, B, C)\n",
        "results"
      ],
      "metadata": {
        "id": "1TpC9QXnM4HY"
      },
      "execution_count": null,
      "outputs": []
    },
    {
      "cell_type": "code",
      "source": [],
      "metadata": {
        "id": "Zw7M69j1nMI2"
      },
      "execution_count": null,
      "outputs": []
    },
    {
      "cell_type": "code",
      "source": [],
      "metadata": {
        "id": "zXGP_5-DXNEO"
      },
      "execution_count": null,
      "outputs": []
    },
    {
      "cell_type": "markdown",
      "source": [
        "### Step 5:\n",
        "Make a map of the number of library locations per county."
      ],
      "metadata": {
        "id": "MMchS9t_nOiv"
      }
    },
    {
      "cell_type": "code",
      "source": [],
      "metadata": {
        "id": "JO_-xUz2nMxM"
      },
      "execution_count": null,
      "outputs": []
    },
    {
      "cell_type": "code",
      "source": [],
      "metadata": {
        "id": "4ke8AQVcXT3X"
      },
      "execution_count": null,
      "outputs": []
    },
    {
      "cell_type": "code",
      "source": [],
      "metadata": {
        "id": "XVG0xZS_XT5g"
      },
      "execution_count": null,
      "outputs": []
    },
    {
      "cell_type": "code",
      "source": [],
      "metadata": {
        "id": "Lyns1hk1XT70"
      },
      "execution_count": null,
      "outputs": []
    }
  ]
}