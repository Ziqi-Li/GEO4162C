{
  "nbformat": 4,
  "nbformat_minor": 0,
  "metadata": {
    "colab": {
      "provenance": [],
      "authorship_tag": "ABX9TyMBbJuUOb4F438VFYd8kBWh",
      "include_colab_link": true
    },
    "kernelspec": {
      "name": "python3",
      "display_name": "Python 3"
    },
    "language_info": {
      "name": "python"
    }
  },
  "cells": [
    {
      "cell_type": "markdown",
      "metadata": {
        "id": "view-in-github",
        "colab_type": "text"
      },
      "source": [
        "<a href=\"https://colab.research.google.com/github/Ziqi-Li/GEO4162C/blob/main/assignments/Assignment_1_Fall_24.ipynb\" target=\"_parent\"><img src=\"https://colab.research.google.com/assets/colab-badge.svg\" alt=\"Open In Colab\"/></a>"
      ]
    },
    {
      "cell_type": "markdown",
      "source": [
        "# Assignment 1\n",
        "Due date/time: Sep 18 Wed 23:59pm\n",
        "\n",
        "**Instruction**: Make a copy of this notebook and read through the questions and descriptions. Write down code/text to perform the analysis.\n",
        "\n",
        "**Submission**: After you finish working on this notebook, click File->Download->Download .ipynb\n",
        "\n",
        "Please submit a notebook named A1_your_name.ipynb on Canvas."
      ],
      "metadata": {
        "id": "JIcoGlhYMnoD"
      }
    },
    {
      "cell_type": "markdown",
      "source": [
        "Detailed Steps:\n",
        "\n",
        "- Step 1: Download Manatee Survey Data from [here](https://geodata.myfwc.com/datasets/968b88db740d4c1eb9b125e7d94f9b17_0/explore?location=27.815838%2C-82.273454%2C6.57).\n",
        "\n",
        "- Step 2: Download Florida county boundaries from [here](https://gis-fdot.opendata.arcgis.com/datasets/0e28ef312008491aa86f90bd9ca7c706/explore?location=29.106435%2C-80.797903%2C6.57)\n",
        "\n",
        "- Step 3: Upload both files to your Google Drive.\n",
        "\n",
        "- Step 4: Link your Google Drive to your Google Colab\n",
        "\n",
        "- Step 5: Read in both data using `geopandas`\n",
        "\n",
        "- Step 6: Check Both data's CRS to see if they are consistent\n",
        "\n",
        "- Step 7: Make a map showing county boundary as the background with manatee locations on top.\n"
      ],
      "metadata": {
        "id": "rOzhOPrwMzhe"
      }
    },
    {
      "cell_type": "code",
      "source": [
        "import geopandas"
      ],
      "metadata": {
        "id": "I1E8pcL_NTiV"
      },
      "execution_count": null,
      "outputs": []
    },
    {
      "cell_type": "code",
      "source": [],
      "metadata": {
        "id": "KXVynNgsNjXr"
      },
      "execution_count": null,
      "outputs": []
    },
    {
      "cell_type": "code",
      "source": [],
      "metadata": {
        "id": "bJPlyDu6NjaV"
      },
      "execution_count": null,
      "outputs": []
    },
    {
      "cell_type": "code",
      "source": [],
      "metadata": {
        "id": "Orjxn1SgNjcw"
      },
      "execution_count": null,
      "outputs": []
    },
    {
      "cell_type": "code",
      "source": [],
      "metadata": {
        "id": "4wVUIThXNjex"
      },
      "execution_count": null,
      "outputs": []
    },
    {
      "cell_type": "code",
      "source": [],
      "metadata": {
        "id": "lFwql6rFNjhE"
      },
      "execution_count": null,
      "outputs": []
    }
  ]
}