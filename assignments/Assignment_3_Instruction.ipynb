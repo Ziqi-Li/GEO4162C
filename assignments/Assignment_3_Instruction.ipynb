{
  "nbformat": 4,
  "nbformat_minor": 0,
  "metadata": {
    "colab": {
      "provenance": [],
      "mount_file_id": "1KP0_8_IFT6-7XUF8_PpgmtdTBcn0bS_c",
      "authorship_tag": "ABX9TyPzx6UaZGq5KdWDhxEWGBCq",
      "include_colab_link": true
    },
    "kernelspec": {
      "name": "python3",
      "display_name": "Python 3"
    },
    "language_info": {
      "name": "python"
    }
  },
  "cells": [
    {
      "cell_type": "markdown",
      "metadata": {
        "id": "view-in-github",
        "colab_type": "text"
      },
      "source": [
        "<a href=\"https://colab.research.google.com/github/Ziqi-Li/GEO4162C/blob/main/assignments/Assignment_3_Instruction.ipynb\" target=\"_parent\"><img src=\"https://colab.research.google.com/assets/colab-badge.svg\" alt=\"Open In Colab\"/></a>"
      ]
    },
    {
      "cell_type": "markdown",
      "source": [
        "# Assignment 3\n",
        "Due date/time: Oct 6 Friday 23:59pm\n",
        "\n",
        "**Instruction**: Make a copy of this notebook and read through the questions and instructions. Write down code/text to perform the analysis.\n",
        "\n",
        "**Submission**: After you finish working on this notebook, click File->Download->Download .ipynb\n",
        "\n",
        "Please submit a notebook named A3_your_name.ipynb on Canvas."
      ],
      "metadata": {
        "id": "sqjesvPPEket"
      }
    },
    {
      "cell_type": "markdown",
      "source": [
        "# Data\n",
        "\n",
        "In this assignment, we will be calculating descriptive statistics and performing a simple correlation analysis on the [CDC's 500 Cities Project](https://data.cdc.gov/500-Cities-Places/500-Cities-City-level-Data-GIS-Friendly-Format-201/dxpw-cm5u) dataset.  \n",
        "\n",
        "Each row is one of the 500 largest cities in the US. Several columns of heath statistics including **% people in a city who are**:\n",
        "\n",
        "- binge drinking\n",
        "- having cancer\n",
        "- having diabetes\n",
        "- are obese\n",
        "- having not good mental health\n",
        "- sleeping <7 hrs\n",
        "\n"
      ],
      "metadata": {
        "id": "nlUts3saotCm"
      }
    },
    {
      "cell_type": "markdown",
      "source": [
        "#Reference\n",
        "\n",
        "Please see the [descriptive statistics](https://github.com/Ziqi-Li/GEO4162C/blob/main/notebooks/Basic_stats_and_census_data_0929.ipynb) demo and the [correlation analysis](https://github.com/Ziqi-Li/GEO4162C/blob/main/notebooks/Correlation_analysis_1002.ipynb) demo as your references."
      ],
      "metadata": {
        "id": "hmQ3lNoGpV67"
      }
    },
    {
      "cell_type": "markdown",
      "source": [
        "Then import all the packages needed to run the analysis"
      ],
      "metadata": {
        "id": "Z14JaGaIzMMK"
      }
    },
    {
      "cell_type": "code",
      "source": [
        "import pandas as pd\n",
        "import matplotlib.pyplot as plt"
      ],
      "metadata": {
        "id": "4JFPjpkorrhr"
      },
      "execution_count": 1,
      "outputs": []
    },
    {
      "cell_type": "markdown",
      "source": [
        "## Question 1 Distribution(50%)\n",
        "\n",
        "**Part 0:** Choose two variables of interest from the data frame `city_health` (e.g. sleep and mental health, but not these two)\n",
        "\n",
        "**Part 1:** Calculate and report the mean, median, and standard deviation of BOTH variables. Describe the results in text. (20%)\n",
        "\n",
        "**Part 2**: Make a histogram for EACH variable. (20%)\n",
        "\n",
        "**Part 3**: Describe BOTH histograms with regard to the variable's central tendency, disperson and skewness. (10%)"
      ],
      "metadata": {
        "id": "AjKTOd_qKolS"
      }
    },
    {
      "cell_type": "code",
      "source": [
        "url = \"https://raw.githubusercontent.com/Ziqi-Li/GEO4162C/main/data/heath_500_cities.csv\"\n",
        "city_health = pd.read_csv(url)"
      ],
      "metadata": {
        "id": "i2bKb2cDKvnw"
      },
      "execution_count": 2,
      "outputs": []
    },
    {
      "cell_type": "code",
      "source": [],
      "metadata": {
        "id": "HuRIs5jRqNDM"
      },
      "execution_count": 2,
      "outputs": []
    },
    {
      "cell_type": "code",
      "source": [],
      "metadata": {
        "id": "IxC0w8FRzdFK"
      },
      "execution_count": 2,
      "outputs": []
    },
    {
      "cell_type": "code",
      "source": [],
      "metadata": {
        "id": "u1susBQczdIr"
      },
      "execution_count": 2,
      "outputs": []
    },
    {
      "cell_type": "code",
      "source": [],
      "metadata": {
        "id": "BOCkP9W7zdMK"
      },
      "execution_count": 2,
      "outputs": []
    },
    {
      "cell_type": "code",
      "source": [],
      "metadata": {
        "id": "sjOsC3p5Kvzt"
      },
      "execution_count": 2,
      "outputs": []
    },
    {
      "cell_type": "markdown",
      "source": [
        "## Question 2 Correlation Analysis (50%)\n",
        "**Part 1.** Make a scatterplot of the two chosen variables. The scatterplot needs to have labels for both x- and y- axis. (20%)\n",
        "\n",
        "**Part 2.** Calculate the Pearsons's correlation coefficient between the two chosen variables (15%)\n",
        "\n",
        "**Part 3.** Make a statistical conclusion on the relationship between the two chosen variables given the evidence from Part 2. Hint: comment on the correlation coefficient and its p-value. (15%)"
      ],
      "metadata": {
        "id": "52nZxKE5L-54"
      }
    },
    {
      "cell_type": "code",
      "source": [],
      "metadata": {
        "id": "v1KGhaV1M4FG"
      },
      "execution_count": 2,
      "outputs": []
    },
    {
      "cell_type": "code",
      "source": [],
      "metadata": {
        "id": "APDrEO1kzfDy"
      },
      "execution_count": 2,
      "outputs": []
    },
    {
      "cell_type": "code",
      "source": [],
      "metadata": {
        "id": "v6Rn9zWTzfG8"
      },
      "execution_count": 2,
      "outputs": []
    },
    {
      "cell_type": "code",
      "source": [],
      "metadata": {
        "id": "PeErxWObzfKy"
      },
      "execution_count": 2,
      "outputs": []
    },
    {
      "cell_type": "code",
      "source": [],
      "metadata": {
        "id": "tbgq4cLmzfOV"
      },
      "execution_count": 2,
      "outputs": []
    },
    {
      "cell_type": "code",
      "source": [],
      "metadata": {
        "id": "Y5vxJcVpzfSJ"
      },
      "execution_count": 2,
      "outputs": []
    },
    {
      "cell_type": "code",
      "source": [],
      "metadata": {
        "id": "1TpC9QXnM4HY"
      },
      "execution_count": 2,
      "outputs": []
    }
  ]
}