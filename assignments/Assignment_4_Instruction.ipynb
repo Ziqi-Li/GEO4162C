{
  "nbformat": 4,
  "nbformat_minor": 0,
  "metadata": {
    "colab": {
      "provenance": [],
      "mount_file_id": "1KP0_8_IFT6-7XUF8_PpgmtdTBcn0bS_c",
      "authorship_tag": "ABX9TyO+E5vUa3Y63Yf7Cyep9XOQ",
      "include_colab_link": true
    },
    "kernelspec": {
      "name": "python3",
      "display_name": "Python 3"
    },
    "language_info": {
      "name": "python"
    }
  },
  "cells": [
    {
      "cell_type": "markdown",
      "metadata": {
        "id": "view-in-github",
        "colab_type": "text"
      },
      "source": [
        "<a href=\"https://colab.research.google.com/github/Ziqi-Li/GEO4162C/blob/main/assignments/Assignment_4_Instruction.ipynb\" target=\"_parent\"><img src=\"https://colab.research.google.com/assets/colab-badge.svg\" alt=\"Open In Colab\"/></a>"
      ]
    },
    {
      "cell_type": "markdown",
      "source": [
        "# Assignment 4\n",
        "**Due date/time:** Oct 27 Friday 23:59pm\n",
        "\n",
        "**Instruction**: Make a copy of this notebook and read through the questions and instructions. Write down code/text to perform the analysis.\n",
        "\n",
        "**Submission**: After you finish working on this notebook, click File->Download->Download .ipynb\n",
        "\n",
        "Please submit a notebook named A4_your_name.ipynb on Canvas."
      ],
      "metadata": {
        "id": "sqjesvPPEket"
      }
    },
    {
      "cell_type": "markdown",
      "source": [
        "# Data\n",
        "In this assignment, we will be working with **Census Tract Level State Maps of the Modified Retail Food Environment Index (mRFEI)**.\n",
        "\n",
        "The mRFEI measures the number of healthy and less healthy food retailers within census tracts across each state as defined by typical food offerings in specific types of retail stores (e.g., supermarkets, convenience stores, or fast food restaurants)."
      ],
      "metadata": {
        "id": "9OxTE1dgw9VJ"
      }
    },
    {
      "cell_type": "markdown",
      "source": [
        "Healthy food retailers include supermarkets, larger grocery stores, supercenters, and produce stores within census tracts or 1⁄2 mile from the tract boundary.\n",
        "\n",
        "In short, the higher the mRFEI index, the better access to health food stores.\n",
        "\n",
        "The full description and scope can be found here: [CDC's mRFEI](https://www.cdc.gov/obesity/downloads/census-tract-level-state-maps-mrfei_TAG508.pdf)"
      ],
      "metadata": {
        "id": "JRGWdoO2xDLm"
      }
    },
    {
      "cell_type": "code",
      "source": [
        "pip install -q libpysal"
      ],
      "metadata": {
        "id": "RoOcg6NB1k6C"
      },
      "execution_count": null,
      "outputs": []
    },
    {
      "cell_type": "code",
      "source": [
        "pip install -q splot"
      ],
      "metadata": {
        "id": "UsNjjDvn1s9X"
      },
      "execution_count": null,
      "outputs": []
    },
    {
      "cell_type": "markdown",
      "source": [
        "#Reference\n",
        "\n",
        "Please see the [spatial autocorrelation](https://github.com/Ziqi-Li/GEO4162C/blob/main/notebooks/Spatial_autocorrelation_1013.ipynb) demo for your reference."
      ],
      "metadata": {
        "id": "hmQ3lNoGpV67"
      }
    },
    {
      "cell_type": "markdown",
      "source": [
        "Then import all the packages needed to run the analysis"
      ],
      "metadata": {
        "id": "Z14JaGaIzMMK"
      }
    },
    {
      "cell_type": "code",
      "source": [
        "import pandas as pd\n",
        "import geopandas as gpd\n",
        "import matplotlib.pyplot as plt\n",
        "\n",
        "from libpysal.weights.contiguity import Queen\n",
        "from splot.esda import moran_scatterplot,plot_moran,lisa_cluster\n",
        "from esda.moran import Moran, Moran_Local\n",
        "import splot"
      ],
      "metadata": {
        "id": "4JFPjpkorrhr"
      },
      "execution_count": null,
      "outputs": []
    },
    {
      "cell_type": "markdown",
      "source": [
        "Read in data as a `GeoDataFrame`"
      ],
      "metadata": {
        "id": "GUYpwfX16JyH"
      }
    },
    {
      "cell_type": "code",
      "source": [
        "path = \"https://raw.githubusercontent.com/Ziqi-Li/GEO4162C/main/data/mrfei_leon.geojson\"\n",
        "\n",
        "mrfei_leon = gpd.read_file(path)"
      ],
      "metadata": {
        "id": "9uwkOU6Y2n13"
      },
      "execution_count": null,
      "outputs": []
    },
    {
      "cell_type": "markdown",
      "source": [
        "## Question 1 Global Moran's I(50%)\n",
        "\n",
        "**Part 0**: Make a mape of mRFEI using a single colormap (e.g. Red or Blue) with lightness represents the value. (10%)\n",
        "\n",
        "**Part 1:** Calculate the Global Moran's I (10%)\n",
        "\n",
        "**Part 2**: Calculate the Global Moran's I's p_value based on 500 permutations. (10%)\n",
        "\n",
        "**Part 3**:  Make a statistical conclusion on Global Moran's I. Comment on the Moran's I value and its p-value. (20%)"
      ],
      "metadata": {
        "id": "AjKTOd_qKolS"
      }
    },
    {
      "cell_type": "code",
      "source": [],
      "metadata": {
        "id": "GFmdpkXS6eDk"
      },
      "execution_count": null,
      "outputs": []
    },
    {
      "cell_type": "code",
      "source": [],
      "metadata": {
        "id": "E2oCRGfY6eGE"
      },
      "execution_count": null,
      "outputs": []
    },
    {
      "cell_type": "code",
      "source": [],
      "metadata": {
        "id": "Km09fdzt6eJM"
      },
      "execution_count": null,
      "outputs": []
    },
    {
      "cell_type": "code",
      "source": [],
      "metadata": {
        "id": "5J_oNVyD6eLW"
      },
      "execution_count": null,
      "outputs": []
    },
    {
      "cell_type": "code",
      "source": [],
      "metadata": {
        "id": "fT8hEfry6eNk"
      },
      "execution_count": null,
      "outputs": []
    },
    {
      "cell_type": "code",
      "source": [],
      "metadata": {
        "id": "JkWK_cFZ6eP9"
      },
      "execution_count": null,
      "outputs": []
    },
    {
      "cell_type": "markdown",
      "source": [
        "## Question 2 Moran Scatterplot and Hot/Cold spot analysis (50%)\n",
        "**Part 1.** Make a Moran Scatterplot (color coded version). The scatterplot needs to have labels for both x- and y- axis. (20%)\n",
        "\n",
        "**Part 2.** Make a map of hotspots-coldspots (again, based on 500 null permutations, and p=0.05) and make a statistical conclusion and describe the map you see. (30%)"
      ],
      "metadata": {
        "id": "52nZxKE5L-54"
      }
    },
    {
      "cell_type": "code",
      "source": [],
      "metadata": {
        "id": "v6Rn9zWTzfG8"
      },
      "execution_count": null,
      "outputs": []
    },
    {
      "cell_type": "code",
      "source": [],
      "metadata": {
        "id": "b6lKHCAS6fSR"
      },
      "execution_count": null,
      "outputs": []
    },
    {
      "cell_type": "code",
      "source": [],
      "metadata": {
        "id": "YwFezZdG6fWI"
      },
      "execution_count": null,
      "outputs": []
    },
    {
      "cell_type": "code",
      "source": [],
      "metadata": {
        "id": "lFA9Q3016fY4"
      },
      "execution_count": null,
      "outputs": []
    }
  ]
}