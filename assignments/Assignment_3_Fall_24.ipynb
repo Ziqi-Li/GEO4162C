{
  "cells": [
    {
      "cell_type": "markdown",
      "metadata": {
        "id": "view-in-github",
        "colab_type": "text"
      },
      "source": [
        "<a href=\"https://colab.research.google.com/github/Ziqi-Li/GEO4162C/blob/fall-24/assignments/Assignment_3_Fall_24.ipynb\" target=\"_parent\"><img src=\"https://colab.research.google.com/assets/colab-badge.svg\" alt=\"Open In Colab\"/></a>"
      ]
    },
    {
      "cell_type": "markdown",
      "metadata": {
        "id": "NPapLifbYG6s"
      },
      "source": [
        "# Assignment 3\n",
        "Due date/time: Oct 17 Thur 23:59pm\n",
        "\n",
        "Instruction: Make a copy of this notebook and read through the questions and descriptions. Write down code/text to perform the analysis.\n",
        "\n",
        "Submission: After you finish working on this notebook, on the top menu, click File->Download->Download .ipynb\n",
        "\n",
        "Please submit a notebook named A3_your_name.ipynb on Canvas."
      ]
    },
    {
      "cell_type": "markdown",
      "source": [
        "In this notebook, you will replicate the analysis in [Point_Pattern_Analysis_Crime_Example.ipynb](https://https://github.com/Ziqi-Li/GEO4162C/blob/fall-24/notebooks/Point_Pattern_Analysis_Crime_Example.ipynb) and extend it to a point pattern analysis of risk shelter locations.\n",
        "\n",
        "You will have two specific tasks:\n",
        "1. Apply Kernel Density Estimation to visualize clusters of shelter locations with approproriate bandwidth. (Please experiment with a few bandwidth paratemers, and choose the best one). Add a base map using `contextily`(50%).\n",
        "\n",
        "2. Calculate distance functions G, F, J and K, and make conclusion whether the shelter distribution is clustered, regular or similar to random accordingly. (50%)"
      ],
      "metadata": {
        "id": "bEjib80a2Gne"
      }
    },
    {
      "cell_type": "markdown",
      "source": [
        "### Install packages that are not directly available on Colab."
      ],
      "metadata": {
        "id": "2-NxOXly3p-S"
      }
    },
    {
      "cell_type": "code",
      "source": [
        "pip install -q https://github.com/Ziqi-Li/pointpats/archive/v2.3.zip"
      ],
      "metadata": {
        "id": "QY4QhZ8XlY2b",
        "colab": {
          "base_uri": "https://localhost:8080/"
        },
        "outputId": "9261a249-4e3d-4273-909e-46d88ab803b2"
      },
      "execution_count": 12,
      "outputs": [
        {
          "output_type": "stream",
          "name": "stdout",
          "text": [
            "  Preparing metadata (setup.py) ... \u001b[?25l\u001b[?25hdone\n"
          ]
        }
      ]
    },
    {
      "cell_type": "code",
      "source": [
        "pip install -q contextily"
      ],
      "metadata": {
        "id": "GGHoUI4y3wrw"
      },
      "execution_count": 13,
      "outputs": []
    },
    {
      "cell_type": "markdown",
      "metadata": {
        "id": "vMG5wd3LYG6u"
      },
      "source": [
        "### Import all the packages needed"
      ]
    },
    {
      "cell_type": "code",
      "execution_count": 14,
      "metadata": {
        "id": "sQ2d-lifYG6u"
      },
      "outputs": [],
      "source": [
        "import geopandas\n",
        "import seaborn\n",
        "import contextily as cx #as is alias, so intead of calling contextily, you will have a shorthand name cx.\n",
        "import matplotlib.pyplot as plt #same for this.\n",
        "\n",
        "from pointpats import distance_statistics as stats\n",
        "\n",
        "from pointpats import PointPattern, PoissonPointProcess\n",
        "\n",
        "import numpy as np"
      ]
    },
    {
      "cell_type": "markdown",
      "metadata": {
        "id": "SlL-KDP8YG6w"
      },
      "source": [
        "## Data\n",
        "The shelter data can be directly read in as follows, you should then work on this `shelter_data` GeoDataFrame."
      ]
    },
    {
      "cell_type": "code",
      "execution_count": 15,
      "metadata": {
        "id": "dXZBnB1IYG6x"
      },
      "outputs": [],
      "source": [
        "path = \"https://raw.githubusercontent.com/Ziqi-Li/GEO4162C/refs/heads/fall-24/data/risk_shelter_locations.geojson\"\n",
        "\n",
        "shelter_data = geopandas.read_file(path)"
      ]
    },
    {
      "cell_type": "markdown",
      "source": [
        "## Your code should start here:"
      ],
      "metadata": {
        "id": "bK1Ay8dO3-bO"
      }
    },
    {
      "cell_type": "code",
      "source": [],
      "metadata": {
        "id": "FiZmycVs4AK3"
      },
      "execution_count": 15,
      "outputs": []
    },
    {
      "cell_type": "code",
      "source": [],
      "metadata": {
        "id": "qwYG3sbV4ApL"
      },
      "execution_count": 15,
      "outputs": []
    },
    {
      "cell_type": "code",
      "source": [],
      "metadata": {
        "id": "gD6ov8ge4Arg"
      },
      "execution_count": 15,
      "outputs": []
    },
    {
      "cell_type": "code",
      "source": [],
      "metadata": {
        "id": "vNQDCi9K4At4"
      },
      "execution_count": 15,
      "outputs": []
    },
    {
      "cell_type": "code",
      "source": [],
      "metadata": {
        "id": "AWIQmg364Av8"
      },
      "execution_count": 15,
      "outputs": []
    },
    {
      "cell_type": "code",
      "source": [],
      "metadata": {
        "id": "zTxM9_-04AyS"
      },
      "execution_count": 15,
      "outputs": []
    },
    {
      "cell_type": "code",
      "source": [],
      "metadata": {
        "id": "Cmz7QagY4A0o"
      },
      "execution_count": 15,
      "outputs": []
    },
    {
      "cell_type": "code",
      "source": [],
      "metadata": {
        "id": "SuDzu_Cz4A3A"
      },
      "execution_count": 15,
      "outputs": []
    }
  ],
  "metadata": {
    "kernelspec": {
      "display_name": "Python 3",
      "language": "python",
      "name": "python3"
    },
    "language_info": {
      "codemirror_mode": {
        "name": "ipython",
        "version": 3
      },
      "file_extension": ".py",
      "mimetype": "text/x-python",
      "name": "python",
      "nbconvert_exporter": "python",
      "pygments_lexer": "ipython3",
      "version": "3.7.6"
    },
    "colab": {
      "provenance": [],
      "include_colab_link": true
    }
  },
  "nbformat": 4,
  "nbformat_minor": 0
}