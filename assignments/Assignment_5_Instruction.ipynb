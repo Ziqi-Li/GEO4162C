{
  "cells": [
    {
      "cell_type": "markdown",
      "metadata": {
        "id": "view-in-github",
        "colab_type": "text"
      },
      "source": [
        "<a href=\"https://colab.research.google.com/github/Ziqi-Li/GEO4162C/blob/spring-24/assignments/Assignment_5_Instruction.ipynb\" target=\"_parent\"><img src=\"https://colab.research.google.com/assets/colab-badge.svg\" alt=\"Open In Colab\"/></a>"
      ]
    },
    {
      "cell_type": "markdown",
      "source": [
        "# Assignment 5\n",
        "\n",
        "**Due date/time:** Apr 5 Friday 23:59pm\n",
        "\n",
        "**Instruction**: Make a copy of this notebook and read through the questions and descriptions. Write down code/text to perform the analysis.\n",
        "\n",
        "**Submission**: After you finish working on this notebook, click File->Download->Download .ipynb\n",
        "\n",
        "Please submit a notebook named A5_your_name.ipynb on Canvas."
      ],
      "metadata": {
        "id": "VojlDKlW7NwS"
      }
    },
    {
      "cell_type": "markdown",
      "metadata": {
        "id": "3E_Lh2rIsYJS"
      },
      "source": [
        "### Q1 (30%).\n",
        "\n",
        "A company makes two products (X and Y) using two machines (A and B). Each unit of X that is produced requires 40 minutes processing time on machine A and 25 minutes processing time on machine B. Each unit of Y that is produced requires 25 minutes processing time on machine A and 30 minutes processing time on machine B.\n",
        "\n",
        "Available processing time on machine A is 45 hours and on machine B is 40 hours.\n",
        "\n",
        "The demand for X is 30 units and for Y is 20 units. Company policy is to meet the demand but also maximize the combined sum of the units of X and the units of Y produced. Also note that machines only able to produce whole units (integer).\n",
        "\n",
        "Formulate the problem of deciding how much of each product to make as a linear program.\n",
        "\n",
        "Solve this linear program using pulp with the help of [this example](https://github.com/Ziqi-Li/GEO4162C/blob/spring-24/notebooks/optimization_nutrition_example.ipynb).\n",
        "\n",
        "Hint: It might be useful to create a table similar to the one in the example from the problem description. Also, ensure that you are aware of the description mentioning hours and minutes;,it would be useful to use a single unit for time.\n",
        "\n",
        "\n",
        "Along with the code, also report these values in your notebook:\n",
        "- The objective value under optimality (10%)\n",
        "- How many units of X will be produced under optimality (10%)\n",
        "- How many units of Y will be produced under optimality (10%)\n",
        "    "
      ]
    },
    {
      "cell_type": "code",
      "execution_count": null,
      "metadata": {
        "id": "AcA4fkbGsYJW",
        "outputId": "adb0fc6c-d59d-466a-dc76-652de2cc3bd3",
        "colab": {
          "base_uri": "https://localhost:8080/"
        }
      },
      "outputs": [
        {
          "output_type": "stream",
          "name": "stdout",
          "text": [
            "\u001b[2K     \u001b[90m━━━━━━━━━━━━━━━━━━━━━━━━━━━━━━━━━━━━━━━━\u001b[0m \u001b[32m17.7/17.7 MB\u001b[0m \u001b[31m31.3 MB/s\u001b[0m eta \u001b[36m0:00:00\u001b[0m\n",
            "\u001b[?25h"
          ]
        }
      ],
      "source": [
        "pip install -q pulp"
      ]
    },
    {
      "cell_type": "code",
      "source": [],
      "metadata": {
        "id": "j-vS7eAu6Qrb"
      },
      "execution_count": null,
      "outputs": []
    },
    {
      "cell_type": "code",
      "source": [],
      "metadata": {
        "id": "RbjL_nPg7blA"
      },
      "execution_count": null,
      "outputs": []
    },
    {
      "cell_type": "code",
      "source": [],
      "metadata": {
        "id": "R6IiPXF-7bm-"
      },
      "execution_count": null,
      "outputs": []
    },
    {
      "cell_type": "code",
      "source": [],
      "metadata": {
        "id": "PRiEL8hj6Qtw"
      },
      "execution_count": null,
      "outputs": []
    },
    {
      "cell_type": "code",
      "source": [],
      "metadata": {
        "id": "hbvtTIHO6QwH"
      },
      "execution_count": null,
      "outputs": []
    },
    {
      "cell_type": "markdown",
      "metadata": {
        "id": "llvdpDEVsYJW"
      },
      "source": [
        "### Q2 (70%)\n",
        "\n",
        "Choose an appropriate spatial optimization technique to solve the below problem.\n",
        "\n",
        "**Problem**: Suppose the city is planning **5** farmers markets, where should they put the markets so to minimize the total distance travelled to these locations over the population.\n",
        "\n",
        "You are given some code to fetch the data from the census website. You need to join the census table `leon_df` with the tract polygons `leon_tract` first before the optimization.\n",
        "\n",
        "\n",
        "Replicate what we did with the [Georgia example](https://github.com/Ziqi-Li/GEO4162C/blob/spring-24/notebooks/p_median.ipynb), using the column *total_population* as the demand along with the distance between census tracts to solve this problem. There are 68 census tracts with population attached (Hint: replace 172 in the demand and facility initializations (in our example) to 68).\n",
        "\n",
        "\n",
        "Along with the code, also report these in your notebook:\n",
        "- Which optimization method should be used?\n",
        "- Where (which census tract) should we place the farmer's markets?\n",
        "- Map the location of the farmer's markets on top of the population map, similar to the in-class example.\n",
        "\n",
        "Breakdown of credits:\n",
        "1. Using census API to correctly get the data and to join with TIGER census geometries (10%)\n",
        "2. Solve the optimization problem (50%)\n",
        "3. Report correct results (10%)\n"
      ]
    },
    {
      "cell_type": "code",
      "execution_count": null,
      "metadata": {
        "id": "s6iv5kjGsYJW"
      },
      "outputs": [],
      "source": [
        "pip install -q census"
      ]
    },
    {
      "cell_type": "code",
      "source": [
        "from census import Census\n",
        "import pandas as pd\n",
        "import geopandas as gpd"
      ],
      "metadata": {
        "id": "PaghDh-_ugfK"
      },
      "execution_count": null,
      "outputs": []
    },
    {
      "cell_type": "code",
      "source": [
        "census_api_key = \"0ed8bfc03db7e7bf1b990114c59b0840650c4fc7\"#\"REPLACE_THIS_WITH_YOUR_OWN_KEY\""
      ],
      "metadata": {
        "id": "h59agoMdvAS9"
      },
      "execution_count": null,
      "outputs": []
    },
    {
      "cell_type": "code",
      "source": [
        "c = Census(census_api_key)"
      ],
      "metadata": {
        "id": "e_reeR89vCIU"
      },
      "execution_count": null,
      "outputs": []
    },
    {
      "cell_type": "code",
      "source": [
        "leon_census = c.acs5.state_county_tract(fields = ('NAME', 'B01003_001E'),\n",
        "                                      state_fips = 12,\n",
        "                                      county_fips = \"073\",\n",
        "                                      tract = \"*\",\n",
        "                                      year = 2019)\n",
        "\n",
        "leon_df = pd.DataFrame(leon_census)\n",
        "leon_df = leon_df.rename(columns={\"B01003_001E\": \"total_population\"})"
      ],
      "metadata": {
        "id": "FU-WDn9vvEM0"
      },
      "execution_count": null,
      "outputs": []
    },
    {
      "cell_type": "code",
      "source": [
        "leon_tract = gpd.read_file(\"https://www2.census.gov/geo/tiger/TIGER2010/TRACT/2010/tl_2010_12073_tract10.zip\")"
      ],
      "metadata": {
        "id": "imQ138Fsvd4H"
      },
      "execution_count": null,
      "outputs": []
    },
    {
      "cell_type": "markdown",
      "source": [
        "Please go from here."
      ],
      "metadata": {
        "id": "Hv0cQmTu6yeP"
      }
    },
    {
      "cell_type": "code",
      "source": [],
      "metadata": {
        "id": "WEDKkDHH6xhu"
      },
      "execution_count": null,
      "outputs": []
    },
    {
      "cell_type": "code",
      "source": [],
      "metadata": {
        "id": "sJXEMrlB6kBI"
      },
      "execution_count": null,
      "outputs": []
    }
  ],
  "metadata": {
    "kernelspec": {
      "display_name": "Python 3",
      "language": "python",
      "name": "python3"
    },
    "language_info": {
      "codemirror_mode": {
        "name": "ipython",
        "version": 3
      },
      "file_extension": ".py",
      "mimetype": "text/x-python",
      "name": "python",
      "nbconvert_exporter": "python",
      "pygments_lexer": "ipython3",
      "version": "3.7.6"
    },
    "colab": {
      "provenance": [],
      "include_colab_link": true
    }
  },
  "nbformat": 4,
  "nbformat_minor": 0
}